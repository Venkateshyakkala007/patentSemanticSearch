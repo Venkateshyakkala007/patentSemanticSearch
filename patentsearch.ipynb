{
 "cells": [
  {
   "cell_type": "code",
   "execution_count": 406,
   "metadata": {},
   "outputs": [],
   "source": [
    "import os\n",
    "import json"
   ]
  },
  {
   "cell_type": "code",
   "execution_count": 407,
   "metadata": {},
   "outputs": [
    {
     "name": "stdout",
     "output_type": "stream",
     "text": [
      "Requirement already satisfied: sentence-transformers in c:\\users\\venkatesh\\appdata\\local\\programs\\python\\python311\\lib\\site-packages (2.2.2)Note: you may need to restart the kernel to use updated packages.\n",
      "\n",
      "Requirement already satisfied: transformers<5.0.0,>=4.6.0 in c:\\users\\venkatesh\\appdata\\local\\programs\\python\\python311\\lib\\site-packages (from sentence-transformers) (4.36.2)\n",
      "Requirement already satisfied: tqdm in c:\\users\\venkatesh\\appdata\\local\\programs\\python\\python311\\lib\\site-packages (from sentence-transformers) (4.66.1)\n",
      "Requirement already satisfied: torch>=1.6.0 in c:\\users\\venkatesh\\appdata\\local\\programs\\python\\python311\\lib\\site-packages (from sentence-transformers) (2.1.2)\n",
      "Requirement already satisfied: torchvision in c:\\users\\venkatesh\\appdata\\local\\programs\\python\\python311\\lib\\site-packages (from sentence-transformers) (0.16.2)\n",
      "Requirement already satisfied: numpy in c:\\users\\venkatesh\\appdata\\local\\programs\\python\\python311\\lib\\site-packages (from sentence-transformers) (1.26.2)\n",
      "Requirement already satisfied: scikit-learn in c:\\users\\venkatesh\\appdata\\local\\programs\\python\\python311\\lib\\site-packages (from sentence-transformers) (1.3.2)\n",
      "Requirement already satisfied: scipy in c:\\users\\venkatesh\\appdata\\local\\programs\\python\\python311\\lib\\site-packages (from sentence-transformers) (1.11.4)\n",
      "Requirement already satisfied: nltk in c:\\users\\venkatesh\\appdata\\local\\programs\\python\\python311\\lib\\site-packages (from sentence-transformers) (3.8.1)\n",
      "Requirement already satisfied: sentencepiece in c:\\users\\venkatesh\\appdata\\local\\programs\\python\\python311\\lib\\site-packages (from sentence-transformers) (0.1.99)\n",
      "Requirement already satisfied: huggingface-hub>=0.4.0 in c:\\users\\venkatesh\\appdata\\local\\programs\\python\\python311\\lib\\site-packages (from sentence-transformers) (0.20.1)\n",
      "Requirement already satisfied: filelock in c:\\users\\venkatesh\\appdata\\local\\programs\\python\\python311\\lib\\site-packages (from huggingface-hub>=0.4.0->sentence-transformers) (3.13.1)\n",
      "Requirement already satisfied: fsspec>=2023.5.0 in c:\\users\\venkatesh\\appdata\\local\\programs\\python\\python311\\lib\\site-packages (from huggingface-hub>=0.4.0->sentence-transformers) (2023.12.2)\n",
      "Requirement already satisfied: requests in c:\\users\\venkatesh\\appdata\\local\\programs\\python\\python311\\lib\\site-packages (from huggingface-hub>=0.4.0->sentence-transformers) (2.31.0)\n",
      "Requirement already satisfied: pyyaml>=5.1 in c:\\users\\venkatesh\\appdata\\local\\programs\\python\\python311\\lib\\site-packages (from huggingface-hub>=0.4.0->sentence-transformers) (6.0.1)\n",
      "Requirement already satisfied: typing-extensions>=3.7.4.3 in c:\\users\\venkatesh\\appdata\\local\\programs\\python\\python311\\lib\\site-packages (from huggingface-hub>=0.4.0->sentence-transformers) (4.9.0)\n",
      "Requirement already satisfied: packaging>=20.9 in c:\\users\\venkatesh\\appdata\\roaming\\python\\python311\\site-packages (from huggingface-hub>=0.4.0->sentence-transformers) (23.2)\n",
      "Requirement already satisfied: sympy in c:\\users\\venkatesh\\appdata\\local\\programs\\python\\python311\\lib\\site-packages (from torch>=1.6.0->sentence-transformers) (1.12)\n",
      "Requirement already satisfied: networkx in c:\\users\\venkatesh\\appdata\\local\\programs\\python\\python311\\lib\\site-packages (from torch>=1.6.0->sentence-transformers) (3.2.1)\n",
      "Requirement already satisfied: jinja2 in c:\\users\\venkatesh\\appdata\\local\\programs\\python\\python311\\lib\\site-packages (from torch>=1.6.0->sentence-transformers) (3.1.2)\n",
      "Requirement already satisfied: colorama in c:\\users\\venkatesh\\appdata\\local\\programs\\python\\python311\\lib\\site-packages (from tqdm->sentence-transformers) (0.4.6)\n",
      "Requirement already satisfied: regex!=2019.12.17 in c:\\users\\venkatesh\\appdata\\local\\programs\\python\\python311\\lib\\site-packages (from transformers<5.0.0,>=4.6.0->sentence-transformers) (2023.10.3)\n",
      "Requirement already satisfied: tokenizers<0.19,>=0.14 in c:\\users\\venkatesh\\appdata\\local\\programs\\python\\python311\\lib\\site-packages (from transformers<5.0.0,>=4.6.0->sentence-transformers) (0.15.0)\n",
      "Requirement already satisfied: safetensors>=0.3.1 in c:\\users\\venkatesh\\appdata\\local\\programs\\python\\python311\\lib\\site-packages (from transformers<5.0.0,>=4.6.0->sentence-transformers) (0.4.1)\n",
      "Requirement already satisfied: click in c:\\users\\venkatesh\\appdata\\local\\programs\\python\\python311\\lib\\site-packages (from nltk->sentence-transformers) (8.1.7)\n",
      "Requirement already satisfied: joblib in c:\\users\\venkatesh\\appdata\\local\\programs\\python\\python311\\lib\\site-packages (from nltk->sentence-transformers) (1.3.2)\n",
      "Requirement already satisfied: threadpoolctl>=2.0.0 in c:\\users\\venkatesh\\appdata\\local\\programs\\python\\python311\\lib\\site-packages (from scikit-learn->sentence-transformers) (3.2.0)\n",
      "Requirement already satisfied: pillow!=8.3.*,>=5.3.0 in c:\\users\\venkatesh\\appdata\\local\\programs\\python\\python311\\lib\\site-packages (from torchvision->sentence-transformers) (10.1.0)\n",
      "Requirement already satisfied: MarkupSafe>=2.0 in c:\\users\\venkatesh\\appdata\\local\\programs\\python\\python311\\lib\\site-packages (from jinja2->torch>=1.6.0->sentence-transformers) (2.1.3)\n",
      "Requirement already satisfied: charset-normalizer<4,>=2 in c:\\users\\venkatesh\\appdata\\local\\programs\\python\\python311\\lib\\site-packages (from requests->huggingface-hub>=0.4.0->sentence-transformers) (3.2.0)\n",
      "Requirement already satisfied: idna<4,>=2.5 in c:\\users\\venkatesh\\appdata\\local\\programs\\python\\python311\\lib\\site-packages (from requests->huggingface-hub>=0.4.0->sentence-transformers) (3.4)\n",
      "Requirement already satisfied: urllib3<3,>=1.21.1 in c:\\users\\venkatesh\\appdata\\local\\programs\\python\\python311\\lib\\site-packages (from requests->huggingface-hub>=0.4.0->sentence-transformers) (2.0.4)\n",
      "Requirement already satisfied: certifi>=2017.4.17 in c:\\users\\venkatesh\\appdata\\local\\programs\\python\\python311\\lib\\site-packages (from requests->huggingface-hub>=0.4.0->sentence-transformers) (2023.7.22)\n",
      "Requirement already satisfied: mpmath>=0.19 in c:\\users\\venkatesh\\appdata\\local\\programs\\python\\python311\\lib\\site-packages (from sympy->torch>=1.6.0->sentence-transformers) (1.3.0)\n"
     ]
    },
    {
     "name": "stderr",
     "output_type": "stream",
     "text": [
      "\n",
      "[notice] A new release of pip available: 22.3.1 -> 23.3.2\n",
      "[notice] To update, run: python.exe -m pip install --upgrade pip\n"
     ]
    }
   ],
   "source": [
    "%pip install -U sentence-transformers"
   ]
  },
  {
   "cell_type": "code",
   "execution_count": 408,
   "metadata": {},
   "outputs": [],
   "source": [
    "from sentence_transformers import SentenceTransformer\n",
    "model = SentenceTransformer('all-MiniLM-L6-v2')\n"
   ]
  },
  {
   "cell_type": "code",
   "execution_count": 409,
   "metadata": {},
   "outputs": [],
   "source": [
    "import pandas as pd\n",
    "import numpy as np \n"
   ]
  },
  {
   "cell_type": "markdown",
   "metadata": {},
   "source": [
    "# The Meaning of Content of every field."
   ]
  },
  {
   "cell_type": "markdown",
   "metadata": {},
   "source": [
    "patent_number: The unique identifier assigned to a patent.\n",
    "\n",
    "publication_id: Identifier for the publication of the patent.\n",
    "\n",
    "family_id: Identifier for the patent family to which the patent belongs. A patent family includes multiple patents related to the same invention filed in different countries.\n",
    "\n",
    "publication_date: The date when the patent is published.\n",
    "\n",
    "titles: A list of titles associated with the patent. Titles may be in different languages.\n",
    "\n",
    "abstracts: A list of abstracts summarizing the content of the patent.\n",
    "\n",
    "Meaning : An abstract in the context of a patent refers to a concise summary of the patent's content. It is a brief overview that provides a snapshot of the invention or innovation described in the patent document. The purpose of the abstract is to give readers a quick understanding of what the patent covers without having to read the entire document.\n",
    "\n",
    "claims: The claims section of the patent, which defines the legal scope of the invention.\n",
    "\n",
    "Meaning :  In summary, the claims section is the heart of a patent document, providing a precise and legally binding definition of the invention's scope. Inventors and patent drafters carefully craft claims to protect the core aspects of their innovation while navigating the requirements of patent law.\n",
    "\n",
    "\n",
    "descriptions: A detailed description of the invention.\n",
    "\n",
    "Meaning : detail introuduction\n",
    "\n",
    "inventors: The individuals credited with inventing the patented technology.\n",
    "\n",
    "Meaning : all inventors\n",
    "\n",
    "assignees: The entities or organizations to which the patent rights are assigned.\n",
    "\n",
    "ipc_classes: International Patent Classification (IPC) classes assigned to the patent.\n",
    "\n",
    "locarno_classes: Locarno Classification, used for the classification of industrial designs.\n",
    "\n",
    "ipcr_classes: International Patent Classification (IPC) revision classes.\n",
    "\n",
    "national_classes: Classes specific to a particular country's patent classification system.\n",
    "\n",
    "ecla_classes: European Classification (ECLA) classes.\n",
    "\n",
    "cpc_classes: Cooperative Patent Classification (CPC) classes.\n",
    "\n",
    "f_term_classes: F-term classes, used in Japanese patent documents.\n",
    "\n",
    "legal_status: The legal status of the patent, indicating whether it is active, expired, or has a specific legal condition.\n",
    "\n",
    "priority_date: The date when the patent application was first filed, establishing the priority of the invention.\n",
    "\n",
    "application_date: The date when the patent application is filed.\n",
    "\n",
    "family_members: Other patents belonging to the same patent family."
   ]
  },
  {
   "cell_type": "markdown",
   "metadata": {},
   "source": [
    "which are useful for the semantic search titles, abstracts,claims,inventors,assigness"
   ]
  },
  {
   "cell_type": "markdown",
   "metadata": {},
   "source": [
    "### converting all json files into dataframe . While working on dataframe is more easier"
   ]
  },
  {
   "cell_type": "code",
   "execution_count": 410,
   "metadata": {},
   "outputs": [
    {
     "data": {
      "text/html": [
       "<div>\n",
       "<style scoped>\n",
       "    .dataframe tbody tr th:only-of-type {\n",
       "        vertical-align: middle;\n",
       "    }\n",
       "\n",
       "    .dataframe tbody tr th {\n",
       "        vertical-align: top;\n",
       "    }\n",
       "\n",
       "    .dataframe thead th {\n",
       "        text-align: right;\n",
       "    }\n",
       "</style>\n",
       "<table border=\"1\" class=\"dataframe\">\n",
       "  <thead>\n",
       "    <tr style=\"text-align: right;\">\n",
       "      <th></th>\n",
       "      <th>patent_number</th>\n",
       "      <th>publication_id</th>\n",
       "      <th>family_id</th>\n",
       "      <th>publication_date</th>\n",
       "      <th>titles</th>\n",
       "      <th>abstracts</th>\n",
       "      <th>claims</th>\n",
       "      <th>descriptions</th>\n",
       "      <th>inventors</th>\n",
       "      <th>assignees</th>\n",
       "      <th>...</th>\n",
       "      <th>locarno_classes</th>\n",
       "      <th>ipcr_classes</th>\n",
       "      <th>national_classes</th>\n",
       "      <th>ecla_classes</th>\n",
       "      <th>cpc_classes</th>\n",
       "      <th>f_term_classes</th>\n",
       "      <th>legal_status</th>\n",
       "      <th>priority_date</th>\n",
       "      <th>application_date</th>\n",
       "      <th>family_members</th>\n",
       "    </tr>\n",
       "  </thead>\n",
       "  <tbody>\n",
       "    <tr>\n",
       "      <th>0</th>\n",
       "      <td>JP-H09311786-A</td>\n",
       "      <td>143280786</td>\n",
       "      <td>26393432</td>\n",
       "      <td>1997-12-02</td>\n",
       "      <td>[{'lang': 'JA', 'text': 'データ処理装置'}, {'lang': '...</td>\n",
       "      <td>[{'lang': 'JA', 'paragraph_markup': '&lt;abstract...</td>\n",
       "      <td>[{'lang': 'JA', 'claims': [{'num': 1, 'parent'...</td>\n",
       "      <td>[{'lang': 'EN', 'paragraph_markup': '&lt;descript...</td>\n",
       "      <td>[{'first_name': '', 'last_name': 'UMINAGA MASA...</td>\n",
       "      <td>[]</td>\n",
       "      <td>...</td>\n",
       "      <td>[]</td>\n",
       "      <td>[{'label': 'G06F   9/38        20060101AFI2005...</td>\n",
       "      <td>[{'primary': True, 'label': 'G06F   9/38    31...</td>\n",
       "      <td>[]</td>\n",
       "      <td>[]</td>\n",
       "      <td>[{'label': '5B013 AA00'}, {'label': '5B013 AA1...</td>\n",
       "      <td>Pending</td>\n",
       "      <td>1996-03-18</td>\n",
       "      <td>1997-03-07</td>\n",
       "      <td>[{'ucid': 'JP-H09311786-A', 'titles': [{'lang'...</td>\n",
       "    </tr>\n",
       "    <tr>\n",
       "      <th>1</th>\n",
       "      <td>JP-H10177520-A</td>\n",
       "      <td>143364885</td>\n",
       "      <td>26550656</td>\n",
       "      <td>1998-06-30</td>\n",
       "      <td>[{'lang': 'JA', 'text': 'データプロセッサ及びデータ処理システム'}...</td>\n",
       "      <td>[{'lang': 'JA', 'paragraph_markup': '&lt;abstract...</td>\n",
       "      <td>[{'lang': 'EN', 'claims': [{'num': 1, 'parent'...</td>\n",
       "      <td>[{'lang': 'EN', 'paragraph_markup': '&lt;descript...</td>\n",
       "      <td>[{'first_name': '', 'last_name': 'NISHIMOTO JU...</td>\n",
       "      <td>[]</td>\n",
       "      <td>...</td>\n",
       "      <td>[]</td>\n",
       "      <td>[{'label': 'G06F  12/10        20060101ALI2005...</td>\n",
       "      <td>[{'primary': True, 'label': 'G06F  12/08      ...</td>\n",
       "      <td>[]</td>\n",
       "      <td>[]</td>\n",
       "      <td>[{'label': '5B005 JJ11'}, {'label': '5B005 MM5...</td>\n",
       "      <td>Withdrawn</td>\n",
       "      <td>1996-10-16</td>\n",
       "      <td>1997-10-14</td>\n",
       "      <td>[{'ucid': 'JP-H10177520-A', 'titles': [{'lang'...</td>\n",
       "    </tr>\n",
       "    <tr>\n",
       "      <th>2</th>\n",
       "      <td>JP-H11184752-A</td>\n",
       "      <td>143645573</td>\n",
       "      <td>18409760</td>\n",
       "      <td>1999-07-09</td>\n",
       "      <td>[{'lang': 'JA', 'text': 'データ処理装置及びデータ処理システム'},...</td>\n",
       "      <td>[{'lang': 'JA', 'paragraph_markup': '&lt;abstract...</td>\n",
       "      <td>[{'lang': 'JA', 'claims': [{'num': 1, 'parent'...</td>\n",
       "      <td>[{'lang': 'JA', 'paragraph_markup': '&lt;descript...</td>\n",
       "      <td>[{'first_name': '', 'last_name': 'TAMAKI SANEA...</td>\n",
       "      <td>[]</td>\n",
       "      <td>...</td>\n",
       "      <td>[]</td>\n",
       "      <td>[{'label': 'G06F  12/08        20060101AFI2005...</td>\n",
       "      <td>[{'primary': True, 'label': 'G06F  12/08      ...</td>\n",
       "      <td>[{'label': 'Y02B60:12F'}]</td>\n",
       "      <td>[{'label': 'Y02D  10/00'}]</td>\n",
       "      <td>[{'label': '5B005 JJ12'}, {'label': '5B005 UU3...</td>\n",
       "      <td>Withdrawn</td>\n",
       "      <td>1997-12-19</td>\n",
       "      <td>1997-12-19</td>\n",
       "      <td>[{'ucid': 'JP-H11184752-A', 'titles': [{'lang'...</td>\n",
       "    </tr>\n",
       "    <tr>\n",
       "      <th>3</th>\n",
       "      <td>US-20010011328-A1</td>\n",
       "      <td>75654482</td>\n",
       "      <td>25475553</td>\n",
       "      <td>2001-08-02</td>\n",
       "      <td>[{'lang': 'EN', 'text': 'SOFTWARE-CONTROLLED C...</td>\n",
       "      <td>[{'lang': 'EN', 'paragraph_markup': '&lt;abstract...</td>\n",
       "      <td>[{'lang': 'EN', 'claims': [{'num': 1, 'parent'...</td>\n",
       "      <td>[{'lang': 'EN', 'paragraph_markup': '&lt;descript...</td>\n",
       "      <td>[{'first_name': 'Shine', 'last_name': 'Chung',...</td>\n",
       "      <td>[{'first_name': '', 'last_name': 'SONY CORPORA...</td>\n",
       "      <td>...</td>\n",
       "      <td>[]</td>\n",
       "      <td>[{'label': 'G06F  12/12        20060101A I2005...</td>\n",
       "      <td>[{'primary': True, 'label': '711128'}, {'prima...</td>\n",
       "      <td>[{'label': 'G06F  12/12B8'}]</td>\n",
       "      <td>[{'label': 'G06F  12/128'}]</td>\n",
       "      <td>[]</td>\n",
       "      <td>Granted</td>\n",
       "      <td>1997-09-30</td>\n",
       "      <td>1997-09-30</td>\n",
       "      <td>[{'ucid': 'US-20010011328-A1', 'titles': [{'la...</td>\n",
       "    </tr>\n",
       "    <tr>\n",
       "      <th>4</th>\n",
       "      <td>US-20010049770-A1</td>\n",
       "      <td>75680368</td>\n",
       "      <td>22769873</td>\n",
       "      <td>2001-12-06</td>\n",
       "      <td>[{'lang': 'EN', 'text': 'BUFFER MEMORY MANAGEM...</td>\n",
       "      <td>[{'lang': 'EN', 'paragraph_markup': '&lt;abstract...</td>\n",
       "      <td>[{'lang': 'EN', 'claims': [{'num': 1, 'parent'...</td>\n",
       "      <td>[{'lang': 'EN', 'paragraph_markup': '&lt;descript...</td>\n",
       "      <td>[{'first_name': 'Zhong-ning', 'last_name': 'Ca...</td>\n",
       "      <td>[{'first_name': '', 'last_name': 'INTEL CORPOR...</td>\n",
       "      <td>...</td>\n",
       "      <td>[]</td>\n",
       "      <td>[{'label': 'G06F  12/08        20060101A I2005...</td>\n",
       "      <td>[{'primary': True, 'label': '711129'}, {'prima...</td>\n",
       "      <td>[{'label': 'G06F  12/08B6M2'}, {'label': 'G06F...</td>\n",
       "      <td>[{'label': 'G06F  12/0848'}, {'label': 'G06F  ...</td>\n",
       "      <td>[]</td>\n",
       "      <td>Granted</td>\n",
       "      <td>1998-12-08</td>\n",
       "      <td>1998-12-08</td>\n",
       "      <td>[{'ucid': 'AU-6497199-A', 'titles': [{'lang': ...</td>\n",
       "    </tr>\n",
       "  </tbody>\n",
       "</table>\n",
       "<p>5 rows × 21 columns</p>\n",
       "</div>"
      ],
      "text/plain": [
       "       patent_number  publication_id  family_id publication_date  \\\n",
       "0     JP-H09311786-A       143280786   26393432       1997-12-02   \n",
       "1     JP-H10177520-A       143364885   26550656       1998-06-30   \n",
       "2     JP-H11184752-A       143645573   18409760       1999-07-09   \n",
       "3  US-20010011328-A1        75654482   25475553       2001-08-02   \n",
       "4  US-20010049770-A1        75680368   22769873       2001-12-06   \n",
       "\n",
       "                                              titles  \\\n",
       "0  [{'lang': 'JA', 'text': 'データ処理装置'}, {'lang': '...   \n",
       "1  [{'lang': 'JA', 'text': 'データプロセッサ及びデータ処理システム'}...   \n",
       "2  [{'lang': 'JA', 'text': 'データ処理装置及びデータ処理システム'},...   \n",
       "3  [{'lang': 'EN', 'text': 'SOFTWARE-CONTROLLED C...   \n",
       "4  [{'lang': 'EN', 'text': 'BUFFER MEMORY MANAGEM...   \n",
       "\n",
       "                                           abstracts  \\\n",
       "0  [{'lang': 'JA', 'paragraph_markup': '<abstract...   \n",
       "1  [{'lang': 'JA', 'paragraph_markup': '<abstract...   \n",
       "2  [{'lang': 'JA', 'paragraph_markup': '<abstract...   \n",
       "3  [{'lang': 'EN', 'paragraph_markup': '<abstract...   \n",
       "4  [{'lang': 'EN', 'paragraph_markup': '<abstract...   \n",
       "\n",
       "                                              claims  \\\n",
       "0  [{'lang': 'JA', 'claims': [{'num': 1, 'parent'...   \n",
       "1  [{'lang': 'EN', 'claims': [{'num': 1, 'parent'...   \n",
       "2  [{'lang': 'JA', 'claims': [{'num': 1, 'parent'...   \n",
       "3  [{'lang': 'EN', 'claims': [{'num': 1, 'parent'...   \n",
       "4  [{'lang': 'EN', 'claims': [{'num': 1, 'parent'...   \n",
       "\n",
       "                                        descriptions  \\\n",
       "0  [{'lang': 'EN', 'paragraph_markup': '<descript...   \n",
       "1  [{'lang': 'EN', 'paragraph_markup': '<descript...   \n",
       "2  [{'lang': 'JA', 'paragraph_markup': '<descript...   \n",
       "3  [{'lang': 'EN', 'paragraph_markup': '<descript...   \n",
       "4  [{'lang': 'EN', 'paragraph_markup': '<descript...   \n",
       "\n",
       "                                           inventors  \\\n",
       "0  [{'first_name': '', 'last_name': 'UMINAGA MASA...   \n",
       "1  [{'first_name': '', 'last_name': 'NISHIMOTO JU...   \n",
       "2  [{'first_name': '', 'last_name': 'TAMAKI SANEA...   \n",
       "3  [{'first_name': 'Shine', 'last_name': 'Chung',...   \n",
       "4  [{'first_name': 'Zhong-ning', 'last_name': 'Ca...   \n",
       "\n",
       "                                           assignees  ... locarno_classes  \\\n",
       "0                                                 []  ...              []   \n",
       "1                                                 []  ...              []   \n",
       "2                                                 []  ...              []   \n",
       "3  [{'first_name': '', 'last_name': 'SONY CORPORA...  ...              []   \n",
       "4  [{'first_name': '', 'last_name': 'INTEL CORPOR...  ...              []   \n",
       "\n",
       "                                        ipcr_classes  \\\n",
       "0  [{'label': 'G06F   9/38        20060101AFI2005...   \n",
       "1  [{'label': 'G06F  12/10        20060101ALI2005...   \n",
       "2  [{'label': 'G06F  12/08        20060101AFI2005...   \n",
       "3  [{'label': 'G06F  12/12        20060101A I2005...   \n",
       "4  [{'label': 'G06F  12/08        20060101A I2005...   \n",
       "\n",
       "                                    national_classes  \\\n",
       "0  [{'primary': True, 'label': 'G06F   9/38    31...   \n",
       "1  [{'primary': True, 'label': 'G06F  12/08      ...   \n",
       "2  [{'primary': True, 'label': 'G06F  12/08      ...   \n",
       "3  [{'primary': True, 'label': '711128'}, {'prima...   \n",
       "4  [{'primary': True, 'label': '711129'}, {'prima...   \n",
       "\n",
       "                                        ecla_classes  \\\n",
       "0                                                 []   \n",
       "1                                                 []   \n",
       "2                          [{'label': 'Y02B60:12F'}]   \n",
       "3                       [{'label': 'G06F  12/12B8'}]   \n",
       "4  [{'label': 'G06F  12/08B6M2'}, {'label': 'G06F...   \n",
       "\n",
       "                                         cpc_classes  \\\n",
       "0                                                 []   \n",
       "1                                                 []   \n",
       "2                         [{'label': 'Y02D  10/00'}]   \n",
       "3                        [{'label': 'G06F  12/128'}]   \n",
       "4  [{'label': 'G06F  12/0848'}, {'label': 'G06F  ...   \n",
       "\n",
       "                                      f_term_classes legal_status  \\\n",
       "0  [{'label': '5B013 AA00'}, {'label': '5B013 AA1...      Pending   \n",
       "1  [{'label': '5B005 JJ11'}, {'label': '5B005 MM5...    Withdrawn   \n",
       "2  [{'label': '5B005 JJ12'}, {'label': '5B005 UU3...    Withdrawn   \n",
       "3                                                 []      Granted   \n",
       "4                                                 []      Granted   \n",
       "\n",
       "  priority_date application_date  \\\n",
       "0    1996-03-18       1997-03-07   \n",
       "1    1996-10-16       1997-10-14   \n",
       "2    1997-12-19       1997-12-19   \n",
       "3    1997-09-30       1997-09-30   \n",
       "4    1998-12-08       1998-12-08   \n",
       "\n",
       "                                      family_members  \n",
       "0  [{'ucid': 'JP-H09311786-A', 'titles': [{'lang'...  \n",
       "1  [{'ucid': 'JP-H10177520-A', 'titles': [{'lang'...  \n",
       "2  [{'ucid': 'JP-H11184752-A', 'titles': [{'lang'...  \n",
       "3  [{'ucid': 'US-20010011328-A1', 'titles': [{'la...  \n",
       "4  [{'ucid': 'AU-6497199-A', 'titles': [{'lang': ...  \n",
       "\n",
       "[5 rows x 21 columns]"
      ]
     },
     "execution_count": 410,
     "metadata": {},
     "output_type": "execute_result"
    }
   ],
   "source": [
    "data_list = []\n",
    "\n",
    "directory_path = 'patent_jsons'\n",
    "for file in os.listdir('patent_jsons'):\n",
    "    if file.endswith('.json'):\n",
    "        with open(os.path.join(directory_path, file),'r') as f:\n",
    "            document = json.load(f)\n",
    "    flattened_data = pd.json_normalize(document)\n",
    "    data_list.append(flattened_data)\n",
    "\n",
    "df1 = pd.concat(data_list,ignore_index=True)\n",
    "\n",
    "df1.head()"
   ]
  },
  {
   "cell_type": "code",
   "execution_count": 411,
   "metadata": {},
   "outputs": [
    {
     "data": {
      "text/html": [
       "<div>\n",
       "<style scoped>\n",
       "    .dataframe tbody tr th:only-of-type {\n",
       "        vertical-align: middle;\n",
       "    }\n",
       "\n",
       "    .dataframe tbody tr th {\n",
       "        vertical-align: top;\n",
       "    }\n",
       "\n",
       "    .dataframe thead th {\n",
       "        text-align: right;\n",
       "    }\n",
       "</style>\n",
       "<table border=\"1\" class=\"dataframe\">\n",
       "  <thead>\n",
       "    <tr style=\"text-align: right;\">\n",
       "      <th></th>\n",
       "      <th>patent_number</th>\n",
       "      <th>publication_id</th>\n",
       "      <th>family_id</th>\n",
       "      <th>publication_date</th>\n",
       "      <th>titles</th>\n",
       "      <th>abstracts</th>\n",
       "      <th>claims</th>\n",
       "      <th>descriptions</th>\n",
       "      <th>inventors</th>\n",
       "      <th>assignees</th>\n",
       "      <th>...</th>\n",
       "      <th>locarno_classes</th>\n",
       "      <th>ipcr_classes</th>\n",
       "      <th>national_classes</th>\n",
       "      <th>ecla_classes</th>\n",
       "      <th>cpc_classes</th>\n",
       "      <th>f_term_classes</th>\n",
       "      <th>legal_status</th>\n",
       "      <th>priority_date</th>\n",
       "      <th>application_date</th>\n",
       "      <th>family_members</th>\n",
       "    </tr>\n",
       "  </thead>\n",
       "  <tbody>\n",
       "    <tr>\n",
       "      <th>0</th>\n",
       "      <td>JP-H09311786-A</td>\n",
       "      <td>143280786</td>\n",
       "      <td>26393432</td>\n",
       "      <td>1997-12-02</td>\n",
       "      <td>[{'lang': 'JA', 'text': 'データ処理装置'}, {'lang': '...</td>\n",
       "      <td>[{'lang': 'JA', 'paragraph_markup': '&lt;abstract...</td>\n",
       "      <td>[{'lang': 'JA', 'claims': [{'num': 1, 'parent'...</td>\n",
       "      <td>[{'lang': 'EN', 'paragraph_markup': '&lt;descript...</td>\n",
       "      <td>[{'first_name': '', 'last_name': 'UMINAGA MASA...</td>\n",
       "      <td>[]</td>\n",
       "      <td>...</td>\n",
       "      <td>[]</td>\n",
       "      <td>[{'label': 'G06F   9/38        20060101AFI2005...</td>\n",
       "      <td>[{'primary': True, 'label': 'G06F   9/38    31...</td>\n",
       "      <td>[]</td>\n",
       "      <td>[]</td>\n",
       "      <td>[{'label': '5B013 AA00'}, {'label': '5B013 AA1...</td>\n",
       "      <td>Pending</td>\n",
       "      <td>1996-03-18</td>\n",
       "      <td>1997-03-07</td>\n",
       "      <td>[{'ucid': 'JP-H09311786-A', 'titles': [{'lang'...</td>\n",
       "    </tr>\n",
       "    <tr>\n",
       "      <th>1</th>\n",
       "      <td>JP-H10177520-A</td>\n",
       "      <td>143364885</td>\n",
       "      <td>26550656</td>\n",
       "      <td>1998-06-30</td>\n",
       "      <td>[{'lang': 'JA', 'text': 'データプロセッサ及びデータ処理システム'}...</td>\n",
       "      <td>[{'lang': 'JA', 'paragraph_markup': '&lt;abstract...</td>\n",
       "      <td>[{'lang': 'EN', 'claims': [{'num': 1, 'parent'...</td>\n",
       "      <td>[{'lang': 'EN', 'paragraph_markup': '&lt;descript...</td>\n",
       "      <td>[{'first_name': '', 'last_name': 'NISHIMOTO JU...</td>\n",
       "      <td>[]</td>\n",
       "      <td>...</td>\n",
       "      <td>[]</td>\n",
       "      <td>[{'label': 'G06F  12/10        20060101ALI2005...</td>\n",
       "      <td>[{'primary': True, 'label': 'G06F  12/08      ...</td>\n",
       "      <td>[]</td>\n",
       "      <td>[]</td>\n",
       "      <td>[{'label': '5B005 JJ11'}, {'label': '5B005 MM5...</td>\n",
       "      <td>Withdrawn</td>\n",
       "      <td>1996-10-16</td>\n",
       "      <td>1997-10-14</td>\n",
       "      <td>[{'ucid': 'JP-H10177520-A', 'titles': [{'lang'...</td>\n",
       "    </tr>\n",
       "    <tr>\n",
       "      <th>2</th>\n",
       "      <td>JP-H11184752-A</td>\n",
       "      <td>143645573</td>\n",
       "      <td>18409760</td>\n",
       "      <td>1999-07-09</td>\n",
       "      <td>[{'lang': 'JA', 'text': 'データ処理装置及びデータ処理システム'},...</td>\n",
       "      <td>[{'lang': 'JA', 'paragraph_markup': '&lt;abstract...</td>\n",
       "      <td>[{'lang': 'JA', 'claims': [{'num': 1, 'parent'...</td>\n",
       "      <td>[{'lang': 'JA', 'paragraph_markup': '&lt;descript...</td>\n",
       "      <td>[{'first_name': '', 'last_name': 'TAMAKI SANEA...</td>\n",
       "      <td>[]</td>\n",
       "      <td>...</td>\n",
       "      <td>[]</td>\n",
       "      <td>[{'label': 'G06F  12/08        20060101AFI2005...</td>\n",
       "      <td>[{'primary': True, 'label': 'G06F  12/08      ...</td>\n",
       "      <td>[{'label': 'Y02B60:12F'}]</td>\n",
       "      <td>[{'label': 'Y02D  10/00'}]</td>\n",
       "      <td>[{'label': '5B005 JJ12'}, {'label': '5B005 UU3...</td>\n",
       "      <td>Withdrawn</td>\n",
       "      <td>1997-12-19</td>\n",
       "      <td>1997-12-19</td>\n",
       "      <td>[{'ucid': 'JP-H11184752-A', 'titles': [{'lang'...</td>\n",
       "    </tr>\n",
       "    <tr>\n",
       "      <th>3</th>\n",
       "      <td>US-20010011328-A1</td>\n",
       "      <td>75654482</td>\n",
       "      <td>25475553</td>\n",
       "      <td>2001-08-02</td>\n",
       "      <td>[{'lang': 'EN', 'text': 'SOFTWARE-CONTROLLED C...</td>\n",
       "      <td>[{'lang': 'EN', 'paragraph_markup': '&lt;abstract...</td>\n",
       "      <td>[{'lang': 'EN', 'claims': [{'num': 1, 'parent'...</td>\n",
       "      <td>[{'lang': 'EN', 'paragraph_markup': '&lt;descript...</td>\n",
       "      <td>[{'first_name': 'Shine', 'last_name': 'Chung',...</td>\n",
       "      <td>[{'first_name': '', 'last_name': 'SONY CORPORA...</td>\n",
       "      <td>...</td>\n",
       "      <td>[]</td>\n",
       "      <td>[{'label': 'G06F  12/12        20060101A I2005...</td>\n",
       "      <td>[{'primary': True, 'label': '711128'}, {'prima...</td>\n",
       "      <td>[{'label': 'G06F  12/12B8'}]</td>\n",
       "      <td>[{'label': 'G06F  12/128'}]</td>\n",
       "      <td>[]</td>\n",
       "      <td>Granted</td>\n",
       "      <td>1997-09-30</td>\n",
       "      <td>1997-09-30</td>\n",
       "      <td>[{'ucid': 'US-20010011328-A1', 'titles': [{'la...</td>\n",
       "    </tr>\n",
       "    <tr>\n",
       "      <th>4</th>\n",
       "      <td>US-20010049770-A1</td>\n",
       "      <td>75680368</td>\n",
       "      <td>22769873</td>\n",
       "      <td>2001-12-06</td>\n",
       "      <td>[{'lang': 'EN', 'text': 'BUFFER MEMORY MANAGEM...</td>\n",
       "      <td>[{'lang': 'EN', 'paragraph_markup': '&lt;abstract...</td>\n",
       "      <td>[{'lang': 'EN', 'claims': [{'num': 1, 'parent'...</td>\n",
       "      <td>[{'lang': 'EN', 'paragraph_markup': '&lt;descript...</td>\n",
       "      <td>[{'first_name': 'Zhong-ning', 'last_name': 'Ca...</td>\n",
       "      <td>[{'first_name': '', 'last_name': 'INTEL CORPOR...</td>\n",
       "      <td>...</td>\n",
       "      <td>[]</td>\n",
       "      <td>[{'label': 'G06F  12/08        20060101A I2005...</td>\n",
       "      <td>[{'primary': True, 'label': '711129'}, {'prima...</td>\n",
       "      <td>[{'label': 'G06F  12/08B6M2'}, {'label': 'G06F...</td>\n",
       "      <td>[{'label': 'G06F  12/0848'}, {'label': 'G06F  ...</td>\n",
       "      <td>[]</td>\n",
       "      <td>Granted</td>\n",
       "      <td>1998-12-08</td>\n",
       "      <td>1998-12-08</td>\n",
       "      <td>[{'ucid': 'AU-6497199-A', 'titles': [{'lang': ...</td>\n",
       "    </tr>\n",
       "  </tbody>\n",
       "</table>\n",
       "<p>5 rows × 21 columns</p>\n",
       "</div>"
      ],
      "text/plain": [
       "       patent_number  publication_id  family_id publication_date  \\\n",
       "0     JP-H09311786-A       143280786   26393432       1997-12-02   \n",
       "1     JP-H10177520-A       143364885   26550656       1998-06-30   \n",
       "2     JP-H11184752-A       143645573   18409760       1999-07-09   \n",
       "3  US-20010011328-A1        75654482   25475553       2001-08-02   \n",
       "4  US-20010049770-A1        75680368   22769873       2001-12-06   \n",
       "\n",
       "                                              titles  \\\n",
       "0  [{'lang': 'JA', 'text': 'データ処理装置'}, {'lang': '...   \n",
       "1  [{'lang': 'JA', 'text': 'データプロセッサ及びデータ処理システム'}...   \n",
       "2  [{'lang': 'JA', 'text': 'データ処理装置及びデータ処理システム'},...   \n",
       "3  [{'lang': 'EN', 'text': 'SOFTWARE-CONTROLLED C...   \n",
       "4  [{'lang': 'EN', 'text': 'BUFFER MEMORY MANAGEM...   \n",
       "\n",
       "                                           abstracts  \\\n",
       "0  [{'lang': 'JA', 'paragraph_markup': '<abstract...   \n",
       "1  [{'lang': 'JA', 'paragraph_markup': '<abstract...   \n",
       "2  [{'lang': 'JA', 'paragraph_markup': '<abstract...   \n",
       "3  [{'lang': 'EN', 'paragraph_markup': '<abstract...   \n",
       "4  [{'lang': 'EN', 'paragraph_markup': '<abstract...   \n",
       "\n",
       "                                              claims  \\\n",
       "0  [{'lang': 'JA', 'claims': [{'num': 1, 'parent'...   \n",
       "1  [{'lang': 'EN', 'claims': [{'num': 1, 'parent'...   \n",
       "2  [{'lang': 'JA', 'claims': [{'num': 1, 'parent'...   \n",
       "3  [{'lang': 'EN', 'claims': [{'num': 1, 'parent'...   \n",
       "4  [{'lang': 'EN', 'claims': [{'num': 1, 'parent'...   \n",
       "\n",
       "                                        descriptions  \\\n",
       "0  [{'lang': 'EN', 'paragraph_markup': '<descript...   \n",
       "1  [{'lang': 'EN', 'paragraph_markup': '<descript...   \n",
       "2  [{'lang': 'JA', 'paragraph_markup': '<descript...   \n",
       "3  [{'lang': 'EN', 'paragraph_markup': '<descript...   \n",
       "4  [{'lang': 'EN', 'paragraph_markup': '<descript...   \n",
       "\n",
       "                                           inventors  \\\n",
       "0  [{'first_name': '', 'last_name': 'UMINAGA MASA...   \n",
       "1  [{'first_name': '', 'last_name': 'NISHIMOTO JU...   \n",
       "2  [{'first_name': '', 'last_name': 'TAMAKI SANEA...   \n",
       "3  [{'first_name': 'Shine', 'last_name': 'Chung',...   \n",
       "4  [{'first_name': 'Zhong-ning', 'last_name': 'Ca...   \n",
       "\n",
       "                                           assignees  ... locarno_classes  \\\n",
       "0                                                 []  ...              []   \n",
       "1                                                 []  ...              []   \n",
       "2                                                 []  ...              []   \n",
       "3  [{'first_name': '', 'last_name': 'SONY CORPORA...  ...              []   \n",
       "4  [{'first_name': '', 'last_name': 'INTEL CORPOR...  ...              []   \n",
       "\n",
       "                                        ipcr_classes  \\\n",
       "0  [{'label': 'G06F   9/38        20060101AFI2005...   \n",
       "1  [{'label': 'G06F  12/10        20060101ALI2005...   \n",
       "2  [{'label': 'G06F  12/08        20060101AFI2005...   \n",
       "3  [{'label': 'G06F  12/12        20060101A I2005...   \n",
       "4  [{'label': 'G06F  12/08        20060101A I2005...   \n",
       "\n",
       "                                    national_classes  \\\n",
       "0  [{'primary': True, 'label': 'G06F   9/38    31...   \n",
       "1  [{'primary': True, 'label': 'G06F  12/08      ...   \n",
       "2  [{'primary': True, 'label': 'G06F  12/08      ...   \n",
       "3  [{'primary': True, 'label': '711128'}, {'prima...   \n",
       "4  [{'primary': True, 'label': '711129'}, {'prima...   \n",
       "\n",
       "                                        ecla_classes  \\\n",
       "0                                                 []   \n",
       "1                                                 []   \n",
       "2                          [{'label': 'Y02B60:12F'}]   \n",
       "3                       [{'label': 'G06F  12/12B8'}]   \n",
       "4  [{'label': 'G06F  12/08B6M2'}, {'label': 'G06F...   \n",
       "\n",
       "                                         cpc_classes  \\\n",
       "0                                                 []   \n",
       "1                                                 []   \n",
       "2                         [{'label': 'Y02D  10/00'}]   \n",
       "3                        [{'label': 'G06F  12/128'}]   \n",
       "4  [{'label': 'G06F  12/0848'}, {'label': 'G06F  ...   \n",
       "\n",
       "                                      f_term_classes legal_status  \\\n",
       "0  [{'label': '5B013 AA00'}, {'label': '5B013 AA1...      Pending   \n",
       "1  [{'label': '5B005 JJ11'}, {'label': '5B005 MM5...    Withdrawn   \n",
       "2  [{'label': '5B005 JJ12'}, {'label': '5B005 UU3...    Withdrawn   \n",
       "3                                                 []      Granted   \n",
       "4                                                 []      Granted   \n",
       "\n",
       "  priority_date application_date  \\\n",
       "0    1996-03-18       1997-03-07   \n",
       "1    1996-10-16       1997-10-14   \n",
       "2    1997-12-19       1997-12-19   \n",
       "3    1997-09-30       1997-09-30   \n",
       "4    1998-12-08       1998-12-08   \n",
       "\n",
       "                                      family_members  \n",
       "0  [{'ucid': 'JP-H09311786-A', 'titles': [{'lang'...  \n",
       "1  [{'ucid': 'JP-H10177520-A', 'titles': [{'lang'...  \n",
       "2  [{'ucid': 'JP-H11184752-A', 'titles': [{'lang'...  \n",
       "3  [{'ucid': 'US-20010011328-A1', 'titles': [{'la...  \n",
       "4  [{'ucid': 'AU-6497199-A', 'titles': [{'lang': ...  \n",
       "\n",
       "[5 rows x 21 columns]"
      ]
     },
     "execution_count": 411,
     "metadata": {},
     "output_type": "execute_result"
    }
   ],
   "source": [
    "original_data = df1 \n",
    "\n",
    "# copying into another dataframe\n",
    "df = df1 \n",
    "\n",
    "df.head()"
   ]
  },
  {
   "cell_type": "markdown",
   "metadata": {},
   "source": [
    "# Data Cleaning and Processing"
   ]
  },
  {
   "cell_type": "code",
   "execution_count": 412,
   "metadata": {},
   "outputs": [],
   "source": [
    "\n",
    "df['english_titles']=df['titles'].apply(lambda titles: \" \".join([i['text'] for i in titles if i.get('lang') == 'EN']).lower())"
   ]
  },
  {
   "cell_type": "code",
   "execution_count": 413,
   "metadata": {},
   "outputs": [],
   "source": [
    "import re \n",
    "\n",
    "df['english_abstracts'] = df['abstracts'].apply(lambda abstracts: re.sub(re.compile('<.*?>'),'',\" \".join([i['paragraph_markup'] for i in abstracts if i.get('lang') == 'EN']).lower()))[0]"
   ]
  },
  {
   "cell_type": "code",
   "execution_count": 414,
   "metadata": {},
   "outputs": [],
   "source": [
    "df['english_description'] = df['descriptions'].apply(lambda description : re.sub(re.compile('<.*?>'),'',\" \".join([i['paragraph_markup'] for i in description if i.get('lang') == 'EN'])))[0]"
   ]
  },
  {
   "cell_type": "code",
   "execution_count": 415,
   "metadata": {},
   "outputs": [],
   "source": [
    "\n",
    "\n",
    "df['split_inventors'] = df.inventors.apply(lambda inventor : \",\".join([i.get('first_name')+\" \"+i.get('last_name') for i in inventor]).lower())\n"
   ]
  },
  {
   "cell_type": "code",
   "execution_count": 416,
   "metadata": {},
   "outputs": [],
   "source": [
    "df['split_assignees']=df.assignees.apply(lambda assigne : \",\".join([i.get('first_name')+\"\"+i.get('last_name')+\"\"+i.get('name') for i in assigne]).lower())"
   ]
  },
  {
   "cell_type": "code",
   "execution_count": 417,
   "metadata": {},
   "outputs": [
    {
     "data": {
      "text/plain": [
       "Index(['patent_number', 'publication_id', 'family_id', 'publication_date',\n",
       "       'titles', 'abstracts', 'claims', 'descriptions', 'inventors',\n",
       "       'assignees', 'ipc_classes', 'locarno_classes', 'ipcr_classes',\n",
       "       'national_classes', 'ecla_classes', 'cpc_classes', 'f_term_classes',\n",
       "       'legal_status', 'priority_date', 'application_date', 'family_members',\n",
       "       'english_titles', 'english_abstracts', 'english_description',\n",
       "       'split_inventors', 'split_assignees'],\n",
       "      dtype='object')"
      ]
     },
     "execution_count": 417,
     "metadata": {},
     "output_type": "execute_result"
    }
   ],
   "source": [
    "df.columns"
   ]
  },
  {
   "cell_type": "code",
   "execution_count": 418,
   "metadata": {},
   "outputs": [],
   "source": [
    "# i want to drop titles abstracts descriptions inventors assignees \n",
    "\n",
    "df.drop(['titles','abstracts','descriptions','inventors','assignees'],axis=1,inplace=True)"
   ]
  },
  {
   "cell_type": "code",
   "execution_count": 419,
   "metadata": {},
   "outputs": [],
   "source": [
    "df.rename({'english_titles':'titles','english_abstracts':'abstracts','english_description':'description','split_inventors':'inventors','split_assignees':'assignees'},axis=1,inplace=True)"
   ]
  },
  {
   "cell_type": "code",
   "execution_count": 420,
   "metadata": {},
   "outputs": [
    {
     "data": {
      "text/html": [
       "<div>\n",
       "<style scoped>\n",
       "    .dataframe tbody tr th:only-of-type {\n",
       "        vertical-align: middle;\n",
       "    }\n",
       "\n",
       "    .dataframe tbody tr th {\n",
       "        vertical-align: top;\n",
       "    }\n",
       "\n",
       "    .dataframe thead th {\n",
       "        text-align: right;\n",
       "    }\n",
       "</style>\n",
       "<table border=\"1\" class=\"dataframe\">\n",
       "  <thead>\n",
       "    <tr style=\"text-align: right;\">\n",
       "      <th></th>\n",
       "      <th>patent_number</th>\n",
       "      <th>publication_id</th>\n",
       "      <th>family_id</th>\n",
       "      <th>publication_date</th>\n",
       "      <th>claims</th>\n",
       "      <th>ipc_classes</th>\n",
       "      <th>locarno_classes</th>\n",
       "      <th>ipcr_classes</th>\n",
       "      <th>national_classes</th>\n",
       "      <th>ecla_classes</th>\n",
       "      <th>...</th>\n",
       "      <th>f_term_classes</th>\n",
       "      <th>legal_status</th>\n",
       "      <th>priority_date</th>\n",
       "      <th>application_date</th>\n",
       "      <th>family_members</th>\n",
       "      <th>titles</th>\n",
       "      <th>abstracts</th>\n",
       "      <th>description</th>\n",
       "      <th>inventors</th>\n",
       "      <th>assignees</th>\n",
       "    </tr>\n",
       "  </thead>\n",
       "  <tbody>\n",
       "    <tr>\n",
       "      <th>0</th>\n",
       "      <td>JP-H09311786-A</td>\n",
       "      <td>143280786</td>\n",
       "      <td>26393432</td>\n",
       "      <td>1997-12-02</td>\n",
       "      <td>[{'lang': 'JA', 'claims': [{'num': 1, 'parent'...</td>\n",
       "      <td>[{'primary': True, 'label': 'G06F   9/38'}]</td>\n",
       "      <td>[]</td>\n",
       "      <td>[{'label': 'G06F   9/38        20060101AFI2005...</td>\n",
       "      <td>[{'primary': True, 'label': 'G06F   9/38    31...</td>\n",
       "      <td>[]</td>\n",
       "      <td>...</td>\n",
       "      <td>[{'label': '5B013 AA00'}, {'label': '5B013 AA1...</td>\n",
       "      <td>Pending</td>\n",
       "      <td>1996-03-18</td>\n",
       "      <td>1997-03-07</td>\n",
       "      <td>[{'ucid': 'JP-H09311786-A', 'titles': [{'lang'...</td>\n",
       "      <td>data processor</td>\n",
       "      <td>problem to be solved: to reduce a pipeline sta...</td>\n",
       "      <td>Detailed Description of the Invention[0001]BAC...</td>\n",
       "      <td>uminaga masahiro, saito yasuhiko</td>\n",
       "      <td></td>\n",
       "    </tr>\n",
       "    <tr>\n",
       "      <th>1</th>\n",
       "      <td>JP-H10177520-A</td>\n",
       "      <td>143364885</td>\n",
       "      <td>26550656</td>\n",
       "      <td>1998-06-30</td>\n",
       "      <td>[{'lang': 'EN', 'claims': [{'num': 1, 'parent'...</td>\n",
       "      <td>[{'primary': True, 'label': 'G06F  12/10'}, {'...</td>\n",
       "      <td>[]</td>\n",
       "      <td>[{'label': 'G06F  12/10        20060101ALI2005...</td>\n",
       "      <td>[{'primary': True, 'label': 'G06F  12/08      ...</td>\n",
       "      <td>[]</td>\n",
       "      <td>...</td>\n",
       "      <td>[{'label': '5B005 JJ11'}, {'label': '5B005 MM5...</td>\n",
       "      <td>Withdrawn</td>\n",
       "      <td>1996-10-16</td>\n",
       "      <td>1997-10-14</td>\n",
       "      <td>[{'ucid': 'JP-H10177520-A', 'titles': [{'lang'...</td>\n",
       "      <td>data processor and data processing system</td>\n",
       "      <td>problem to be solved: to reduce a pipeline sta...</td>\n",
       "      <td>Detailed Description of the Invention[0001]BAC...</td>\n",
       "      <td>nishimoto junichi, nishii osamu, arakawa fumi...</td>\n",
       "      <td></td>\n",
       "    </tr>\n",
       "    <tr>\n",
       "      <th>2</th>\n",
       "      <td>JP-H11184752-A</td>\n",
       "      <td>143645573</td>\n",
       "      <td>18409760</td>\n",
       "      <td>1999-07-09</td>\n",
       "      <td>[{'lang': 'JA', 'claims': [{'num': 1, 'parent'...</td>\n",
       "      <td>[{'primary': True, 'label': 'G06F  12/08'}]</td>\n",
       "      <td>[]</td>\n",
       "      <td>[{'label': 'G06F  12/08        20060101AFI2005...</td>\n",
       "      <td>[{'primary': True, 'label': 'G06F  12/08      ...</td>\n",
       "      <td>[{'label': 'Y02B60:12F'}]</td>\n",
       "      <td>...</td>\n",
       "      <td>[{'label': '5B005 JJ12'}, {'label': '5B005 UU3...</td>\n",
       "      <td>Withdrawn</td>\n",
       "      <td>1997-12-19</td>\n",
       "      <td>1997-12-19</td>\n",
       "      <td>[{'ucid': 'JP-H11184752-A', 'titles': [{'lang'...</td>\n",
       "      <td>data processor and system therefor</td>\n",
       "      <td>problem to be solved: to reduce a pipeline sta...</td>\n",
       "      <td>Detailed Description of the Invention[0001]BAC...</td>\n",
       "      <td>tamaki saneaki, shimoyama naohiko</td>\n",
       "      <td></td>\n",
       "    </tr>\n",
       "    <tr>\n",
       "      <th>3</th>\n",
       "      <td>US-20010011328-A1</td>\n",
       "      <td>75654482</td>\n",
       "      <td>25475553</td>\n",
       "      <td>2001-08-02</td>\n",
       "      <td>[{'lang': 'EN', 'claims': [{'num': 1, 'parent'...</td>\n",
       "      <td>[{'primary': True, 'label': 'G06F  12/08'}]</td>\n",
       "      <td>[]</td>\n",
       "      <td>[{'label': 'G06F  12/12        20060101A I2005...</td>\n",
       "      <td>[{'primary': True, 'label': '711128'}, {'prima...</td>\n",
       "      <td>[{'label': 'G06F  12/12B8'}]</td>\n",
       "      <td>...</td>\n",
       "      <td>[]</td>\n",
       "      <td>Granted</td>\n",
       "      <td>1997-09-30</td>\n",
       "      <td>1997-09-30</td>\n",
       "      <td>[{'ucid': 'US-20010011328-A1', 'titles': [{'la...</td>\n",
       "      <td>software-controlled cache memory compartmental...</td>\n",
       "      <td>problem to be solved: to reduce a pipeline sta...</td>\n",
       "      <td>Detailed Description of the Invention[0001]BAC...</td>\n",
       "      <td>shine chung</td>\n",
       "      <td>sony corporation of america,intel corporation</td>\n",
       "    </tr>\n",
       "    <tr>\n",
       "      <th>4</th>\n",
       "      <td>US-20010049770-A1</td>\n",
       "      <td>75680368</td>\n",
       "      <td>22769873</td>\n",
       "      <td>2001-12-06</td>\n",
       "      <td>[{'lang': 'EN', 'claims': [{'num': 1, 'parent'...</td>\n",
       "      <td>[{'primary': True, 'label': 'G06F  12/08'}]</td>\n",
       "      <td>[]</td>\n",
       "      <td>[{'label': 'G06F  12/08        20060101A I2005...</td>\n",
       "      <td>[{'primary': True, 'label': '711129'}, {'prima...</td>\n",
       "      <td>[{'label': 'G06F  12/08B6M2'}, {'label': 'G06F...</td>\n",
       "      <td>...</td>\n",
       "      <td>[]</td>\n",
       "      <td>Granted</td>\n",
       "      <td>1998-12-08</td>\n",
       "      <td>1998-12-08</td>\n",
       "      <td>[{'ucid': 'AU-6497199-A', 'titles': [{'lang': ...</td>\n",
       "      <td>buffer memory management in a system having mu...</td>\n",
       "      <td>problem to be solved: to reduce a pipeline sta...</td>\n",
       "      <td>Detailed Description of the Invention[0001]BAC...</td>\n",
       "      <td>zhong-ning cai,tosaku nakanishi</td>\n",
       "      <td>intel corporation</td>\n",
       "    </tr>\n",
       "  </tbody>\n",
       "</table>\n",
       "<p>5 rows × 21 columns</p>\n",
       "</div>"
      ],
      "text/plain": [
       "       patent_number  publication_id  family_id publication_date  \\\n",
       "0     JP-H09311786-A       143280786   26393432       1997-12-02   \n",
       "1     JP-H10177520-A       143364885   26550656       1998-06-30   \n",
       "2     JP-H11184752-A       143645573   18409760       1999-07-09   \n",
       "3  US-20010011328-A1        75654482   25475553       2001-08-02   \n",
       "4  US-20010049770-A1        75680368   22769873       2001-12-06   \n",
       "\n",
       "                                              claims  \\\n",
       "0  [{'lang': 'JA', 'claims': [{'num': 1, 'parent'...   \n",
       "1  [{'lang': 'EN', 'claims': [{'num': 1, 'parent'...   \n",
       "2  [{'lang': 'JA', 'claims': [{'num': 1, 'parent'...   \n",
       "3  [{'lang': 'EN', 'claims': [{'num': 1, 'parent'...   \n",
       "4  [{'lang': 'EN', 'claims': [{'num': 1, 'parent'...   \n",
       "\n",
       "                                         ipc_classes locarno_classes  \\\n",
       "0        [{'primary': True, 'label': 'G06F   9/38'}]              []   \n",
       "1  [{'primary': True, 'label': 'G06F  12/10'}, {'...              []   \n",
       "2        [{'primary': True, 'label': 'G06F  12/08'}]              []   \n",
       "3        [{'primary': True, 'label': 'G06F  12/08'}]              []   \n",
       "4        [{'primary': True, 'label': 'G06F  12/08'}]              []   \n",
       "\n",
       "                                        ipcr_classes  \\\n",
       "0  [{'label': 'G06F   9/38        20060101AFI2005...   \n",
       "1  [{'label': 'G06F  12/10        20060101ALI2005...   \n",
       "2  [{'label': 'G06F  12/08        20060101AFI2005...   \n",
       "3  [{'label': 'G06F  12/12        20060101A I2005...   \n",
       "4  [{'label': 'G06F  12/08        20060101A I2005...   \n",
       "\n",
       "                                    national_classes  \\\n",
       "0  [{'primary': True, 'label': 'G06F   9/38    31...   \n",
       "1  [{'primary': True, 'label': 'G06F  12/08      ...   \n",
       "2  [{'primary': True, 'label': 'G06F  12/08      ...   \n",
       "3  [{'primary': True, 'label': '711128'}, {'prima...   \n",
       "4  [{'primary': True, 'label': '711129'}, {'prima...   \n",
       "\n",
       "                                        ecla_classes  ...  \\\n",
       "0                                                 []  ...   \n",
       "1                                                 []  ...   \n",
       "2                          [{'label': 'Y02B60:12F'}]  ...   \n",
       "3                       [{'label': 'G06F  12/12B8'}]  ...   \n",
       "4  [{'label': 'G06F  12/08B6M2'}, {'label': 'G06F...  ...   \n",
       "\n",
       "                                      f_term_classes legal_status  \\\n",
       "0  [{'label': '5B013 AA00'}, {'label': '5B013 AA1...      Pending   \n",
       "1  [{'label': '5B005 JJ11'}, {'label': '5B005 MM5...    Withdrawn   \n",
       "2  [{'label': '5B005 JJ12'}, {'label': '5B005 UU3...    Withdrawn   \n",
       "3                                                 []      Granted   \n",
       "4                                                 []      Granted   \n",
       "\n",
       "  priority_date application_date  \\\n",
       "0    1996-03-18       1997-03-07   \n",
       "1    1996-10-16       1997-10-14   \n",
       "2    1997-12-19       1997-12-19   \n",
       "3    1997-09-30       1997-09-30   \n",
       "4    1998-12-08       1998-12-08   \n",
       "\n",
       "                                      family_members  \\\n",
       "0  [{'ucid': 'JP-H09311786-A', 'titles': [{'lang'...   \n",
       "1  [{'ucid': 'JP-H10177520-A', 'titles': [{'lang'...   \n",
       "2  [{'ucid': 'JP-H11184752-A', 'titles': [{'lang'...   \n",
       "3  [{'ucid': 'US-20010011328-A1', 'titles': [{'la...   \n",
       "4  [{'ucid': 'AU-6497199-A', 'titles': [{'lang': ...   \n",
       "\n",
       "                                              titles  \\\n",
       "0                                     data processor   \n",
       "1          data processor and data processing system   \n",
       "2                 data processor and system therefor   \n",
       "3  software-controlled cache memory compartmental...   \n",
       "4  buffer memory management in a system having mu...   \n",
       "\n",
       "                                           abstracts  \\\n",
       "0  problem to be solved: to reduce a pipeline sta...   \n",
       "1  problem to be solved: to reduce a pipeline sta...   \n",
       "2  problem to be solved: to reduce a pipeline sta...   \n",
       "3  problem to be solved: to reduce a pipeline sta...   \n",
       "4  problem to be solved: to reduce a pipeline sta...   \n",
       "\n",
       "                                         description  \\\n",
       "0  Detailed Description of the Invention[0001]BAC...   \n",
       "1  Detailed Description of the Invention[0001]BAC...   \n",
       "2  Detailed Description of the Invention[0001]BAC...   \n",
       "3  Detailed Description of the Invention[0001]BAC...   \n",
       "4  Detailed Description of the Invention[0001]BAC...   \n",
       "\n",
       "                                           inventors  \\\n",
       "0                   uminaga masahiro, saito yasuhiko   \n",
       "1   nishimoto junichi, nishii osamu, arakawa fumi...   \n",
       "2                  tamaki saneaki, shimoyama naohiko   \n",
       "3                                        shine chung   \n",
       "4                    zhong-ning cai,tosaku nakanishi   \n",
       "\n",
       "                                       assignees  \n",
       "0                                                 \n",
       "1                                                 \n",
       "2                                                 \n",
       "3  sony corporation of america,intel corporation  \n",
       "4                              intel corporation  \n",
       "\n",
       "[5 rows x 21 columns]"
      ]
     },
     "execution_count": 420,
     "metadata": {},
     "output_type": "execute_result"
    }
   ],
   "source": [
    "df.head()"
   ]
  },
  {
   "cell_type": "code",
   "execution_count": 421,
   "metadata": {},
   "outputs": [
    {
     "data": {
      "text/plain": [
       "Index(['patent_number', 'publication_id', 'family_id', 'publication_date',\n",
       "       'claims', 'ipc_classes', 'locarno_classes', 'ipcr_classes',\n",
       "       'national_classes', 'ecla_classes', 'cpc_classes', 'f_term_classes',\n",
       "       'legal_status', 'priority_date', 'application_date', 'family_members',\n",
       "       'titles', 'abstracts', 'description', 'inventors', 'assignees'],\n",
       "      dtype='object')"
      ]
     },
     "execution_count": 421,
     "metadata": {},
     "output_type": "execute_result"
    }
   ],
   "source": [
    "df.columns"
   ]
  },
  {
   "cell_type": "code",
   "execution_count": 449,
   "metadata": {},
   "outputs": [],
   "source": [
    "df.drop(columns='claims',axis=1,inplace=True)"
   ]
  },
  {
   "cell_type": "code",
   "execution_count": 456,
   "metadata": {},
   "outputs": [],
   "source": [
    "df['ipc_classes'] = df.ipc_classes.apply(lambda x: \",\".join([item.get('label')[:4] for item in x]))"
   ]
  },
  {
   "cell_type": "code",
   "execution_count": 459,
   "metadata": {},
   "outputs": [],
   "source": [
    "# there is no values in this column unecssary for us\n",
    "df.drop(columns='locarno_classes',axis=1,inplace=True)"
   ]
  },
  {
   "cell_type": "code",
   "execution_count": 471,
   "metadata": {},
   "outputs": [],
   "source": [
    "# we have to remove ipcr_classes and national_classes and ecla_classes and cpc_classes and it has more null values f_term_classes,\n",
    "df.drop(columns=['ipcr_classes','national_classes','ecla_classes','cpc_classes','f_term_classes'],axis = 1, inplace=True)"
   ]
  },
  {
   "cell_type": "code",
   "execution_count": 516,
   "metadata": {},
   "outputs": [
    {
     "ename": "AttributeError",
     "evalue": "'DataFrame' object has no attribute 'family_members'",
     "output_type": "error",
     "traceback": [
      "\u001b[1;31m---------------------------------------------------------------------------\u001b[0m",
      "\u001b[1;31mAttributeError\u001b[0m                            Traceback (most recent call last)",
      "\u001b[1;32m~\\AppData\\Local\\Temp\\ipykernel_13220\\1894675287.py\u001b[0m in \u001b[0;36m?\u001b[1;34m()\u001b[0m\n\u001b[1;32m----> 1\u001b[1;33m \u001b[0mdf\u001b[0m\u001b[1;33m[\u001b[0m\u001b[1;34m'ucid'\u001b[0m\u001b[1;33m]\u001b[0m \u001b[1;33m=\u001b[0m \u001b[0mdf\u001b[0m\u001b[1;33m.\u001b[0m\u001b[0mfamily_members\u001b[0m\u001b[1;33m.\u001b[0m\u001b[0mapply\u001b[0m\u001b[1;33m(\u001b[0m\u001b[1;32mlambda\u001b[0m \u001b[0mx\u001b[0m \u001b[1;33m:\u001b[0m \u001b[1;34m\",\"\u001b[0m\u001b[1;33m.\u001b[0m\u001b[0mjoin\u001b[0m\u001b[1;33m(\u001b[0m\u001b[1;33m[\u001b[0m\u001b[0mitem\u001b[0m\u001b[1;33m.\u001b[0m\u001b[0mget\u001b[0m\u001b[1;33m(\u001b[0m\u001b[1;34m'ucid'\u001b[0m\u001b[1;33m)\u001b[0m \u001b[1;32mfor\u001b[0m \u001b[0mitem\u001b[0m \u001b[1;32min\u001b[0m \u001b[0mx\u001b[0m\u001b[1;33m]\u001b[0m\u001b[1;33m)\u001b[0m\u001b[1;33m)\u001b[0m\u001b[1;33m\u001b[0m\u001b[1;33m\u001b[0m\u001b[0m\n\u001b[0m",
      "\u001b[1;32mc:\\Users\\venkatesh\\AppData\\Local\\Programs\\Python\\Python311\\Lib\\site-packages\\pandas\\core\\generic.py\u001b[0m in \u001b[0;36m?\u001b[1;34m(self, name)\u001b[0m\n\u001b[0;32m   6200\u001b[0m             \u001b[1;32mand\u001b[0m \u001b[0mname\u001b[0m \u001b[1;32mnot\u001b[0m \u001b[1;32min\u001b[0m \u001b[0mself\u001b[0m\u001b[1;33m.\u001b[0m\u001b[0m_accessors\u001b[0m\u001b[1;33m\u001b[0m\u001b[1;33m\u001b[0m\u001b[0m\n\u001b[0;32m   6201\u001b[0m             \u001b[1;32mand\u001b[0m \u001b[0mself\u001b[0m\u001b[1;33m.\u001b[0m\u001b[0m_info_axis\u001b[0m\u001b[1;33m.\u001b[0m\u001b[0m_can_hold_identifiers_and_holds_name\u001b[0m\u001b[1;33m(\u001b[0m\u001b[0mname\u001b[0m\u001b[1;33m)\u001b[0m\u001b[1;33m\u001b[0m\u001b[1;33m\u001b[0m\u001b[0m\n\u001b[0;32m   6202\u001b[0m         ):\n\u001b[0;32m   6203\u001b[0m             \u001b[1;32mreturn\u001b[0m \u001b[0mself\u001b[0m\u001b[1;33m[\u001b[0m\u001b[0mname\u001b[0m\u001b[1;33m]\u001b[0m\u001b[1;33m\u001b[0m\u001b[1;33m\u001b[0m\u001b[0m\n\u001b[1;32m-> 6204\u001b[1;33m         \u001b[1;32mreturn\u001b[0m \u001b[0mobject\u001b[0m\u001b[1;33m.\u001b[0m\u001b[0m__getattribute__\u001b[0m\u001b[1;33m(\u001b[0m\u001b[0mself\u001b[0m\u001b[1;33m,\u001b[0m \u001b[0mname\u001b[0m\u001b[1;33m)\u001b[0m\u001b[1;33m\u001b[0m\u001b[1;33m\u001b[0m\u001b[0m\n\u001b[0m",
      "\u001b[1;31mAttributeError\u001b[0m: 'DataFrame' object has no attribute 'family_members'"
     ]
    }
   ],
   "source": [
    "df['ucid'] = df.family_members.apply(lambda x : \",\".join([item.get('ucid') for item in x]))"
   ]
  },
  {
   "cell_type": "code",
   "execution_count": 519,
   "metadata": {},
   "outputs": [],
   "source": [
    "df['ucid'] = df.ucid.apply(lambda x: \",\".join([item for item in x]))"
   ]
  },
  {
   "cell_type": "code",
   "execution_count": 488,
   "metadata": {},
   "outputs": [],
   "source": [
    "df.drop(columns='family_members',axis =1 ,inplace=True)"
   ]
  },
  {
   "cell_type": "markdown",
   "metadata": {},
   "source": [
    "# for creating embeddings i am using pretrained PatentSERTa implemented on sentences transformers"
   ]
  },
  {
   "cell_type": "code",
   "execution_count": 424,
   "metadata": {},
   "outputs": [],
   "source": [
    "from sentence_transformers import SentenceTransformer\n",
    "model = SentenceTransformer('AI-Growth-Lab/PatentSBERTa')\n"
   ]
  },
  {
   "cell_type": "code",
   "execution_count": 429,
   "metadata": {},
   "outputs": [],
   "source": [
    "df['titles_embeddings'] = df.titles.apply(lambda x : model.encode(x))"
   ]
  },
  {
   "cell_type": "code",
   "execution_count": 433,
   "metadata": {},
   "outputs": [],
   "source": [
    "df.drop(columns='titles_embeddings',axis = 1,inplace=True)"
   ]
  },
  {
   "cell_type": "code",
   "execution_count": 434,
   "metadata": {},
   "outputs": [],
   "source": [
    "df['combined'] = df[['titles', 'abstracts','description','inventors','assignees']].agg(' '.join, axis=1)"
   ]
  },
  {
   "cell_type": "code",
   "execution_count": 435,
   "metadata": {},
   "outputs": [],
   "source": [
    "df['embeddings'] = df.combined.apply(lambda x : model.encode(x))"
   ]
  },
  {
   "cell_type": "code",
   "execution_count": 275,
   "metadata": {},
   "outputs": [
    {
     "data": {
      "text/plain": [
       "500"
      ]
     },
     "execution_count": 275,
     "metadata": {},
     "output_type": "execute_result"
    }
   ],
   "source": [
    "len(df.embeddings)"
   ]
  },
  {
   "cell_type": "code",
   "execution_count": 438,
   "metadata": {},
   "outputs": [],
   "source": [
    "from sentence_transformers import util\n",
    "import torch\n"
   ]
  },
  {
   "cell_type": "markdown",
   "metadata": {},
   "source": [
    "# using cosine rule to get revalant docuemnts"
   ]
  },
  {
   "cell_type": "code",
   "execution_count": 489,
   "metadata": {},
   "outputs": [
    {
     "name": "stdout",
     "output_type": "stream",
     "text": [
      "patent_number                                            US-5193163-A\n",
      "publication_id                                               70613540\n",
      "family_id                                                    24365480\n",
      "publication_date                                           1993-03-09\n",
      "ipc_classes                                                 G06F,G06F\n",
      "legal_status                                       Expired - Lifetime\n",
      "priority_date                                              1990-10-01\n",
      "application_date                                           1990-10-01\n",
      "titles              two-level protocol for multi-component bus own...\n",
      "abstracts           problem to be solved: to reduce a pipeline sta...\n",
      "description         Detailed Description of the Invention[0001]BAC...\n",
      "inventors                     douglas e. sanders,michael a. callander\n",
      "assignees           digital equipment corporation,hewlett-packard ...\n",
      "combined            two-level protocol for multi-component bus own...\n",
      "embeddings          [0.14621255, -0.19427776, -0.08485001, 0.14849...\n",
      "ucid                                      [IE-860318-L, US-5193163-A]\n",
      "Name: 57, dtype: object\n",
      "patent_number                                           US-6343352-B1\n",
      "publication_id                                               72918685\n",
      "family_id                                                    22036203\n",
      "publication_date                                           2002-01-29\n",
      "ipc_classes                                                      G06F\n",
      "legal_status                                    Expired - Fee Related\n",
      "priority_date                                              1997-10-10\n",
      "application_date                                           1998-10-09\n",
      "titles              method and apparatus for two step memory write...\n",
      "abstracts           problem to be solved: to reduce a pipeline sta...\n",
      "description         Detailed Description of the Invention[0001]BAC...\n",
      "inventors             paul g. davis,frederick a. ware,craig e. hampel\n",
      "assignees           rambus inc.,jpmorgan chase bank, as collateral...\n",
      "combined            method and apparatus for two step memory write...\n",
      "embeddings          [-0.021568127, -0.33344704, -0.1512352, -0.024...\n",
      "ucid                [US-20050248995-A1, US-7437527-B2, US-7047375-...\n",
      "Name: 366, dtype: object\n",
      "patent_number                                           US-6347369-B1\n",
      "publication_id                                               72915743\n",
      "family_id                                                    26746121\n",
      "publication_date                                           2002-02-12\n",
      "ipc_classes                                                      G06F\n",
      "legal_status                                       Expired - Lifetime\n",
      "priority_date                                              1997-11-17\n",
      "application_date                                           1998-09-24\n",
      "titles              method and circuit for single cycle multiple b...\n",
      "abstracts           problem to be solved: to reduce a pipeline sta...\n",
      "description         Detailed Description of the Invention[0001]BAC...\n",
      "inventors                                               david b. witt\n",
      "assignees           advanced micro devices, inc.,advanced micro de...\n",
      "combined            method and circuit for single cycle multiple b...\n",
      "embeddings          [-0.09826979, -0.33600435, -0.1669806, -0.0654...\n",
      "ucid                                                  [US-6347369-B1]\n",
      "Name: 370, dtype: object\n",
      "patent_number                                            US-5682515-A\n",
      "publication_id                                               71570412\n",
      "family_id                                                    21730343\n",
      "publication_date                                           1997-10-28\n",
      "ipc_classes                                                      G06F\n",
      "legal_status                                       Expired - Lifetime\n",
      "priority_date                                              1993-01-25\n",
      "application_date                                           1996-06-10\n",
      "titles              low power set associative cache memory with st...\n",
      "abstracts           problem to be solved: to reduce a pipeline sta...\n",
      "description         Detailed Description of the Invention[0001]BAC...\n",
      "inventors                          william lau,douglas parks sheppard\n",
      "assignees                            benchmarq microelectronics, inc.\n",
      "combined            low power set associative cache memory with st...\n",
      "embeddings          [-0.1949766, -0.4119308, -0.19103423, 0.129535...\n",
      "ucid                                                   [US-5682515-A]\n",
      "Name: 145, dtype: object\n",
      "patent_number                                            US-5802559-A\n",
      "publication_id                                               71790778\n",
      "family_id                                                    22932444\n",
      "publication_date                                           1998-09-01\n",
      "ipc_classes                                                 G06F,G06F\n",
      "legal_status                                       Expired - Lifetime\n",
      "priority_date                                              1994-05-20\n",
      "application_date                                           1996-11-04\n",
      "titles              computer system mechanism for writing back sel...\n",
      "abstracts           problem to be solved: to reduce a pipeline sta...\n",
      "description         Detailed Description of the Invention[0001]BAC...\n",
      "inventors                                            joseph a. bailey\n",
      "assignees                                advanced micro devices, inc.\n",
      "combined            computer system mechanism for writing back sel...\n",
      "embeddings          [0.22199121, -0.13578095, -0.12644899, 0.12502...\n",
      "ucid                [JP-H0850570-A, US-5802559-A, JP-3771603-B2, E...\n",
      "Name: 183, dtype: object\n"
     ]
    }
   ],
   "source": [
    "query = \"retrive the documents from  UMINAGA MASAHIRO, SAITO YASUHIKO these two inventors\"\n",
    "\n",
    "query_embedding = model.encode(query)\n",
    "\n",
    "\n",
    "cos_scores = util.pytorch_cos_sim(torch.tensor([query_embedding]), torch.tensor(df['embeddings'].tolist()))\n",
    "top_results = torch.topk(cos_scores, k=5)\n",
    "\n",
    "\n",
    "# print(top_results[0][0])\n",
    "# print(top_results[1][0])\n",
    "\n",
    "for score, idx in zip(top_results[0][0], top_results[1][0]):\n",
    "    print(df.loc[idx.item()])\n"
   ]
  },
  {
   "cell_type": "code",
   "execution_count": 492,
   "metadata": {},
   "outputs": [
    {
     "data": {
      "text/plain": [
       "pandas.core.series.Series"
      ]
     },
     "execution_count": 492,
     "metadata": {},
     "output_type": "execute_result"
    }
   ],
   "source": [
    "# [df.loc[0],df.loc[1]]\n",
    "type(df.loc[0])"
   ]
  },
  {
   "cell_type": "markdown",
   "metadata": {},
   "source": [
    "# for horizontal and vertical scaling i am using elasticserch to use for this project\n",
    "### user-name : elastic  passcode : PQj3k1ehmAhh-3wJ2zyl"
   ]
  },
  {
   "cell_type": "code",
   "execution_count": 493,
   "metadata": {},
   "outputs": [],
   "source": [
    "from elasticsearch import Elasticsearch"
   ]
  },
  {
   "cell_type": "code",
   "execution_count": 494,
   "metadata": {},
   "outputs": [
    {
     "data": {
      "text/plain": [
       "True"
      ]
     },
     "execution_count": 494,
     "metadata": {},
     "output_type": "execute_result"
    }
   ],
   "source": [
    "es = Elasticsearch(\n",
    "    \"https://localhost:9200\",\n",
    "    basic_auth=(\"elastic\",\"PQj3k1ehmAhh-3wJ2zyl\"),\n",
    "    ca_certs=\"elasticsearch-8.11.3/config/certs/http_ca.crt\"\n",
    ")\n",
    "es.ping() # if it comes like true then the elastic server is working"
   ]
  },
  {
   "cell_type": "code",
   "execution_count": 520,
   "metadata": {},
   "outputs": [
    {
     "data": {
      "text/html": [
       "<div>\n",
       "<style scoped>\n",
       "    .dataframe tbody tr th:only-of-type {\n",
       "        vertical-align: middle;\n",
       "    }\n",
       "\n",
       "    .dataframe tbody tr th {\n",
       "        vertical-align: top;\n",
       "    }\n",
       "\n",
       "    .dataframe thead th {\n",
       "        text-align: right;\n",
       "    }\n",
       "</style>\n",
       "<table border=\"1\" class=\"dataframe\">\n",
       "  <thead>\n",
       "    <tr style=\"text-align: right;\">\n",
       "      <th></th>\n",
       "      <th>patent_number</th>\n",
       "      <th>publication_id</th>\n",
       "      <th>family_id</th>\n",
       "      <th>publication_date</th>\n",
       "      <th>ipc_classes</th>\n",
       "      <th>legal_status</th>\n",
       "      <th>priority_date</th>\n",
       "      <th>application_date</th>\n",
       "      <th>titles</th>\n",
       "      <th>abstracts</th>\n",
       "      <th>description</th>\n",
       "      <th>inventors</th>\n",
       "      <th>assignees</th>\n",
       "      <th>combined</th>\n",
       "      <th>embeddings</th>\n",
       "      <th>ucid</th>\n",
       "    </tr>\n",
       "  </thead>\n",
       "  <tbody>\n",
       "    <tr>\n",
       "      <th>0</th>\n",
       "      <td>JP-H09311786-A</td>\n",
       "      <td>143280786</td>\n",
       "      <td>26393432</td>\n",
       "      <td>1997-12-02</td>\n",
       "      <td>G06F</td>\n",
       "      <td>Pending</td>\n",
       "      <td>1996-03-18</td>\n",
       "      <td>1997-03-07</td>\n",
       "      <td>data processor</td>\n",
       "      <td>problem to be solved: to reduce a pipeline sta...</td>\n",
       "      <td>Detailed Description of the Invention[0001]BAC...</td>\n",
       "      <td>uminaga masahiro, saito yasuhiko</td>\n",
       "      <td></td>\n",
       "      <td>data processor problem to be solved: to reduce...</td>\n",
       "      <td>[-0.009465754, -0.2735243, -0.2240375, 0.05655...</td>\n",
       "      <td>JP-H09311786-A</td>\n",
       "    </tr>\n",
       "    <tr>\n",
       "      <th>1</th>\n",
       "      <td>JP-H10177520-A</td>\n",
       "      <td>143364885</td>\n",
       "      <td>26550656</td>\n",
       "      <td>1998-06-30</td>\n",
       "      <td>G06F,G06F,G06F</td>\n",
       "      <td>Withdrawn</td>\n",
       "      <td>1996-10-16</td>\n",
       "      <td>1997-10-14</td>\n",
       "      <td>data processor and data processing system</td>\n",
       "      <td>problem to be solved: to reduce a pipeline sta...</td>\n",
       "      <td>Detailed Description of the Invention[0001]BAC...</td>\n",
       "      <td>nishimoto junichi, nishii osamu, arakawa fumi...</td>\n",
       "      <td></td>\n",
       "      <td>data processor and data processing system prob...</td>\n",
       "      <td>[-0.018668285, -0.2591647, -0.23473088, 0.0554...</td>\n",
       "      <td>JP-H10177520-A</td>\n",
       "    </tr>\n",
       "  </tbody>\n",
       "</table>\n",
       "</div>"
      ],
      "text/plain": [
       "    patent_number  publication_id  family_id publication_date     ipc_classes  \\\n",
       "0  JP-H09311786-A       143280786   26393432       1997-12-02            G06F   \n",
       "1  JP-H10177520-A       143364885   26550656       1998-06-30  G06F,G06F,G06F   \n",
       "\n",
       "  legal_status priority_date application_date  \\\n",
       "0      Pending    1996-03-18       1997-03-07   \n",
       "1    Withdrawn    1996-10-16       1997-10-14   \n",
       "\n",
       "                                      titles  \\\n",
       "0                             data processor   \n",
       "1  data processor and data processing system   \n",
       "\n",
       "                                           abstracts  \\\n",
       "0  problem to be solved: to reduce a pipeline sta...   \n",
       "1  problem to be solved: to reduce a pipeline sta...   \n",
       "\n",
       "                                         description  \\\n",
       "0  Detailed Description of the Invention[0001]BAC...   \n",
       "1  Detailed Description of the Invention[0001]BAC...   \n",
       "\n",
       "                                           inventors assignees  \\\n",
       "0                   uminaga masahiro, saito yasuhiko             \n",
       "1   nishimoto junichi, nishii osamu, arakawa fumi...             \n",
       "\n",
       "                                            combined  \\\n",
       "0  data processor problem to be solved: to reduce...   \n",
       "1  data processor and data processing system prob...   \n",
       "\n",
       "                                          embeddings            ucid  \n",
       "0  [-0.009465754, -0.2735243, -0.2240375, 0.05655...  JP-H09311786-A  \n",
       "1  [-0.018668285, -0.2591647, -0.23473088, 0.0554...  JP-H10177520-A  "
      ]
     },
     "execution_count": 520,
     "metadata": {},
     "output_type": "execute_result"
    }
   ],
   "source": [
    "df.head(2)"
   ]
  },
  {
   "cell_type": "code",
   "execution_count": 534,
   "metadata": {},
   "outputs": [
    {
     "data": {
      "text/plain": [
       "500"
      ]
     },
     "execution_count": 534,
     "metadata": {},
     "output_type": "execute_result"
    }
   ],
   "source": [
    "df.patent_number.nunique()"
   ]
  },
  {
   "cell_type": "code",
   "execution_count": 527,
   "metadata": {},
   "outputs": [
    {
     "data": {
      "text/plain": [
       "768"
      ]
     },
     "execution_count": 527,
     "metadata": {},
     "output_type": "execute_result"
    }
   ],
   "source": [
    "len(df.embeddings[0])"
   ]
  },
  {
   "cell_type": "code",
   "execution_count": 528,
   "metadata": {},
   "outputs": [
    {
     "data": {
      "text/plain": [
       "True"
      ]
     },
     "execution_count": 528,
     "metadata": {},
     "output_type": "execute_result"
    }
   ],
   "source": [
    "es.ping()"
   ]
  },
  {
   "cell_type": "markdown",
   "metadata": {},
   "source": [
    "# Creating new index in Elastic Search"
   ]
  },
  {
   "cell_type": "code",
   "execution_count": 529,
   "metadata": {},
   "outputs": [
    {
     "data": {
      "text/plain": [
       "True"
      ]
     },
     "execution_count": 529,
     "metadata": {},
     "output_type": "execute_result"
    }
   ],
   "source": [
    "es.ping()"
   ]
  },
  {
   "cell_type": "code",
   "execution_count": 530,
   "metadata": {},
   "outputs": [
    {
     "data": {
      "text/plain": [
       "ObjectApiResponse({'acknowledged': True, 'shards_acknowledged': True, 'index': 'all_patents'})"
      ]
     },
     "execution_count": 530,
     "metadata": {},
     "output_type": "execute_result"
    }
   ],
   "source": [
    "from indexMapping import indexMapping\n",
    "\n",
    "es.indices.create(index=\"all_patents\", mappings=indexMapping)"
   ]
  },
  {
   "cell_type": "markdown",
   "metadata": {},
   "source": [
    "# Ingest the data into index"
   ]
  },
  {
   "cell_type": "code",
   "execution_count": 531,
   "metadata": {},
   "outputs": [],
   "source": [
    "record_list = df.to_dict(\"records\")"
   ]
  },
  {
   "cell_type": "markdown",
   "metadata": {},
   "source": [
    "#### Now we have to index each and every record into all_patents index (nothing but table in database)"
   ]
  },
  {
   "cell_type": "code",
   "execution_count": 535,
   "metadata": {},
   "outputs": [],
   "source": [
    "for record in record_list:\n",
    "    try:\n",
    "        es.index(index=\"all_patents\",document=record,id=record['patent_number'])\n",
    "    except Exception as e:\n",
    "        print(e)"
   ]
  },
  {
   "cell_type": "code",
   "execution_count": 536,
   "metadata": {},
   "outputs": [
    {
     "data": {
      "text/plain": [
       "ObjectApiResponse({'count': 500, '_shards': {'total': 1, 'successful': 1, 'skipped': 0, 'failed': 0}})"
      ]
     },
     "execution_count": 536,
     "metadata": {},
     "output_type": "execute_result"
    }
   ],
   "source": [
    "es.count(index=\"all_patents\")"
   ]
  },
  {
   "cell_type": "markdown",
   "metadata": {},
   "source": [
    "## search data"
   ]
  },
  {
   "cell_type": "code",
   "execution_count": 541,
   "metadata": {},
   "outputs": [
    {
     "name": "stderr",
     "output_type": "stream",
     "text": [
      "C:\\Users\\venkatesh\\AppData\\Local\\Temp\\ipykernel_13220\\288276574.py:11: ElasticsearchWarning: The kNN search API has been replaced by the `knn` option in the search API.\n",
      "  res = es.knn_search(index = \"all_patents\",knn=query,source=[\"patent_number\",\"titles\",\"description\"])\n"
     ]
    },
    {
     "data": {
      "text/plain": [
       "[{'_index': 'all_patents',\n",
       "  '_id': 'US-4736293-A',\n",
       "  '_score': 0.014739963,\n",
       "  '_source': {'patent_number': 'US-4736293-A',\n",
       "   'titles': 'interleaved set-associative memory',\n",
       "   'description': 'Detailed Description of the Invention[0001]BACKGROUND OF THE INVENTION 1. Field of the Invention The present invention relates to a data processing device such as a microprocessor or a microcomputer, and more particularly to a technique effective when applied to a data processing device such as superscalar for parallel processing.[0002]2. Description of the Related Art A microprocessor (CPU (Central P  rocessing unit), microcomputer, etc. ) Sequentially fetches a sequence of instructions,  Decrypt and execute. The instructions executed by the microprocessor are now of fixed length with the aim of simplifying the decoding circuit. A microprocessor that executes fixed-length instructions in a pipeline (Pipelining)  It is called an ISC (Red used Instruction Set Computer) type processor.FIG. 1 shows a pipelined implementation method of a microprocessor. Here, for simplification, the normally existing memory access stage (M  EM) is omitted. Individual stages (101, 10)  3, 105, 107) is a unit of time (clock)  The individual instruction processing is completed by sequentially stacking the processing from the first stage to the last stage through the latch group (102, 104, 106). The first stage 101 fetches an instruction (IF). Second  The stage 103 interprets an instruction and reads a register (ID). The third stage 105 executes the operation designated by the instruction function (EX). The fourth stage 107 writes the calculation result to the register arranged in the second stage 103 via the signal line 108 (WB).FIG. 2 shows a conceptual diagram when processing four instructions in a pipeline. If a subsequent instruction uses the contents of the register of the preceding instruction, there is room in the pipeline for the subsequent instruction (called pipeline stall due to data hazard). This state is shown in FIG. The two arrows pointing to the lower left in (a) of FIG. 2 indicate the register read of the subsequent instruction after the register write of the preceding instruction.Therefore, as a means for solving this problem, when the subsequent instruction uses the result of the previous operation, that value is also sent to the operator in the third stage 105 via the signal line 108. The control line for the above is the signal line 109,  110. This adjustment is  This is known as g), which allows execution every clock. It should be noted that 2 facing downward left in FIG.  The two arrows indicate forwarding. Therefore, the number of clocks required for individual instruction processing is four, for example.  However, since each stage processes a new instruction every clock, the instruction processing becomes one instruction per clock. Therefore, since one instruction can be executed in one clock, the smaller the number of execution instructions for performing a certain process (program), the shorter the execution time.Regarding pipeline and forwarding, 1994 Morgan Kaufman Publishers, I  Hennessy et al., `` Computer Organization a  nd Design ”Chapter 6 Enhancing Performance with Pipeli  ning (pages 362 to 450).Next, as an example of a method for improving the processing speed of a microprocessor, a superscalar method (Superscalar method)  ar). In the superscalar system, the number of arithmetic units that can be executed at the same time is plural, for example, two, and accordingly, two instruction fetches and two instruction decodes can be performed at one time. In this case, as shown in FIG. 3A without data dependence, ideally, two instructions can be executed every clock, so that the execution time becomes half as compared with the normal pipeline method. . For the superscalar method, see Nikkei Electronics, November 2, 1989.  7th issue (No.487), pages 191 to 200, \"Next Generation RI  SC, aiming for 100 MIPS in CMOS by introducing parallel processing ”.R adopting the conventional superscalar system  The instruction length of an ISC type microprocessor is fixed at 4 bytes, and the number of operands of arithmetic instructions such as arithmetic operations is generally three. This example is disclosed in Japanese Patent Laid-Open No. 2-1  No. 30634. On the other hand, there is a RISC-type microprocessor with a 2-byte fixed length instruction in order to improve code efficiency (reduce the amount of memory used for storing instructions). However, the RI of the 2-byte fixed length instruction  The SC type microprocessor does not employ the superscalar system. This example is described in JP-A-5-197546.[0009]In order to clarify the problems caused by the superscalar method, description will be made with reference to FIG. The operation of the instructions shown in FIG. 3 is shown below.(1) mov R3, R2 \"copy contents of register R3 to register R2\" (2) mov # 32, R5 \"copy data * 32 * to register R5\" (3) add R4, R2 \"register R4 Add the contents of R2 and the contents of R2 and store the result in R2. ”(4) and R3, R5“ AND the contents of registers R3 and R5 and store the result in R5. ”Instruction (1) above The instruction (2) and the instruction (3) and the instruction (4) have no data dependency (data flow). However, the instruction (1) and the instruction (3), and the instruction (2) and the instruction (4) have data dependency (data flow). That is, instruction (1) and instruction (3)  Both use register R2. Further, the register R5 is used by both the instruction (2) and the instruction (4). Therefore, the instruction (3) must be executed after the execution of the instruction (1). Also, the instruction (4) must be executed after the execution of the instruction (2).That is, when there is no data dependency between the instructions to be executed at the same time, there is no space in the pipeline as shown in FIG. A processing speed twice as fast as when executing only instructions is obtained. However, if there is a data dependency between the instructions that are executed at the same time, the pipeline will be disturbed as shown in FIG.  The processing speed will be the same as when executing only instructions.Therefore, as shown in FIG. 3C, when there is a data dependency between the instructions executed simultaneously,  A method is conceivable in which the subsequent instruction is sent to the next pipeline and the unprocessed instruction nop is executed at the same time as the preceding instruction in place of the subsequent instruction to avoid the disturbance of the pipeline. However, the number of useless instructions increases, the total number of execution instructions increases, and the execution time increases.Next, in order to clarify the problems caused by the instruction format and instruction system, description will be given below with reference to FIGS. 4 and 5.FIG. 4 shows an example of an instruction format (instruction format) and an instruction repertoire in the case of a 4-byte / 3-operand instruction (4-byte fixed length instruction) system. In this figure, the OP field 401 specifies the instruction function. The S1 field 403 is a register number specifying the first input (first operand), the S2 field 404 is a register number specifying the second input (second operand), and the D field 402 is a register number specifying the output (third operand). ) Is placed. That is, this instruction format can specify three operands. Command functions include copying (data transfer), addition, subtraction, and the like. In addition, 4  Compound instructions such as a 1-bit left shift addition instruction asl1add and a 0 extension addition instruction zextadd are also provided due to the margin of the instruction length of the byte instruction system. The asl1add instruction shifts the bit pattern of the first operand one bit to the left and then performs the normal addition, and the zextadd instruction zeros the left half of the bit pattern of the first operand and then performs the normal addition. is there. Note that, for simplification, memory access instructions, branch instructions, etc. that would normally exist are omitted. In the case of a copy command (data transfer command), the S2 field 404 is ignored, and the contents of the register (transfer source register) specified in the S1 field 403 remain unchanged in the D field 402.  It is copied (transferred) to the register (transfer destination register) specified by.FIG. 5 shows an example of the instruction format and instruction repertoire in the case of a 2-byte / 2-operand instruction (2-byte fixed length instruction) system. In FIG. 5, the OP field 501  Specifies the command function. The S1 field 503 has a register number (first operand) that specifies the first input, and the D field 502 has a register number (the same as the register number that specifies the output, the second operand) that specifies the second input. That is, this instruction format can specify two operands. As compared with FIG. 4, the point that the S2 field does not exist is the part that is clearly different from the instruction format of FIG. That is, the number of operands is one less. Further, the remaining field length is shorter than that of FIG.The instruction function includes a copy instruction (data transfer instruction), a 0 extension instruction, a sign extension instruction, and a 1 input transfer instruction as 1 input transfer instruction.  Bit shift left instruction, addition instruction as 2 input operation instruction,  There is a subtraction instruction, etc. Of these, the 1-bit left shift instruction is  Due to the instruction length, the numbers of the input register (transfer source register) and the output register (transfer destination register) are the same. Therefore, in this case, the S1 field stores not the register number but the extended instruction code for specifying the asl1 instruction.In order to clarify the advantages and disadvantages of the 4-byte / 3-operand instruction system and the 2-byte / 2-operand instruction system, consider the following formula, for example.A = b + c + d; (A) This is converted into an instruction sequence (instruction sequence (A1)) of a 4-byte / 3-operand instruction system as follows.Add Rb, Rc, Ra add Ra, Rd, Ra On the other hand, when this is converted into an instruction sequence (instruction sequence (A2)) of a 2-byte / 2-operand instruction system, it becomes as follows.Mov Rb, Ra add Rc, Ra add Rd, Ra If the instruction system has 4 bytes and 3 operands, the number of execution instructions is 2, but storage in the instruction memory (and instruction fetch for execution) The number of bytes is 8 bytes. On the other hand 2  In the case of an instruction system of bytes and 2 operands, the number of executed instructions increases to 3, but the number of bytes stored (and instruction fetch for execution) in the instruction memory decreases to 6 bytes. This tendency generally holds. It is generally accepted that the 4-byte / 3-operand instruction system has a 10 to 20% smaller number of executed instructions than the 2-byte / 2-operand instruction system, but the stored byte number is increased by 60%.However, there is one problem with the 2-byte / 2-operand instruction system. It involves the extra data transfer instructions needed in the two-operand instruction set. Although the above equation (A) can be similarly explained, the following equation (B) will be explained here.A = b + c; This is converted into an instruction sequence (instruction sequence (B1)) of a 4-byte / 3-operand instruction system as follows.On the other hand, when this is converted into a 2-byte / 2-operand instruction sequence (instruction sequence (B2)), it becomes as follows.Mov Rb, Ra add Rc, Ra 4 bytes / 3 operands instruction system can be executed in one clock by using only one of the pipelines. On the other hand, in the case of a 2-byte / 2-operand instruction system, a data flow exists between two extra instructions, a copy (data transfer) instruction mov and a subsequent add instruction add. That is, the value resulting from the preceding instruction is used by the subsequent instruction. Therefore, it is necessary to wait for the result of the preceding instruction mov to execute the succeeding instruction add, which takes two clocks. If the following instruction sequence mov Rb, Ra add Rc, Rd, there is no data flow between two instructions, so 2  Although it can be executed in one clock using one pipeline, the instruction string (B2) corresponding to the expression (B) requires extra processing time because of the data flow. When the superscalar system is adopted, it can be said that the 2-byte / 2-operand instruction system tends to take more execution time than the 4-byte / 3-operand instruction system because of the large number of execution instructions.The problem of the 2-byte / 2-operand instruction system has been explained by comparing it with the 4-byte / 3-operand instruction system.  When executing a 4-operand operation, the instruction sequence (A  There is a data flow as in 1), and there are similar problems to the 2-byte / 2-operand instruction system.The existing microprocessors are:  Due to the accumulation of software assets and the inheritance of software assets that have been built up to date, it is difficult to change the instruction format and instruction system. Therefore, it is necessary to improve the processing speed while maintaining the conventional instruction format and instruction system.An object of the present invention is to reduce the pipeline stall due to data hazard in the superscalar system and to realize the improvement of the processing speed.Another object of the present invention is to reduce the number of execution instructions and realize an improvement in processing speed.Further, another object of the present invention is 2 bytes.  It is to realize an improvement in the processing speed of a data processing device that executes a two-operand instruction system.The above and other objects and novel characteristics of the present invention will be apparent from the description of this specification and the accompanying drawings.[0031]The following is a brief description of an outline of a typical invention among the inventions disclosed in the present application.The pipeline type data processing device has a dependency on the stage for reading a fixed length instruction stored in the instruction memory and the data executed by the plurality of read instructions, and the plurality of instructions have a predetermined value. If there is a relationship,  It has a stage for changing the plurality of instructions so that the plurality of instructions can be executed in parallel in a plurality of pipelines, and a stage for executing the changed plurality of instructions in parallel.The instruction system is a 2-byte 2-operand instruction system, but is internally processed as a 3-operand instruction system. That is, the instruction fetch stage fetches two instructions. The instruction decode stage decodes two adjacent instructions. Two sets of computing units for the computing stage are prepared. Then, two adjacent two-operand instructions are  The instruction decoder is provided with means for detecting equality with three three-operand instructions and, if so, means for integrating two instructions into one three-operand instruction and sending it to the subsequent execution stage. As a result, one 3-operand instruction is sent to the execution stage and executed in one clock. Further, when it is detected that two adjacent instructions have a data flow relationship but cannot be integrated into one three-operand instruction, means for sending the source data of the preceding instruction to the arithmetic unit for the subsequent instruction is provided.This allows two instructions to be executed simultaneously. Due to the above two, it is possible to execute two instruction processing in one clock, which conventionally took two clocks due to the data flow between the adjacent instructions. Therefore, the number of execution clocks as a whole can be reduced.[0035]DESCRIPTION OF THE PREFERRED EMBODIMENTS A microprocessor according to an embodiment of the present invention will be described in order of items.&lt;&lt; Microprocessor Pipeline Data Path &gt;&gt; FIG. 6 shows a pipeline data path of the microprocessor according to the embodiment of the present invention. It will be described below that the microprocessor fetches and executes an instruction of a 2-byte / 2-operand instruction system as shown in FIG.The first stage 700 is an instruction fetch stage. The second stage 800 is an instruction decode stage. The third stage 900 is a calculation stage. The fourth stage 1000 is a stage for writing to a register and forwarding. A first latch group 750, a second latch group 850, and a third latch group 850 are provided between each stage.  There is a latch group 950. It should be noted that each stage in the embodiments of FIG. 6 and subsequent figures shows the flow of data, and does not show the physical arrangement of the circuits and the like described in each stage.&lt;&lt; Instruction Fetch Stage &gt;&gt; FIG. 7 is a detailed block diagram of the first stage 700 and the first latch group 750. The first stage 700 includes a program counter (PC) 701, a fetch controller 702, and an instruction memory 703. The role of the instruction fetch stage of the first stage 700 is to pass the instructions in the instruction memory to the next instruction decode stage of the second stage 800.The address indicated by the program counter 701 is sent to the signal line 704, and the instruction 4 bytes (2 instructions) in the instruction memory 703 are fetched to the fetch control unit 702 via the signal line 705. The two instructions fetched by the fetch control unit 702 are sent to the signal line 7 according to the signal line 803.  It is sent to 06 and 707. Then the first latch group 750  The content of the signal line 706 is stored in the latch 751 therein, and the content of the signal line 707 is stored in the latch 752. The latch 751 stores the first instruction and the latch 752 stores the second instruction. Here, the first instruction is the second instruction in the instruction sequence.  It precedes the order. In the present application, the first instruction is also referred to as a preceding instruction and the second instruction is also referred to as a subsequent instruction.The value of the program counter 701 is set to 4  The value added with is reset to the program counter 701. The value of the program counter 701 (the value of the address that accesses the instruction memory) is set to be a multiple of 2 so that a 4-byte instruction (2 instructions) is fetched from the instruction memory and latched in the first latch group 750. The first stage 700 operates. However, the 4-byte instruction fetched from the instruction memory is not always latched in the first latch group 750 as it is. That is, the second stage 80  When viewed from the instruction decoder stage which is 0, information about how many bytes ahead of the current instruction the next desired instruction is sent to the fetch control unit 702 of the first stage 700 via the signal line 803.  In response to this, the fetch control unit 702 of the first stage 700 utilizes the buffer existing in the fetch control unit 702 to send out the desired 4 bytes (2 instructions) of the instruction decoding stage to the signal lines 706 and 707. 1 latch group 7  It stores in the latches 751 and 752 in 50.&lt;&lt; Instruction Decode Stage &gt;&gt; FIG. 8 shows a detailed block diagram of the second stage 800 and the second latch group 850. The second stage 800 includes a decode controller 8  01 and register file 802. The role of the instruction decode stage of the second stage 800 is as follows. (1) Prepare input data used by two instructions and pass it to the next operation stage (third stage 900).(2) The data flow between two instructions is inspected, and the execution result of the preceding instruction (first instruction) is compared with the subsequent instruction (second instruction).  If two instructions are not used, the processing stage is requested to process two instructions.(3) The data flow between two instructions is checked, and if the execution result of the preceding instruction is used by the succeeding instruction,  Modify the two instructions according to the given rules.(4) The number of instructions requested to be processed in the operation stage is sent to the instruction fetch stage to prepare for the next pipeline processing.Instruction decode stage (second stage 80  The operation of 0) will be described below. FIG. 12 shows a detailed block diagram of a part of the decoding control unit 801. The decode control unit 801 has a data flow detection circuit DFDC, an instruction conversion circuit INCC, and the like. Instruction conversion circuit INCC  Has selectors SEL1 to SEL4, processes the contents of the latches 751 and 752 under the control of the data flow detection circuit DFDC, and converts them into the contents of the latches 851 and 852.OP of the first instruction which is the content of the latch 751  The field is OP-1, the D field is D-1, and the S1 field is S1-1. The OP field of the second instruction, which is the contents of the latch 752, is OP-2, the D field is D-2, and the S1 field is S1-2. Latch 85  The OP field of the first instruction, which is the content of 1, is OPN-  1, D field is DN-1, S1 field is S1N-  Let it be 1. The OP field of the second instruction, which is the contents of the latch 852, is OPN-2, the D field is DN-2, and S1.  Let the field be S1N-2. The second instruction, which is the content of the latch 852, further has an S2 field, which is S2.  2N-2.The decode control unit 801 fetches two instructions, a preceding instruction and a succeeding instruction, from the latches 751 and 752 in the latch group 750 via signal lines 753 and 754. Then, the data flow detection circuit DFDC checks whether or not the register number of the D field (D-1) of the preceding instruction is equal to the register number of the S1 field (S1-2) or the D field (D-2) of the subsequent instruction. .If the register numbers are not equal, it can be determined that there is no data flow. If the register numbers are the same, it can be determined that there is a data flow. Then, the data flow detection circuit DFDC receives the control signal 821.  To 824, and switches the selectors SEL1 to SEL4 respectively to switch the latch 8 via the signal lines 813 and 804.  The first and second instructions converted into 51 and 852 are stored. The invalid command NOP820 generated by INCC is always input to one input of the selectors SEL1 and SEL2.Further, a new command generated by the data flow detection circuit DFDC is input to the selector SEL2 via the signal line 840. The new instruction input to the selector SEL2 via the signal line 840 is generated by the data flow detection circuit DFDC based on 0P-1 of the latch 751 and 0P-2 of the latch 752, and is input to 0P-2 of the latch 852. Is stored. As an example of the new instruction generated, 0P-1 is a 1-bit shift instruction asl1  There is a 1-bit shift addition instruction asl1add generated when 0P-2 is the addition instruction add.The selector SEL3 is S1-1 or D-.  This is for selecting one of the two values and storing it in S1N-2.The selector SEL4 is S1-1 or S1.  -2 is selected and stored in S2N-2.FIG. 11 shows rules for converting two instructions in the instruction decode stage into two instructions in the operation stage (conditions and instructions across the operation stage). The first instruction is either translated or not translated into an invalid instruction nop. The second instruction is converted from the 2-byte / 2-operand format shown in FIG. 5 to the 4-byte / 3-operand format shown in FIG. 4 or converted into an invalid instruction nop. The ALU in FIG. 11 is a general name for two-input operation instructions such as arithmetic operations (addition, subtraction, etc.) and logical operations (logical product, logical sum, etc.). As described above, zextALU is an instruction that zero-extends the first input to the arithmetic unit and performs ALU operation. asl1ALU is an instruction for shifting the first input to the arithmetic unit to the left by 1 bit and performing the ALU operation.FIG. 11A shows a 2-operand type operation instruction which requires two instructions, a copy instruction mov and an operation instruction ALU, in order to execute a three-operand operation instruction.  It is converted into a three-operand operation instruction ALU. This is the case where the register number of the D field of the copy instruction mov matches the register number of the D field of the arithmetic instruction ALU. In this case, the first instruction is converted into an invalid instruction nop, and the second instruction is converted into a three-operand arithmetic instruction and passed to the arithmetic stage.The values stored in the fields of the latches 851 and 852 are summarized as follows. In addition,  “←” means that the value on the right side of “←” is stored on the left side of “←”.[0055]  Specifically, it is as follows. OP-1 of the latch 751  It is assumed that \"mov\" is stored in \"\", \"RN\" is stored in \"D-1\", and \"Rm\" is stored in \"S1-1\". Also, the latch 752  OP-2 has \"ALU\", D-2 has \"RN\", S  It is assumed that “Rl” is stored in 1-2. Where D  The data flow detection circuit DFDC detects that both -1 and D-2 are \"RN\" and the register numbers match. Then, the data flow detection circuit DFDC causes the selector SEL1 via 821 so that SEL1 selects the nop instruction 820.  And stores the nop instruction 820 in OPN-1 of the latch 851. The data flow detection circuit DFDC includes a latch 7  51 D-1 and S1-1 are directly connected to the signal lines 753 and 8  The data is stored in DN-1 and S1N-1 of the latch 851 via 13.Further, the data flow detection circuit DFDC controls the selector SEL2 via the control signal 822 so that the selector SEL2 selects OP-2 of the latch 752, and OP-2 of the latch 752 is OPN- of the latch 852.  2 is stored. Further data flow detection circuit DFDC  Controls the selector SEL3 via the control signal 823 so that the selector SEL3 selects S1-1 of the latch 751, and the S1-1 of the latch 751 is changed to the S1N of the latch 852.  -2. Further, the data flow detection circuit DFDC stores D-2 of the latch 752 in DN-2 of the latch 852 as it is via the signal line 754. Further, in the data flow detection circuit DFDC, the selector SEL4 has a latch 75.  The selector SEL4 is controlled via 834 so as to select S1-1 of 2 and S1-1 of latch 752 is changed to S2N−.  2 is stored.FIG. 11B shows the case where the register number of the D field of the copy instruction mov matches the register number of the S1 field of the arithmetic instruction ALU. In this case, the second instruction is converted into a three-operand operation instruction and passed to the operation stage without changing the first instruction.The values stored in the fields of the latches 851 and 852 are summarized as follows.  Specifically, it is as follows. OP-1 of the latch 751  It is assumed that \"mov\" is stored in \"\", \"RN\" is stored in \"D-1\", and \"Rm\" is stored in \"S1-1\". Also, the latch 752  OP-2 has \"ALU\", D-2 has \"Rx\", S  It is assumed that “RN” is stored in 1-2. Where D  The data flow detection circuit DFDC detects that both -1 and S1-2 are \"RN\" and the register numbers match. The data flow detection circuit DFDC then selects the selector SEL.  1 controls the selector SEL1 via 821 so that OP-1 of the latch 751 (mov instruction in this case) is selected.  The v instruction is stored in OPN-1 of the latch 851.In the data flow detection circuit DFDC, the D-1 and S1-1 of the latch 751 are directly connected to the signal line 753,  The data is stored in DN-1 and S1N-1 of the latch 851 via 813. Further, the data flow detection circuit DFDC controls the selector SEL2 via the control signal 822 so that the selector SEL2 selects OP-2 of the latch 752, and stores OP-2 of the latch 752 in OPN-2 of the latch 852. . The data flow detection circuit DFDC stores D-2 of the latch 752 as it is in DN-2 of the latch 852 via the signal lines 754 and 804. Further, the data flow detection circuit DFDC controls the selector SEL3 via the control signal 823 so that the selector SEL3 selects S1-1 of the latch 751, and the S1N-2 of the latch 852 is controlled by the selector SEL3 via the signal line 804. Store S1-1. The data flow detection circuit DFDC connects S1-2 of the latch 752 via the signal lines 754 and 804.  It is stored in S2N-2 of the latch 852 as it is.It should be noted that the values specifically stored in the latches 851 and 852 are made as described above.  (2) It will be omitted after this. This is because the values to be stored in the latches 851 and 852 can be created in the same manner as (1) and (2) in FIG.FIG. 11 (3) is for converting a 1-operand type 1-bit left shift instruction into a 2-operand type 1-bit left shift instruction. Register field number of copy instruction mov and D of 1-bit left shift instruction asl1  This is the case when the field register numbers match. In this case, the first instruction becomes an invalid instruction nop in the operation stage,  The second instruction is converted into a 2-operand 1-bit left shift instruction asl1 and passed.That is, each field is converted as follows.[0063]  In FIG. 11, (4) is a case where the first instruction is the copy instruction mov and the second instruction or condition does not correspond to (1), (2) and (3) in FIG. In this case, the first instruction remains unchanged and the second instruction is converted into the invalid instruction nop and passed to the operation stage. The \"other\" instructions are executed in the next pipeline, which is one clock offset.That is, each field is converted as follows.OPN-1 ← OP-1, DN-1 ← D-1, S1N-1 ← S1-1, OPN-2 ← nop In FIG. 11 (5), 0 extension instruction zext and operation instruction ALU are set to 0.  It is combined with the extended operation instruction zextALU. This is the case where the register number of the D field of the 0 extension instruction zext matches the register number of the D field of the arithmetic instruction ALU.  In this case, the first instruction is an invalid instruction nop in the operation stage.  The second instruction is a 3-operand 0-extended operation instruction zextALU  Is converted to and passed.That is, each field is converted as follows.[0067]  FIG. 11 (6) shows a case where the register number in the D field of the 0 extension instruction zext and the register number in the S1 field of the add instruction add match. In this case, the first instruction remains in the operation stage, and the second instruction has a 3-operand value of 0.  Converted to the extended addition instruction zextadd and passed.That is, each field is converted as follows.[0069]  In addition to the addition instruction add, a commutative logical product instruction and, a logical sum instruction or, or the like may be converted in the same manner.In (7) of FIG. 11, the first instruction is the 0 extension instruction ze.  This is the case where the second instruction or condition does not correspond to (5) or (6) in FIG. 11 at xt. In this case, the first instruction remains unchanged and the second instruction is converted into the invalid instruction nop and passed to the operation stage. The \"other\" instructions are executed in the next pipeline, which is one clock offset.That is, each field is converted as follows.OPN-1 ← OP-1, DN-1 ← D-1, S1N-1 ← S1-1, OPN-2 ← nop (8) in FIG. 11 is a 1-bit left shift instruction asl1 and an operation instruction  ALU and 1-bit left shift operation instruction asl1ALU are combined. This is the case where the register number of the D field of the 1-bit left shift instruction asl1 and the register number of the D field of the arithmetic instruction ALU match. In this case, the first instruction is converted into the invalid instruction nop, and the second instruction is converted into the 3-operand 1-bit left shift operation instruction asl1ALU and passed to the operation stage.That is, each field is converted as follows.[0074]  FIG. 11 (9) shows a case where the register number of the D field of the 1-bit left shift instruction asl1 and the register number of the S1 field of the add instruction add match. In this case, the second instruction is converted to the 3-operand 1-bit left shift addition instruction asl1add and passed to the operation stage without changing the first instruction.That is, each field is converted as follows.[0076]  In (10) of FIG. 11, the first instruction is a 1-bit left shift instruction as.  This is the case where the second instruction or condition does not correspond to (8) or (9) in FIG. 11 at l1. In this case, the first instruction remains unchanged and the second instruction is converted into the invalid instruction nop and passed to the operation stage. The \"other\" instructions are executed in the next pipeline, which is one clock offset.That is, each field is converted as follows.OPN-1 ← OP-1, DN-1 ← D-1, S1N-1 ← S1-1, OPN-2 ← nop (11) in FIG. 11 shows a case where there is no data flow between two instructions. No instruction conversion is performed.The two new instructions converted by the decode controller 801 are sent to the signal lines 813 and 804 and stored in the latches 851 and 852 in the second latch group 850, respectively. In addition, the inspection result of the relationship between the preceding instruction and the succeeding instruction in the data flow detection circuit DFDC is shown in the PC of FIG.  The instruction fetch stage (first stage 700) is communicated via the signal line 803 based on the updated value. That is,  The instruction fetch stage is informed of the information specifying the two instructions to be decoded in the next pipeline.Further, the decode controller 801  S1 field (S1-1), D field (D-  1), and the S1 field 503 (S1-  2), the four register numbers of the D field 502 (D-2) are sent to the register file 802 via the signal lines 805, 806, 807 and 808. Register file 80  The contents of the four registers in 2 are the signal lines 809 and 81.  0, 811, and 812, and latches 853 (1-1st input) and latches 854 (first latch) in the second latch group 74.  -2 input), latch 855 (2-1 input), latch 8  56 (2nd-2nd input).A block diagram of the register file 802 is shown in FIG. The register file 802 includes a register RGSTR, a register control circuit RCC, and the like. Register RGSTR has 4 read ports and 2  There is a light port of a book and signal lines 809 and 8 respectively.  10, 811, 812 and signal lines 955, 956 are connected. Therefore, the register file 802 can read the contents of four registers at the same time. Also, it is possible to write to two registers at the same time.In the case of (1), (5), and (8) of FIG. 11, the contents of the two registers designated by (S1-1) and (S1-2) are read onto the signal lines 811, 812. The latch 855 (the 2nd-1st input) and the latch 856 (the 2nd-2nd)  Input).In the case of (2), (6), and (9) of FIG. 11, the contents of the register designated in (S1-1) are read out on the signal lines 809 and 811, and the latch 853 (first-first) is read. 1  Input) and the latch 855 (2-1st input). The content of the register designated by (D-2) is the signal line 81.  2 is read out and stored in the latch 856 (2-2nd input).In the case of (3) in FIG. 11, the contents of the register designated in (S1-1) are read out to the signal line 811, and stored in the latch 855 (second 2-1 input).In the case of (4), (7), and (10) of FIG. 11, the contents of the register designated by (S1-1) are read out to the signal line 809, and the latch 853 (first-1 input) is read. ).In the case of (11) in FIG. 11, (S1-  1), (D-1), (S1-2), and the contents of the four registers designated by (D-2) are signal lines 809, 810, and 8  11 and 812, the latch 853 (first-1 input), the latch 854 (first-2 input), the latch 855.  It is stored in the latch 856 (the 2-2nd input).&lt;&lt; Execution Stage &gt;&gt; FIG. 9 shows the third stage 9  00 and the third latch group 950 are shown in detail. The third stage 900 includes an arithmetic control unit 901 and an ALU.  Operation units 902, 90 including (Alithmetic Logic Unit)  3, the first input adjustment circuits 904 and 905, the selector 906,  And 907. The role of the execution stage, which is the third stage 900, is to execute the operation of two instructions.The computing unit 902 and the first input adjusting circuit 904 are circuits for computing the preceding instruction, and are the second latch group 850.  From the two latches 853 and 854 in the first input to the first input and the second input from the second input via the signal lines 859 and 860 to the selector 90.  Sent to 6. In addition, the first and second outputs from the two latches 953 and 954 in the third latch group 950 are the signal line 9  55, 956 to the selector 906.The selector 906 selects one of the signal lines 859, 955 and 956 according to the signal line 1001, and selects the arithmetic unit 90 via the first input circuit 904 and the signal line 912.  Send the data to 2. Also, the selector 906 is the signal line 86.  One of 0, 955 and 956 is selected according to the signal line 1001 and data is sent to the arithmetic unit 902 via the signal line 913.The arithmetic control unit 901 takes in the instruction of the latch 851 in the second latch group 850, and connects the arithmetic unit 902 and the first input adjusting circuit 904 to the signal line 911 according to the instruction function.  And 908 to perform the operation for the preceding instruction. The resulting value (first output) is stored in the latch 953 in the third latch group 950 via the signal line 918.On the other hand, the arithmetic unit 903 and the first input adjusting circuit 9  Reference numeral 05 denotes a circuit for calculating a subsequent instruction. The two latches 855 and 856 in the second latch group 850 connect the 2-1 input and the 2-2 input to the selector 907 via the signal lines 861 and 862. Sent. In addition, 2 in the third latch group 950  The first output and the second output from one of the latches 953 and 954 are sent to the selector 907 via the signal lines 955 and 956.The selector 907 selects one of the signal lines 861, 955 and 956 according to the signal line 1002, and selects the arithmetic unit 90 via the first input circuit 905 and the signal line 914.  Send data to 3. Also, the selector 907 is the signal line 86.  One of 2, 955 and 956 is selected according to the signal line 1002 and data is sent to the arithmetic unit 903 via the signal line 915. The arithmetic control unit 901 takes in the instruction of the latch 852 in the second latch group 850, controls the arithmetic unit 903 and the first input adjustment circuit 905 with the signal lines 910 and 909 according to the instruction function, and performs the arithmetic operation for the subsequent instruction. I do. The resulting value (second output) is stored in the latch 954 in the third latch group 950 via the signal line 919.The above is the execution stage (third stage 90).  0), but the s1add instruction and zextadd instruction will be supplementarily described. The asl1add instruction and zextadd instruction can be realized by finely adjusting the first input to the arithmetic unit 902 or 903 capable of realizing addition. That is, the first input is not directly input to the arithmetic unit, but is input to the first input adjustment circuit 904 or 905, and the arithmetic control unit 901 controls it.  This can be realized by performing 1-bit left shift or 0-extension adjustment, inputting it to the arithmetic unit 902 or 903, and controlling it to perform normal addition.&lt;&lt; Write Stage &gt;&gt; FIG. 10 is a block diagram for explaining the operation of the fourth stage 1000. The fourth stage 1000 is composed of a register number decoding circuit 1010 and a forwarding control circuit 1020. The role of the fourth stage 1000, which is a stage that performs writing to a register and forwarding, is as follows.(1) Write the operation results of two instructions to the register of the specified number.(2) If the operation results of two instructions are used in the operation stage (next pipeline) at the current clock, it is not the value latched in the second latch group 850,  The value latched in the third latch group 950 is adjusted so as to be input to the arithmetic unit (forwarding).First, the process (1) will be described. The fourth stage 1000 includes latches 95 in the third latch group 950.  The two instructions calculated immediately before from 1, 952 are sent to the signal line 9  It is taken into the register number decoding circuit 1010 via 57 and 958. Further, the latch 953 in the third latch group 950,  The value of the immediately preceding calculation result from 954 is output to signal lines 955 and 956  To send to. Then, the register number decoding circuit 1010 sends the register numbers in the two D fields of the instruction executed immediately before to the signal lines 1003 and 1004 to specify the write register number of the register file 802 of the second stage 800. Thus, the values of the two calculation results are written in the register file 802.Next, the process (2) will be described. The fourth stage 1000 includes latches 851 in the second latch group 850,  The two instructions to be calculated this time from 852 are signal line 857,  It is taken into the forwarding control circuit 1020 via 858. In addition, the latches 951 in the third latch group 950,  The two instructions calculated immediately before from 952 are sent to the signal line 95.  Forwarding control circuit 1020 via 7, 958  Take in. Then, the forwarding control circuit 102  For 0, it is checked whether the register numbers in the two D fields of the instruction executed immediately before and the numbers of the S1 field and S2 field of the two instructions to be calculated this time have the same value. If there is the same one as a result of the inspection, the latches 853, 854, 8 in the second latch group 850 are checked for that portion.  The forwarding control circuit 1020 is configured so that the values (signal lines 955 and 956) in the latches 953 and 954 in the third latch group 950 are input to the arithmetic units 902 and 903 instead of the values in 55 and 856. , 1002 to control the two selectors 906 and 907.&lt;&lt; Processing of Instruction Sequence &gt;&gt; FIG. 13 shows how the instruction sequence is processed by individual clocks in the superscalar processing of the present invention. For comparison, it is also shown how the instruction sequence is processed with individual clocks only when the invalid instruction nop is inserted when the two instructions cannot be executed in parallel. In the present invention, it is possible to process two instructions per clock. Also,  In the present invention, the number of execution instructions is 6 less and the execution time is shorter than that in the case where the invalid instruction nop is inserted when two instructions cannot be executed in parallel (about 40% in this instruction sequence).  There are less execution instructions).If the preceding instruction is a transfer type instruction such as mov, zext, asl1 and the following instruction is an addition instruction such as add, two instructions are converted into one instruction and executed in one clock. The number of clocks can be reduced and the speed can be increased. Further, even if the preceding instruction is a transfer instruction and the subsequent instruction is an operation instruction, and there is a data flow between the two, it is executed with one clock, so that the number of clocks as a whole can be reduced and the speed can be increased. .&lt;&lt; Application Example to Microcomputer &gt;&gt; FIG. 1  4 shows a microcomputer system using the superscalar system of the present invention. The microcomputer MCU includes a central processing unit CPU, a floating point processing unit FPU, and a multiplier MULT having a product-sum operation function.  A memory management unit MMU for converting a logical address into a physical address, an instruction and data cache memory CACHE, a cache controller CCNT, an external bus interface EBIF, a 32-bit logical address bus LABUS, and a 32-bit physical address data bus. PABUS and 32-bit data bus DBUS, D  BS and BS are formed on a semiconductor substrate such as single crystal silicon and resin-sealed (sealed in a plastic package).The microcomputer MCU is connected via an external address bus EAB and a data bus EDB to a main memory unit MM composed of a semiconductor memory using dynamic memory elements such as DRAM as memory cells.The central processing unit CPU is composed of the pipeline data path shown in FIG. However, a memory access stage is provided between the third stage and the fourth stage to form a so-called 5-stage pipeline. In addition,  The data memory and the instruction memory 703 correspond to the cache memory CACHE or the main memory MM and do not exist in the central processing unit CPU. The central processing unit CPU executes the instruction of the instruction system of the 2-byte fixed length instruction, and the arithmetic unit 90  Reference numerals 2 and 903 each have a 32-bit ALU or the like. The register file 802 has 16 general-purpose registers having a 32-bit length. That is, the central processing unit CPU executes the instructions of the 2-byte / 2-operand instruction system (instruction set) described in Japanese Patent Laid-Open No. 5-197546. The CPU described in JP-A-5-197546 is not a superscalar system. On the other hand, the central processing unit CPU is a superscalar system, and the central processing unit CPU can execute the same command system as the command system described in the application number 1992/897457. Therefore,  High-speed performance can be achieved while maintaining compatibility with existing software (object code compatibility). Also,  The high code efficiency, which is a characteristic of 2-byte fixed length instructions, can be maintained.Although the invention made by the present inventor has been specifically described based on the embodiments, the present invention is not limited to the embodiments and various modifications can be made without departing from the scope of the invention. There is no end. For example,  In the embodiment shown in FIG. 6 and the following, the case of the 2-byte / 2-operand instruction system has been described, but it is also applicable to the case of the 4-byte / 3-operand instruction system. Although the 0 extension instruction and the 0 extension operation instruction have been described, the same can be applied to the sign extension instruction and the sign extension operation instruction. Further, although the case where the register is specified in the S1 field of the transfer instruction of the first instruction has been described, the case where the S1 field is immediate data can be applied.[0105]The effects obtained by typical ones of the inventions disclosed in the present application will be briefly described as follows.The instructions can be executed in parallel by detecting the data flow between adjacent instructions and converting the instructions. Therefore, it is possible to execute a plurality of instruction processes in one clock, which conventionally takes a plurality of clocks. Thereby,  The number of execution clocks as a whole can be reduced.[Brief description of drawings]FIG. 1 illustrates a pipelined implementation of a microprocessor.FIG. 2 shows a concept of pipeline processing.FIG. 3 shows the concept of superscalar processing.FIG. 4 shows an example of an instruction format and an instruction repertoire of a 4-byte instruction system.FIG. 5 shows an example of a command format and a command repertoire of a 2-byte command system.FIG. 6 is a diagram showing a data path of a pipeline of a microprocessor according to an embodiment of the present invention.FIG. 7 is a detailed block diagram of a first stage and a first latch group.FIG. 8 is a detailed block diagram of a second stage and a second latch group.FIG. 9 is a detailed block diagram of a third stage and a third latch group.FIG. 10 is a block diagram illustrating the operation of the fourth stage.FIG. 11 shows rules for converting two instructions in the instruction decode stage into two instructions in the operation stage.FIG. 12 shows a detailed block diagram of a part of a decoding control unit.FIG. 13 shows how an instruction sequence is processed with individual clocks.FIG. 14 is a diagram of a microcomputer system using the superscalar system of the present invention.FIG. 15 is a block diagram of a register file.[Explanation of symbols]101 ... 1st stage, 103 ... 2nd stage, 1  05 ... 3rd stage, 107 ... 4th stage, 10  8, 109, 110 ... Signal line, 401 ... OP field, 402 ... D field, 403 ... S1 field, 404 ... S2 field, 501 ... OP field, 502 ... D field, 503 ... S1 Field: 700 ... First stage, 800 ... Second stage, 900 ... Third stage, 1000 ... Fourth stage, 701 ... Program counter, 702 ... Fetch controller, 703 ... Instruction memory, 704 , 705,  706, 707 ... Signal line, 751, 752 ... Latch, 801, Decode control unit, 802 ... Register file, 803, 804, 805, 806, 807, 8  08, 809, 810, 811, 812, 813 ... Signal lines, 851, 852, 853, 854, 855, 85  6 ... Latch, 857, 858, 859, 860, 86  1, 862 ... Signal line, 901 ... Arithmetic control unit, 902  ... calculator, 903 ... calculator, 904 ... first input adjusting circuit, 905 ... first input adjusting circuit, 906 ... selector, 907 ... selector, 908, 909, 910, 91  1, 912, 913, 914, 915, 916, 91  7, 918, 919 ... Signal line, 951, 952, 95  3, 954 ... Latch, 955, 956, 957, 95  8 ... Signal line, 1001, 1002, 1003, 100  4 ... Signal line, 1010 ... Register number control circuit, 1  020 ... Forwarding control circuit, INCC ... Command conversion circuit, DFDC ... Data flow detection circuit, MC  U ... Microcomputer, CPU ... Central processing unit, FPU ... Floating point processing unit, MULT ...  ... Multiplier, MMU ... Memory management unit, CACHE  ... Instruction and data cache memory, CCNT ...  ... cache controller, EBIF ... external bus interface, LABUS ... 32-bit logical address bus, PABUS ... 32-bit physical address data bus, DBUS, DBS ... 32-bit data bus,  EAB ... External address bus, EDB ... External data bus, MM ... Main memory, RCC ... Register control circuit, RGSTR ... Register.'}},\n",
       " {'_index': 'all_patents',\n",
       "  '_id': 'US-6460117-B1',\n",
       "  '_score': 0.014611719,\n",
       "  '_source': {'patent_number': 'US-6460117-B1',\n",
       "   'titles': 'set-associative cache memory having a mechanism for migrating a most recently used set',\n",
       "   'description': 'Detailed Description of the Invention[0001]BACKGROUND OF THE INVENTION 1. Field of the Invention The present invention relates to a data processing device such as a microprocessor or a microcomputer, and more particularly to a technique effective when applied to a data processing device such as superscalar for parallel processing.[0002]2. Description of the Related Art A microprocessor (CPU (Central P  rocessing unit), microcomputer, etc. ) Sequentially fetches a sequence of instructions,  Decrypt and execute. The instructions executed by the microprocessor are now of fixed length with the aim of simplifying the decoding circuit. A microprocessor that executes fixed-length instructions in a pipeline (Pipelining)  It is called an ISC (Red used Instruction Set Computer) type processor.FIG. 1 shows a pipelined implementation method of a microprocessor. Here, for simplification, the normally existing memory access stage (M  EM) is omitted. Individual stages (101, 10)  3, 105, 107) is a unit of time (clock)  The individual instruction processing is completed by sequentially stacking the processing from the first stage to the last stage through the latch group (102, 104, 106). The first stage 101 fetches an instruction (IF). Second  The stage 103 interprets an instruction and reads a register (ID). The third stage 105 executes the operation designated by the instruction function (EX). The fourth stage 107 writes the calculation result to the register arranged in the second stage 103 via the signal line 108 (WB).FIG. 2 shows a conceptual diagram when processing four instructions in a pipeline. If a subsequent instruction uses the contents of the register of the preceding instruction, there is room in the pipeline for the subsequent instruction (called pipeline stall due to data hazard). This state is shown in FIG. The two arrows pointing to the lower left in (a) of FIG. 2 indicate the register read of the subsequent instruction after the register write of the preceding instruction.Therefore, as a means for solving this problem, when the subsequent instruction uses the result of the previous operation, that value is also sent to the operator in the third stage 105 via the signal line 108. The control line for the above is the signal line 109,  110. This adjustment is  This is known as g), which allows execution every clock. It should be noted that 2 facing downward left in FIG.  The two arrows indicate forwarding. Therefore, the number of clocks required for individual instruction processing is four, for example.  However, since each stage processes a new instruction every clock, the instruction processing becomes one instruction per clock. Therefore, since one instruction can be executed in one clock, the smaller the number of execution instructions for performing a certain process (program), the shorter the execution time.Regarding pipeline and forwarding, 1994 Morgan Kaufman Publishers, I  Hennessy et al., `` Computer Organization a  nd Design ”Chapter 6 Enhancing Performance with Pipeli  ning (pages 362 to 450).Next, as an example of a method for improving the processing speed of a microprocessor, a superscalar method (Superscalar method)  ar). In the superscalar system, the number of arithmetic units that can be executed at the same time is plural, for example, two, and accordingly, two instruction fetches and two instruction decodes can be performed at one time. In this case, as shown in FIG. 3A without data dependence, ideally, two instructions can be executed every clock, so that the execution time becomes half as compared with the normal pipeline method. . For the superscalar method, see Nikkei Electronics, November 2, 1989.  7th issue (No.487), pages 191 to 200, \"Next Generation RI  SC, aiming for 100 MIPS in CMOS by introducing parallel processing ”.R adopting the conventional superscalar system  The instruction length of an ISC type microprocessor is fixed at 4 bytes, and the number of operands of arithmetic instructions such as arithmetic operations is generally three. This example is disclosed in Japanese Patent Laid-Open No. 2-1  No. 30634. On the other hand, there is a RISC-type microprocessor with a 2-byte fixed length instruction in order to improve code efficiency (reduce the amount of memory used for storing instructions). However, the RI of the 2-byte fixed length instruction  The SC type microprocessor does not employ the superscalar system. This example is described in JP-A-5-197546.[0009]In order to clarify the problems caused by the superscalar method, description will be made with reference to FIG. The operation of the instructions shown in FIG. 3 is shown below.(1) mov R3, R2 \"copy contents of register R3 to register R2\" (2) mov # 32, R5 \"copy data * 32 * to register R5\" (3) add R4, R2 \"register R4 Add the contents of R2 and the contents of R2 and store the result in R2. ”(4) and R3, R5“ AND the contents of registers R3 and R5 and store the result in R5. ”Instruction (1) above The instruction (2) and the instruction (3) and the instruction (4) have no data dependency (data flow). However, the instruction (1) and the instruction (3), and the instruction (2) and the instruction (4) have data dependency (data flow). That is, instruction (1) and instruction (3)  Both use register R2. Further, the register R5 is used by both the instruction (2) and the instruction (4). Therefore, the instruction (3) must be executed after the execution of the instruction (1). Also, the instruction (4) must be executed after the execution of the instruction (2).That is, when there is no data dependency between the instructions to be executed at the same time, there is no space in the pipeline as shown in FIG. A processing speed twice as fast as when executing only instructions is obtained. However, if there is a data dependency between the instructions that are executed at the same time, the pipeline will be disturbed as shown in FIG.  The processing speed will be the same as when executing only instructions.Therefore, as shown in FIG. 3C, when there is a data dependency between the instructions executed simultaneously,  A method is conceivable in which the subsequent instruction is sent to the next pipeline and the unprocessed instruction nop is executed at the same time as the preceding instruction in place of the subsequent instruction to avoid the disturbance of the pipeline. However, the number of useless instructions increases, the total number of execution instructions increases, and the execution time increases.Next, in order to clarify the problems caused by the instruction format and instruction system, description will be given below with reference to FIGS. 4 and 5.FIG. 4 shows an example of an instruction format (instruction format) and an instruction repertoire in the case of a 4-byte / 3-operand instruction (4-byte fixed length instruction) system. In this figure, the OP field 401 specifies the instruction function. The S1 field 403 is a register number specifying the first input (first operand), the S2 field 404 is a register number specifying the second input (second operand), and the D field 402 is a register number specifying the output (third operand). ) Is placed. That is, this instruction format can specify three operands. Command functions include copying (data transfer), addition, subtraction, and the like. In addition, 4  Compound instructions such as a 1-bit left shift addition instruction asl1add and a 0 extension addition instruction zextadd are also provided due to the margin of the instruction length of the byte instruction system. The asl1add instruction shifts the bit pattern of the first operand one bit to the left and then performs the normal addition, and the zextadd instruction zeros the left half of the bit pattern of the first operand and then performs the normal addition. is there. Note that, for simplification, memory access instructions, branch instructions, etc. that would normally exist are omitted. In the case of a copy command (data transfer command), the S2 field 404 is ignored, and the contents of the register (transfer source register) specified in the S1 field 403 remain unchanged in the D field 402.  It is copied (transferred) to the register (transfer destination register) specified by.FIG. 5 shows an example of the instruction format and instruction repertoire in the case of a 2-byte / 2-operand instruction (2-byte fixed length instruction) system. In FIG. 5, the OP field 501  Specifies the command function. The S1 field 503 has a register number (first operand) that specifies the first input, and the D field 502 has a register number (the same as the register number that specifies the output, the second operand) that specifies the second input. That is, this instruction format can specify two operands. As compared with FIG. 4, the point that the S2 field does not exist is the part that is clearly different from the instruction format of FIG. That is, the number of operands is one less. Further, the remaining field length is shorter than that of FIG.The instruction function includes a copy instruction (data transfer instruction), a 0 extension instruction, a sign extension instruction, and a 1 input transfer instruction as 1 input transfer instruction.  Bit shift left instruction, addition instruction as 2 input operation instruction,  There is a subtraction instruction, etc. Of these, the 1-bit left shift instruction is  Due to the instruction length, the numbers of the input register (transfer source register) and the output register (transfer destination register) are the same. Therefore, in this case, the S1 field stores not the register number but the extended instruction code for specifying the asl1 instruction.In order to clarify the advantages and disadvantages of the 4-byte / 3-operand instruction system and the 2-byte / 2-operand instruction system, consider the following formula, for example.A = b + c + d; (A) This is converted into an instruction sequence (instruction sequence (A1)) of a 4-byte / 3-operand instruction system as follows.Add Rb, Rc, Ra add Ra, Rd, Ra On the other hand, when this is converted into an instruction sequence (instruction sequence (A2)) of a 2-byte / 2-operand instruction system, it becomes as follows.Mov Rb, Ra add Rc, Ra add Rd, Ra If the instruction system has 4 bytes and 3 operands, the number of execution instructions is 2, but storage in the instruction memory (and instruction fetch for execution) The number of bytes is 8 bytes. On the other hand 2  In the case of an instruction system of bytes and 2 operands, the number of executed instructions increases to 3, but the number of bytes stored (and instruction fetch for execution) in the instruction memory decreases to 6 bytes. This tendency generally holds. It is generally accepted that the 4-byte / 3-operand instruction system has a 10 to 20% smaller number of executed instructions than the 2-byte / 2-operand instruction system, but the stored byte number is increased by 60%.However, there is one problem with the 2-byte / 2-operand instruction system. It involves the extra data transfer instructions needed in the two-operand instruction set. Although the above equation (A) can be similarly explained, the following equation (B) will be explained here.A = b + c; This is converted into an instruction sequence (instruction sequence (B1)) of a 4-byte / 3-operand instruction system as follows.On the other hand, when this is converted into a 2-byte / 2-operand instruction sequence (instruction sequence (B2)), it becomes as follows.Mov Rb, Ra add Rc, Ra 4 bytes / 3 operands instruction system can be executed in one clock by using only one of the pipelines. On the other hand, in the case of a 2-byte / 2-operand instruction system, a data flow exists between two extra instructions, a copy (data transfer) instruction mov and a subsequent add instruction add. That is, the value resulting from the preceding instruction is used by the subsequent instruction. Therefore, it is necessary to wait for the result of the preceding instruction mov to execute the succeeding instruction add, which takes two clocks. If the following instruction sequence mov Rb, Ra add Rc, Rd, there is no data flow between two instructions, so 2  Although it can be executed in one clock using one pipeline, the instruction string (B2) corresponding to the expression (B) requires extra processing time because of the data flow. When the superscalar system is adopted, it can be said that the 2-byte / 2-operand instruction system tends to take more execution time than the 4-byte / 3-operand instruction system because of the large number of execution instructions.The problem of the 2-byte / 2-operand instruction system has been explained by comparing it with the 4-byte / 3-operand instruction system.  When executing a 4-operand operation, the instruction sequence (A  There is a data flow as in 1), and there are similar problems to the 2-byte / 2-operand instruction system.The existing microprocessors are:  Due to the accumulation of software assets and the inheritance of software assets that have been built up to date, it is difficult to change the instruction format and instruction system. Therefore, it is necessary to improve the processing speed while maintaining the conventional instruction format and instruction system.An object of the present invention is to reduce the pipeline stall due to data hazard in the superscalar system and to realize the improvement of the processing speed.Another object of the present invention is to reduce the number of execution instructions and realize an improvement in processing speed.Further, another object of the present invention is 2 bytes.  It is to realize an improvement in the processing speed of a data processing device that executes a two-operand instruction system.The above and other objects and novel characteristics of the present invention will be apparent from the description of this specification and the accompanying drawings.[0031]The following is a brief description of an outline of a typical invention among the inventions disclosed in the present application.The pipeline type data processing device has a dependency on the stage for reading a fixed length instruction stored in the instruction memory and the data executed by the plurality of read instructions, and the plurality of instructions have a predetermined value. If there is a relationship,  It has a stage for changing the plurality of instructions so that the plurality of instructions can be executed in parallel in a plurality of pipelines, and a stage for executing the changed plurality of instructions in parallel.The instruction system is a 2-byte 2-operand instruction system, but is internally processed as a 3-operand instruction system. That is, the instruction fetch stage fetches two instructions. The instruction decode stage decodes two adjacent instructions. Two sets of computing units for the computing stage are prepared. Then, two adjacent two-operand instructions are  The instruction decoder is provided with means for detecting equality with three three-operand instructions and, if so, means for integrating two instructions into one three-operand instruction and sending it to the subsequent execution stage. As a result, one 3-operand instruction is sent to the execution stage and executed in one clock. Further, when it is detected that two adjacent instructions have a data flow relationship but cannot be integrated into one three-operand instruction, means for sending the source data of the preceding instruction to the arithmetic unit for the subsequent instruction is provided.This allows two instructions to be executed simultaneously. Due to the above two, it is possible to execute two instruction processing in one clock, which conventionally took two clocks due to the data flow between the adjacent instructions. Therefore, the number of execution clocks as a whole can be reduced.[0035]DESCRIPTION OF THE PREFERRED EMBODIMENTS A microprocessor according to an embodiment of the present invention will be described in order of items.&lt;&lt; Microprocessor Pipeline Data Path &gt;&gt; FIG. 6 shows a pipeline data path of the microprocessor according to the embodiment of the present invention. It will be described below that the microprocessor fetches and executes an instruction of a 2-byte / 2-operand instruction system as shown in FIG.The first stage 700 is an instruction fetch stage. The second stage 800 is an instruction decode stage. The third stage 900 is a calculation stage. The fourth stage 1000 is a stage for writing to a register and forwarding. A first latch group 750, a second latch group 850, and a third latch group 850 are provided between each stage.  There is a latch group 950. It should be noted that each stage in the embodiments of FIG. 6 and subsequent figures shows the flow of data, and does not show the physical arrangement of the circuits and the like described in each stage.&lt;&lt; Instruction Fetch Stage &gt;&gt; FIG. 7 is a detailed block diagram of the first stage 700 and the first latch group 750. The first stage 700 includes a program counter (PC) 701, a fetch controller 702, and an instruction memory 703. The role of the instruction fetch stage of the first stage 700 is to pass the instructions in the instruction memory to the next instruction decode stage of the second stage 800.The address indicated by the program counter 701 is sent to the signal line 704, and the instruction 4 bytes (2 instructions) in the instruction memory 703 are fetched to the fetch control unit 702 via the signal line 705. The two instructions fetched by the fetch control unit 702 are sent to the signal line 7 according to the signal line 803.  It is sent to 06 and 707. Then the first latch group 750  The content of the signal line 706 is stored in the latch 751 therein, and the content of the signal line 707 is stored in the latch 752. The latch 751 stores the first instruction and the latch 752 stores the second instruction. Here, the first instruction is the second instruction in the instruction sequence.  It precedes the order. In the present application, the first instruction is also referred to as a preceding instruction and the second instruction is also referred to as a subsequent instruction.The value of the program counter 701 is set to 4  The value added with is reset to the program counter 701. The value of the program counter 701 (the value of the address that accesses the instruction memory) is set to be a multiple of 2 so that a 4-byte instruction (2 instructions) is fetched from the instruction memory and latched in the first latch group 750. The first stage 700 operates. However, the 4-byte instruction fetched from the instruction memory is not always latched in the first latch group 750 as it is. That is, the second stage 80  When viewed from the instruction decoder stage which is 0, information about how many bytes ahead of the current instruction the next desired instruction is sent to the fetch control unit 702 of the first stage 700 via the signal line 803.  In response to this, the fetch control unit 702 of the first stage 700 utilizes the buffer existing in the fetch control unit 702 to send out the desired 4 bytes (2 instructions) of the instruction decoding stage to the signal lines 706 and 707. 1 latch group 7  It stores in the latches 751 and 752 in 50.&lt;&lt; Instruction Decode Stage &gt;&gt; FIG. 8 shows a detailed block diagram of the second stage 800 and the second latch group 850. The second stage 800 includes a decode controller 8  01 and register file 802. The role of the instruction decode stage of the second stage 800 is as follows. (1) Prepare input data used by two instructions and pass it to the next operation stage (third stage 900).(2) The data flow between two instructions is inspected, and the execution result of the preceding instruction (first instruction) is compared with the subsequent instruction (second instruction).  If two instructions are not used, the processing stage is requested to process two instructions.(3) The data flow between two instructions is checked, and if the execution result of the preceding instruction is used by the succeeding instruction,  Modify the two instructions according to the given rules.(4) The number of instructions requested to be processed in the operation stage is sent to the instruction fetch stage to prepare for the next pipeline processing.Instruction decode stage (second stage 80  The operation of 0) will be described below. FIG. 12 shows a detailed block diagram of a part of the decoding control unit 801. The decode control unit 801 has a data flow detection circuit DFDC, an instruction conversion circuit INCC, and the like. Instruction conversion circuit INCC  Has selectors SEL1 to SEL4, processes the contents of the latches 751 and 752 under the control of the data flow detection circuit DFDC, and converts them into the contents of the latches 851 and 852.OP of the first instruction which is the content of the latch 751  The field is OP-1, the D field is D-1, and the S1 field is S1-1. The OP field of the second instruction, which is the contents of the latch 752, is OP-2, the D field is D-2, and the S1 field is S1-2. Latch 85  The OP field of the first instruction, which is the content of 1, is OPN-  1, D field is DN-1, S1 field is S1N-  Let it be 1. The OP field of the second instruction, which is the contents of the latch 852, is OPN-2, the D field is DN-2, and S1.  Let the field be S1N-2. The second instruction, which is the content of the latch 852, further has an S2 field, which is S2.  2N-2.The decode control unit 801 fetches two instructions, a preceding instruction and a succeeding instruction, from the latches 751 and 752 in the latch group 750 via signal lines 753 and 754. Then, the data flow detection circuit DFDC checks whether or not the register number of the D field (D-1) of the preceding instruction is equal to the register number of the S1 field (S1-2) or the D field (D-2) of the subsequent instruction. .If the register numbers are not equal, it can be determined that there is no data flow. If the register numbers are the same, it can be determined that there is a data flow. Then, the data flow detection circuit DFDC receives the control signal 821.  To 824, and switches the selectors SEL1 to SEL4 respectively to switch the latch 8 via the signal lines 813 and 804.  The first and second instructions converted into 51 and 852 are stored. The invalid command NOP820 generated by INCC is always input to one input of the selectors SEL1 and SEL2.Further, a new command generated by the data flow detection circuit DFDC is input to the selector SEL2 via the signal line 840. The new instruction input to the selector SEL2 via the signal line 840 is generated by the data flow detection circuit DFDC based on 0P-1 of the latch 751 and 0P-2 of the latch 752, and is input to 0P-2 of the latch 852. Is stored. As an example of the new instruction generated, 0P-1 is a 1-bit shift instruction asl1  There is a 1-bit shift addition instruction asl1add generated when 0P-2 is the addition instruction add.The selector SEL3 is S1-1 or D-.  This is for selecting one of the two values and storing it in S1N-2.The selector SEL4 is S1-1 or S1.  -2 is selected and stored in S2N-2.FIG. 11 shows rules for converting two instructions in the instruction decode stage into two instructions in the operation stage (conditions and instructions across the operation stage). The first instruction is either translated or not translated into an invalid instruction nop. The second instruction is converted from the 2-byte / 2-operand format shown in FIG. 5 to the 4-byte / 3-operand format shown in FIG. 4 or converted into an invalid instruction nop. The ALU in FIG. 11 is a general name for two-input operation instructions such as arithmetic operations (addition, subtraction, etc.) and logical operations (logical product, logical sum, etc.). As described above, zextALU is an instruction that zero-extends the first input to the arithmetic unit and performs ALU operation. asl1ALU is an instruction for shifting the first input to the arithmetic unit to the left by 1 bit and performing the ALU operation.FIG. 11A shows a 2-operand type operation instruction which requires two instructions, a copy instruction mov and an operation instruction ALU, in order to execute a three-operand operation instruction.  It is converted into a three-operand operation instruction ALU. This is the case where the register number of the D field of the copy instruction mov matches the register number of the D field of the arithmetic instruction ALU. In this case, the first instruction is converted into an invalid instruction nop, and the second instruction is converted into a three-operand arithmetic instruction and passed to the arithmetic stage.The values stored in the fields of the latches 851 and 852 are summarized as follows. In addition,  “←” means that the value on the right side of “←” is stored on the left side of “←”.[0055]  Specifically, it is as follows. OP-1 of the latch 751  It is assumed that \"mov\" is stored in \"\", \"RN\" is stored in \"D-1\", and \"Rm\" is stored in \"S1-1\". Also, the latch 752  OP-2 has \"ALU\", D-2 has \"RN\", S  It is assumed that “Rl” is stored in 1-2. Where D  The data flow detection circuit DFDC detects that both -1 and D-2 are \"RN\" and the register numbers match. Then, the data flow detection circuit DFDC causes the selector SEL1 via 821 so that SEL1 selects the nop instruction 820.  And stores the nop instruction 820 in OPN-1 of the latch 851. The data flow detection circuit DFDC includes a latch 7  51 D-1 and S1-1 are directly connected to the signal lines 753 and 8  The data is stored in DN-1 and S1N-1 of the latch 851 via 13.Further, the data flow detection circuit DFDC controls the selector SEL2 via the control signal 822 so that the selector SEL2 selects OP-2 of the latch 752, and OP-2 of the latch 752 is OPN- of the latch 852.  2 is stored. Further data flow detection circuit DFDC  Controls the selector SEL3 via the control signal 823 so that the selector SEL3 selects S1-1 of the latch 751, and the S1-1 of the latch 751 is changed to the S1N of the latch 852.  -2. Further, the data flow detection circuit DFDC stores D-2 of the latch 752 in DN-2 of the latch 852 as it is via the signal line 754. Further, in the data flow detection circuit DFDC, the selector SEL4 has a latch 75.  The selector SEL4 is controlled via 834 so as to select S1-1 of 2 and S1-1 of latch 752 is changed to S2N−.  2 is stored.FIG. 11B shows the case where the register number of the D field of the copy instruction mov matches the register number of the S1 field of the arithmetic instruction ALU. In this case, the second instruction is converted into a three-operand operation instruction and passed to the operation stage without changing the first instruction.The values stored in the fields of the latches 851 and 852 are summarized as follows.  Specifically, it is as follows. OP-1 of the latch 751  It is assumed that \"mov\" is stored in \"\", \"RN\" is stored in \"D-1\", and \"Rm\" is stored in \"S1-1\". Also, the latch 752  OP-2 has \"ALU\", D-2 has \"Rx\", S  It is assumed that “RN” is stored in 1-2. Where D  The data flow detection circuit DFDC detects that both -1 and S1-2 are \"RN\" and the register numbers match. The data flow detection circuit DFDC then selects the selector SEL.  1 controls the selector SEL1 via 821 so that OP-1 of the latch 751 (mov instruction in this case) is selected.  The v instruction is stored in OPN-1 of the latch 851.In the data flow detection circuit DFDC, the D-1 and S1-1 of the latch 751 are directly connected to the signal line 753,  The data is stored in DN-1 and S1N-1 of the latch 851 via 813. Further, the data flow detection circuit DFDC controls the selector SEL2 via the control signal 822 so that the selector SEL2 selects OP-2 of the latch 752, and stores OP-2 of the latch 752 in OPN-2 of the latch 852. . The data flow detection circuit DFDC stores D-2 of the latch 752 as it is in DN-2 of the latch 852 via the signal lines 754 and 804. Further, the data flow detection circuit DFDC controls the selector SEL3 via the control signal 823 so that the selector SEL3 selects S1-1 of the latch 751, and the S1N-2 of the latch 852 is controlled by the selector SEL3 via the signal line 804. Store S1-1. The data flow detection circuit DFDC connects S1-2 of the latch 752 via the signal lines 754 and 804.  It is stored in S2N-2 of the latch 852 as it is.It should be noted that the values specifically stored in the latches 851 and 852 are made as described above.  (2) It will be omitted after this. This is because the values to be stored in the latches 851 and 852 can be created in the same manner as (1) and (2) in FIG.FIG. 11 (3) is for converting a 1-operand type 1-bit left shift instruction into a 2-operand type 1-bit left shift instruction. Register field number of copy instruction mov and D of 1-bit left shift instruction asl1  This is the case when the field register numbers match. In this case, the first instruction becomes an invalid instruction nop in the operation stage,  The second instruction is converted into a 2-operand 1-bit left shift instruction asl1 and passed.That is, each field is converted as follows.[0063]  In FIG. 11, (4) is a case where the first instruction is the copy instruction mov and the second instruction or condition does not correspond to (1), (2) and (3) in FIG. In this case, the first instruction remains unchanged and the second instruction is converted into the invalid instruction nop and passed to the operation stage. The \"other\" instructions are executed in the next pipeline, which is one clock offset.That is, each field is converted as follows.OPN-1 ← OP-1, DN-1 ← D-1, S1N-1 ← S1-1, OPN-2 ← nop In FIG. 11 (5), 0 extension instruction zext and operation instruction ALU are set to 0.  It is combined with the extended operation instruction zextALU. This is the case where the register number of the D field of the 0 extension instruction zext matches the register number of the D field of the arithmetic instruction ALU.  In this case, the first instruction is an invalid instruction nop in the operation stage.  The second instruction is a 3-operand 0-extended operation instruction zextALU  Is converted to and passed.That is, each field is converted as follows.[0067]  FIG. 11 (6) shows a case where the register number in the D field of the 0 extension instruction zext and the register number in the S1 field of the add instruction add match. In this case, the first instruction remains in the operation stage, and the second instruction has a 3-operand value of 0.  Converted to the extended addition instruction zextadd and passed.That is, each field is converted as follows.[0069]  In addition to the addition instruction add, a commutative logical product instruction and, a logical sum instruction or, or the like may be converted in the same manner.In (7) of FIG. 11, the first instruction is the 0 extension instruction ze.  This is the case where the second instruction or condition does not correspond to (5) or (6) in FIG. 11 at xt. In this case, the first instruction remains unchanged and the second instruction is converted into the invalid instruction nop and passed to the operation stage. The \"other\" instructions are executed in the next pipeline, which is one clock offset.That is, each field is converted as follows.OPN-1 ← OP-1, DN-1 ← D-1, S1N-1 ← S1-1, OPN-2 ← nop (8) in FIG. 11 is a 1-bit left shift instruction asl1 and an operation instruction  ALU and 1-bit left shift operation instruction asl1ALU are combined. This is the case where the register number of the D field of the 1-bit left shift instruction asl1 and the register number of the D field of the arithmetic instruction ALU match. In this case, the first instruction is converted into the invalid instruction nop, and the second instruction is converted into the 3-operand 1-bit left shift operation instruction asl1ALU and passed to the operation stage.That is, each field is converted as follows.[0074]  FIG. 11 (9) shows a case where the register number of the D field of the 1-bit left shift instruction asl1 and the register number of the S1 field of the add instruction add match. In this case, the second instruction is converted to the 3-operand 1-bit left shift addition instruction asl1add and passed to the operation stage without changing the first instruction.That is, each field is converted as follows.[0076]  In (10) of FIG. 11, the first instruction is a 1-bit left shift instruction as.  This is the case where the second instruction or condition does not correspond to (8) or (9) in FIG. 11 at l1. In this case, the first instruction remains unchanged and the second instruction is converted into the invalid instruction nop and passed to the operation stage. The \"other\" instructions are executed in the next pipeline, which is one clock offset.That is, each field is converted as follows.OPN-1 ← OP-1, DN-1 ← D-1, S1N-1 ← S1-1, OPN-2 ← nop (11) in FIG. 11 shows a case where there is no data flow between two instructions. No instruction conversion is performed.The two new instructions converted by the decode controller 801 are sent to the signal lines 813 and 804 and stored in the latches 851 and 852 in the second latch group 850, respectively. In addition, the inspection result of the relationship between the preceding instruction and the succeeding instruction in the data flow detection circuit DFDC is shown in the PC of FIG.  The instruction fetch stage (first stage 700) is communicated via the signal line 803 based on the updated value. That is,  The instruction fetch stage is informed of the information specifying the two instructions to be decoded in the next pipeline.Further, the decode controller 801  S1 field (S1-1), D field (D-  1), and the S1 field 503 (S1-  2), the four register numbers of the D field 502 (D-2) are sent to the register file 802 via the signal lines 805, 806, 807 and 808. Register file 80  The contents of the four registers in 2 are the signal lines 809 and 81.  0, 811, and 812, and latches 853 (1-1st input) and latches 854 (first latch) in the second latch group 74.  -2 input), latch 855 (2-1 input), latch 8  56 (2nd-2nd input).A block diagram of the register file 802 is shown in FIG. The register file 802 includes a register RGSTR, a register control circuit RCC, and the like. Register RGSTR has 4 read ports and 2  There is a light port of a book and signal lines 809 and 8 respectively.  10, 811, 812 and signal lines 955, 956 are connected. Therefore, the register file 802 can read the contents of four registers at the same time. Also, it is possible to write to two registers at the same time.In the case of (1), (5), and (8) of FIG. 11, the contents of the two registers designated by (S1-1) and (S1-2) are read onto the signal lines 811, 812. The latch 855 (the 2nd-1st input) and the latch 856 (the 2nd-2nd)  Input).In the case of (2), (6), and (9) of FIG. 11, the contents of the register designated in (S1-1) are read out on the signal lines 809 and 811, and the latch 853 (first-first) is read. 1  Input) and the latch 855 (2-1st input). The content of the register designated by (D-2) is the signal line 81.  2 is read out and stored in the latch 856 (2-2nd input).In the case of (3) in FIG. 11, the contents of the register designated in (S1-1) are read out to the signal line 811, and stored in the latch 855 (second 2-1 input).In the case of (4), (7), and (10) of FIG. 11, the contents of the register designated by (S1-1) are read out to the signal line 809, and the latch 853 (first-1 input) is read. ).In the case of (11) in FIG. 11, (S1-  1), (D-1), (S1-2), and the contents of the four registers designated by (D-2) are signal lines 809, 810, and 8  11 and 812, the latch 853 (first-1 input), the latch 854 (first-2 input), the latch 855.  It is stored in the latch 856 (the 2-2nd input).&lt;&lt; Execution Stage &gt;&gt; FIG. 9 shows the third stage 9  00 and the third latch group 950 are shown in detail. The third stage 900 includes an arithmetic control unit 901 and an ALU.  Operation units 902, 90 including (Alithmetic Logic Unit)  3, the first input adjustment circuits 904 and 905, the selector 906,  And 907. The role of the execution stage, which is the third stage 900, is to execute the operation of two instructions.The computing unit 902 and the first input adjusting circuit 904 are circuits for computing the preceding instruction, and are the second latch group 850.  From the two latches 853 and 854 in the first input to the first input and the second input from the second input via the signal lines 859 and 860 to the selector 90.  Sent to 6. In addition, the first and second outputs from the two latches 953 and 954 in the third latch group 950 are the signal line 9  55, 956 to the selector 906.The selector 906 selects one of the signal lines 859, 955 and 956 according to the signal line 1001, and selects the arithmetic unit 90 via the first input circuit 904 and the signal line 912.  Send the data to 2. Also, the selector 906 is the signal line 86.  One of 0, 955 and 956 is selected according to the signal line 1001 and data is sent to the arithmetic unit 902 via the signal line 913.The arithmetic control unit 901 takes in the instruction of the latch 851 in the second latch group 850, and connects the arithmetic unit 902 and the first input adjusting circuit 904 to the signal line 911 according to the instruction function.  And 908 to perform the operation for the preceding instruction. The resulting value (first output) is stored in the latch 953 in the third latch group 950 via the signal line 918.On the other hand, the arithmetic unit 903 and the first input adjusting circuit 9  Reference numeral 05 denotes a circuit for calculating a subsequent instruction. The two latches 855 and 856 in the second latch group 850 connect the 2-1 input and the 2-2 input to the selector 907 via the signal lines 861 and 862. Sent. In addition, 2 in the third latch group 950  The first output and the second output from one of the latches 953 and 954 are sent to the selector 907 via the signal lines 955 and 956.The selector 907 selects one of the signal lines 861, 955 and 956 according to the signal line 1002, and selects the arithmetic unit 90 via the first input circuit 905 and the signal line 914.  Send data to 3. Also, the selector 907 is the signal line 86.  One of 2, 955 and 956 is selected according to the signal line 1002 and data is sent to the arithmetic unit 903 via the signal line 915. The arithmetic control unit 901 takes in the instruction of the latch 852 in the second latch group 850, controls the arithmetic unit 903 and the first input adjustment circuit 905 with the signal lines 910 and 909 according to the instruction function, and performs the arithmetic operation for the subsequent instruction. I do. The resulting value (second output) is stored in the latch 954 in the third latch group 950 via the signal line 919.The above is the execution stage (third stage 90).  0), but the s1add instruction and zextadd instruction will be supplementarily described. The asl1add instruction and zextadd instruction can be realized by finely adjusting the first input to the arithmetic unit 902 or 903 capable of realizing addition. That is, the first input is not directly input to the arithmetic unit, but is input to the first input adjustment circuit 904 or 905, and the arithmetic control unit 901 controls it.  This can be realized by performing 1-bit left shift or 0-extension adjustment, inputting it to the arithmetic unit 902 or 903, and controlling it to perform normal addition.&lt;&lt; Write Stage &gt;&gt; FIG. 10 is a block diagram for explaining the operation of the fourth stage 1000. The fourth stage 1000 is composed of a register number decoding circuit 1010 and a forwarding control circuit 1020. The role of the fourth stage 1000, which is a stage that performs writing to a register and forwarding, is as follows.(1) Write the operation results of two instructions to the register of the specified number.(2) If the operation results of two instructions are used in the operation stage (next pipeline) at the current clock, it is not the value latched in the second latch group 850,  The value latched in the third latch group 950 is adjusted so as to be input to the arithmetic unit (forwarding).First, the process (1) will be described. The fourth stage 1000 includes latches 95 in the third latch group 950.  The two instructions calculated immediately before from 1, 952 are sent to the signal line 9  It is taken into the register number decoding circuit 1010 via 57 and 958. Further, the latch 953 in the third latch group 950,  The value of the immediately preceding calculation result from 954 is output to signal lines 955 and 956  To send to. Then, the register number decoding circuit 1010 sends the register numbers in the two D fields of the instruction executed immediately before to the signal lines 1003 and 1004 to specify the write register number of the register file 802 of the second stage 800. Thus, the values of the two calculation results are written in the register file 802.Next, the process (2) will be described. The fourth stage 1000 includes latches 851 in the second latch group 850,  The two instructions to be calculated this time from 852 are signal line 857,  It is taken into the forwarding control circuit 1020 via 858. In addition, the latches 951 in the third latch group 950,  The two instructions calculated immediately before from 952 are sent to the signal line 95.  Forwarding control circuit 1020 via 7, 958  Take in. Then, the forwarding control circuit 102  For 0, it is checked whether the register numbers in the two D fields of the instruction executed immediately before and the numbers of the S1 field and S2 field of the two instructions to be calculated this time have the same value. If there is the same one as a result of the inspection, the latches 853, 854, 8 in the second latch group 850 are checked for that portion.  The forwarding control circuit 1020 is configured so that the values (signal lines 955 and 956) in the latches 953 and 954 in the third latch group 950 are input to the arithmetic units 902 and 903 instead of the values in 55 and 856. , 1002 to control the two selectors 906 and 907.&lt;&lt; Processing of Instruction Sequence &gt;&gt; FIG. 13 shows how the instruction sequence is processed by individual clocks in the superscalar processing of the present invention. For comparison, it is also shown how the instruction sequence is processed with individual clocks only when the invalid instruction nop is inserted when the two instructions cannot be executed in parallel. In the present invention, it is possible to process two instructions per clock. Also,  In the present invention, the number of execution instructions is 6 less and the execution time is shorter than that in the case where the invalid instruction nop is inserted when two instructions cannot be executed in parallel (about 40% in this instruction sequence).  There are less execution instructions).If the preceding instruction is a transfer type instruction such as mov, zext, asl1 and the following instruction is an addition instruction such as add, two instructions are converted into one instruction and executed in one clock. The number of clocks can be reduced and the speed can be increased. Further, even if the preceding instruction is a transfer instruction and the subsequent instruction is an operation instruction, and there is a data flow between the two, it is executed with one clock, so that the number of clocks as a whole can be reduced and the speed can be increased. .&lt;&lt; Application Example to Microcomputer &gt;&gt; FIG. 1  4 shows a microcomputer system using the superscalar system of the present invention. The microcomputer MCU includes a central processing unit CPU, a floating point processing unit FPU, and a multiplier MULT having a product-sum operation function.  A memory management unit MMU for converting a logical address into a physical address, an instruction and data cache memory CACHE, a cache controller CCNT, an external bus interface EBIF, a 32-bit logical address bus LABUS, and a 32-bit physical address data bus. PABUS and 32-bit data bus DBUS, D  BS and BS are formed on a semiconductor substrate such as single crystal silicon and resin-sealed (sealed in a plastic package).The microcomputer MCU is connected via an external address bus EAB and a data bus EDB to a main memory unit MM composed of a semiconductor memory using dynamic memory elements such as DRAM as memory cells.The central processing unit CPU is composed of the pipeline data path shown in FIG. However, a memory access stage is provided between the third stage and the fourth stage to form a so-called 5-stage pipeline. In addition,  The data memory and the instruction memory 703 correspond to the cache memory CACHE or the main memory MM and do not exist in the central processing unit CPU. The central processing unit CPU executes the instruction of the instruction system of the 2-byte fixed length instruction, and the arithmetic unit 90  Reference numerals 2 and 903 each have a 32-bit ALU or the like. The register file 802 has 16 general-purpose registers having a 32-bit length. That is, the central processing unit CPU executes the instructions of the 2-byte / 2-operand instruction system (instruction set) described in Japanese Patent Laid-Open No. 5-197546. The CPU described in JP-A-5-197546 is not a superscalar system. On the other hand, the central processing unit CPU is a superscalar system, and the central processing unit CPU can execute the same command system as the command system described in the application number 1992/897457. Therefore,  High-speed performance can be achieved while maintaining compatibility with existing software (object code compatibility). Also,  The high code efficiency, which is a characteristic of 2-byte fixed length instructions, can be maintained.Although the invention made by the present inventor has been specifically described based on the embodiments, the present invention is not limited to the embodiments and various modifications can be made without departing from the scope of the invention. There is no end. For example,  In the embodiment shown in FIG. 6 and the following, the case of the 2-byte / 2-operand instruction system has been described, but it is also applicable to the case of the 4-byte / 3-operand instruction system. Although the 0 extension instruction and the 0 extension operation instruction have been described, the same can be applied to the sign extension instruction and the sign extension operation instruction. Further, although the case where the register is specified in the S1 field of the transfer instruction of the first instruction has been described, the case where the S1 field is immediate data can be applied.[0105]The effects obtained by typical ones of the inventions disclosed in the present application will be briefly described as follows.The instructions can be executed in parallel by detecting the data flow between adjacent instructions and converting the instructions. Therefore, it is possible to execute a plurality of instruction processes in one clock, which conventionally takes a plurality of clocks. Thereby,  The number of execution clocks as a whole can be reduced.[Brief description of drawings]FIG. 1 illustrates a pipelined implementation of a microprocessor.FIG. 2 shows a concept of pipeline processing.FIG. 3 shows the concept of superscalar processing.FIG. 4 shows an example of an instruction format and an instruction repertoire of a 4-byte instruction system.FIG. 5 shows an example of a command format and a command repertoire of a 2-byte command system.FIG. 6 is a diagram showing a data path of a pipeline of a microprocessor according to an embodiment of the present invention.FIG. 7 is a detailed block diagram of a first stage and a first latch group.FIG. 8 is a detailed block diagram of a second stage and a second latch group.FIG. 9 is a detailed block diagram of a third stage and a third latch group.FIG. 10 is a block diagram illustrating the operation of the fourth stage.FIG. 11 shows rules for converting two instructions in the instruction decode stage into two instructions in the operation stage.FIG. 12 shows a detailed block diagram of a part of a decoding control unit.FIG. 13 shows how an instruction sequence is processed with individual clocks.FIG. 14 is a diagram of a microcomputer system using the superscalar system of the present invention.FIG. 15 is a block diagram of a register file.[Explanation of symbols]101 ... 1st stage, 103 ... 2nd stage, 1  05 ... 3rd stage, 107 ... 4th stage, 10  8, 109, 110 ... Signal line, 401 ... OP field, 402 ... D field, 403 ... S1 field, 404 ... S2 field, 501 ... OP field, 502 ... D field, 503 ... S1 Field: 700 ... First stage, 800 ... Second stage, 900 ... Third stage, 1000 ... Fourth stage, 701 ... Program counter, 702 ... Fetch controller, 703 ... Instruction memory, 704 , 705,  706, 707 ... Signal line, 751, 752 ... Latch, 801, Decode control unit, 802 ... Register file, 803, 804, 805, 806, 807, 8  08, 809, 810, 811, 812, 813 ... Signal lines, 851, 852, 853, 854, 855, 85  6 ... Latch, 857, 858, 859, 860, 86  1, 862 ... Signal line, 901 ... Arithmetic control unit, 902  ... calculator, 903 ... calculator, 904 ... first input adjusting circuit, 905 ... first input adjusting circuit, 906 ... selector, 907 ... selector, 908, 909, 910, 91  1, 912, 913, 914, 915, 916, 91  7, 918, 919 ... Signal line, 951, 952, 95  3, 954 ... Latch, 955, 956, 957, 95  8 ... Signal line, 1001, 1002, 1003, 100  4 ... Signal line, 1010 ... Register number control circuit, 1  020 ... Forwarding control circuit, INCC ... Command conversion circuit, DFDC ... Data flow detection circuit, MC  U ... Microcomputer, CPU ... Central processing unit, FPU ... Floating point processing unit, MULT ...  ... Multiplier, MMU ... Memory management unit, CACHE  ... Instruction and data cache memory, CCNT ...  ... cache controller, EBIF ... external bus interface, LABUS ... 32-bit logical address bus, PABUS ... 32-bit physical address data bus, DBUS, DBS ... 32-bit data bus,  EAB ... External address bus, EDB ... External data bus, MM ... Main memory, RCC ... Register control circuit, RGSTR ... Register.'}},\n",
       " {'_index': 'all_patents',\n",
       "  '_id': 'US-6026470-A',\n",
       "  '_score': 0.014504582,\n",
       "  '_source': {'patent_number': 'US-6026470-A',\n",
       "   'titles': 'software-managed programmable associativity caching mechanism monitoring cache misses to selectively implement multiple associativity levels',\n",
       "   'description': 'Detailed Description of the Invention[0001]BACKGROUND OF THE INVENTION 1. Field of the Invention The present invention relates to a data processing device such as a microprocessor or a microcomputer, and more particularly to a technique effective when applied to a data processing device such as superscalar for parallel processing.[0002]2. Description of the Related Art A microprocessor (CPU (Central P  rocessing unit), microcomputer, etc. ) Sequentially fetches a sequence of instructions,  Decrypt and execute. The instructions executed by the microprocessor are now of fixed length with the aim of simplifying the decoding circuit. A microprocessor that executes fixed-length instructions in a pipeline (Pipelining)  It is called an ISC (Red used Instruction Set Computer) type processor.FIG. 1 shows a pipelined implementation method of a microprocessor. Here, for simplification, the normally existing memory access stage (M  EM) is omitted. Individual stages (101, 10)  3, 105, 107) is a unit of time (clock)  The individual instruction processing is completed by sequentially stacking the processing from the first stage to the last stage through the latch group (102, 104, 106). The first stage 101 fetches an instruction (IF). Second  The stage 103 interprets an instruction and reads a register (ID). The third stage 105 executes the operation designated by the instruction function (EX). The fourth stage 107 writes the calculation result to the register arranged in the second stage 103 via the signal line 108 (WB).FIG. 2 shows a conceptual diagram when processing four instructions in a pipeline. If a subsequent instruction uses the contents of the register of the preceding instruction, there is room in the pipeline for the subsequent instruction (called pipeline stall due to data hazard). This state is shown in FIG. The two arrows pointing to the lower left in (a) of FIG. 2 indicate the register read of the subsequent instruction after the register write of the preceding instruction.Therefore, as a means for solving this problem, when the subsequent instruction uses the result of the previous operation, that value is also sent to the operator in the third stage 105 via the signal line 108. The control line for the above is the signal line 109,  110. This adjustment is  This is known as g), which allows execution every clock. It should be noted that 2 facing downward left in FIG.  The two arrows indicate forwarding. Therefore, the number of clocks required for individual instruction processing is four, for example.  However, since each stage processes a new instruction every clock, the instruction processing becomes one instruction per clock. Therefore, since one instruction can be executed in one clock, the smaller the number of execution instructions for performing a certain process (program), the shorter the execution time.Regarding pipeline and forwarding, 1994 Morgan Kaufman Publishers, I  Hennessy et al., `` Computer Organization a  nd Design ”Chapter 6 Enhancing Performance with Pipeli  ning (pages 362 to 450).Next, as an example of a method for improving the processing speed of a microprocessor, a superscalar method (Superscalar method)  ar). In the superscalar system, the number of arithmetic units that can be executed at the same time is plural, for example, two, and accordingly, two instruction fetches and two instruction decodes can be performed at one time. In this case, as shown in FIG. 3A without data dependence, ideally, two instructions can be executed every clock, so that the execution time becomes half as compared with the normal pipeline method. . For the superscalar method, see Nikkei Electronics, November 2, 1989.  7th issue (No.487), pages 191 to 200, \"Next Generation RI  SC, aiming for 100 MIPS in CMOS by introducing parallel processing ”.R adopting the conventional superscalar system  The instruction length of an ISC type microprocessor is fixed at 4 bytes, and the number of operands of arithmetic instructions such as arithmetic operations is generally three. This example is disclosed in Japanese Patent Laid-Open No. 2-1  No. 30634. On the other hand, there is a RISC-type microprocessor with a 2-byte fixed length instruction in order to improve code efficiency (reduce the amount of memory used for storing instructions). However, the RI of the 2-byte fixed length instruction  The SC type microprocessor does not employ the superscalar system. This example is described in JP-A-5-197546.[0009]In order to clarify the problems caused by the superscalar method, description will be made with reference to FIG. The operation of the instructions shown in FIG. 3 is shown below.(1) mov R3, R2 \"copy contents of register R3 to register R2\" (2) mov # 32, R5 \"copy data * 32 * to register R5\" (3) add R4, R2 \"register R4 Add the contents of R2 and the contents of R2 and store the result in R2. ”(4) and R3, R5“ AND the contents of registers R3 and R5 and store the result in R5. ”Instruction (1) above The instruction (2) and the instruction (3) and the instruction (4) have no data dependency (data flow). However, the instruction (1) and the instruction (3), and the instruction (2) and the instruction (4) have data dependency (data flow). That is, instruction (1) and instruction (3)  Both use register R2. Further, the register R5 is used by both the instruction (2) and the instruction (4). Therefore, the instruction (3) must be executed after the execution of the instruction (1). Also, the instruction (4) must be executed after the execution of the instruction (2).That is, when there is no data dependency between the instructions to be executed at the same time, there is no space in the pipeline as shown in FIG. A processing speed twice as fast as when executing only instructions is obtained. However, if there is a data dependency between the instructions that are executed at the same time, the pipeline will be disturbed as shown in FIG.  The processing speed will be the same as when executing only instructions.Therefore, as shown in FIG. 3C, when there is a data dependency between the instructions executed simultaneously,  A method is conceivable in which the subsequent instruction is sent to the next pipeline and the unprocessed instruction nop is executed at the same time as the preceding instruction in place of the subsequent instruction to avoid the disturbance of the pipeline. However, the number of useless instructions increases, the total number of execution instructions increases, and the execution time increases.Next, in order to clarify the problems caused by the instruction format and instruction system, description will be given below with reference to FIGS. 4 and 5.FIG. 4 shows an example of an instruction format (instruction format) and an instruction repertoire in the case of a 4-byte / 3-operand instruction (4-byte fixed length instruction) system. In this figure, the OP field 401 specifies the instruction function. The S1 field 403 is a register number specifying the first input (first operand), the S2 field 404 is a register number specifying the second input (second operand), and the D field 402 is a register number specifying the output (third operand). ) Is placed. That is, this instruction format can specify three operands. Command functions include copying (data transfer), addition, subtraction, and the like. In addition, 4  Compound instructions such as a 1-bit left shift addition instruction asl1add and a 0 extension addition instruction zextadd are also provided due to the margin of the instruction length of the byte instruction system. The asl1add instruction shifts the bit pattern of the first operand one bit to the left and then performs the normal addition, and the zextadd instruction zeros the left half of the bit pattern of the first operand and then performs the normal addition. is there. Note that, for simplification, memory access instructions, branch instructions, etc. that would normally exist are omitted. In the case of a copy command (data transfer command), the S2 field 404 is ignored, and the contents of the register (transfer source register) specified in the S1 field 403 remain unchanged in the D field 402.  It is copied (transferred) to the register (transfer destination register) specified by.FIG. 5 shows an example of the instruction format and instruction repertoire in the case of a 2-byte / 2-operand instruction (2-byte fixed length instruction) system. In FIG. 5, the OP field 501  Specifies the command function. The S1 field 503 has a register number (first operand) that specifies the first input, and the D field 502 has a register number (the same as the register number that specifies the output, the second operand) that specifies the second input. That is, this instruction format can specify two operands. As compared with FIG. 4, the point that the S2 field does not exist is the part that is clearly different from the instruction format of FIG. That is, the number of operands is one less. Further, the remaining field length is shorter than that of FIG.The instruction function includes a copy instruction (data transfer instruction), a 0 extension instruction, a sign extension instruction, and a 1 input transfer instruction as 1 input transfer instruction.  Bit shift left instruction, addition instruction as 2 input operation instruction,  There is a subtraction instruction, etc. Of these, the 1-bit left shift instruction is  Due to the instruction length, the numbers of the input register (transfer source register) and the output register (transfer destination register) are the same. Therefore, in this case, the S1 field stores not the register number but the extended instruction code for specifying the asl1 instruction.In order to clarify the advantages and disadvantages of the 4-byte / 3-operand instruction system and the 2-byte / 2-operand instruction system, consider the following formula, for example.A = b + c + d; (A) This is converted into an instruction sequence (instruction sequence (A1)) of a 4-byte / 3-operand instruction system as follows.Add Rb, Rc, Ra add Ra, Rd, Ra On the other hand, when this is converted into an instruction sequence (instruction sequence (A2)) of a 2-byte / 2-operand instruction system, it becomes as follows.Mov Rb, Ra add Rc, Ra add Rd, Ra If the instruction system has 4 bytes and 3 operands, the number of execution instructions is 2, but storage in the instruction memory (and instruction fetch for execution) The number of bytes is 8 bytes. On the other hand 2  In the case of an instruction system of bytes and 2 operands, the number of executed instructions increases to 3, but the number of bytes stored (and instruction fetch for execution) in the instruction memory decreases to 6 bytes. This tendency generally holds. It is generally accepted that the 4-byte / 3-operand instruction system has a 10 to 20% smaller number of executed instructions than the 2-byte / 2-operand instruction system, but the stored byte number is increased by 60%.However, there is one problem with the 2-byte / 2-operand instruction system. It involves the extra data transfer instructions needed in the two-operand instruction set. Although the above equation (A) can be similarly explained, the following equation (B) will be explained here.A = b + c; This is converted into an instruction sequence (instruction sequence (B1)) of a 4-byte / 3-operand instruction system as follows.On the other hand, when this is converted into a 2-byte / 2-operand instruction sequence (instruction sequence (B2)), it becomes as follows.Mov Rb, Ra add Rc, Ra 4 bytes / 3 operands instruction system can be executed in one clock by using only one of the pipelines. On the other hand, in the case of a 2-byte / 2-operand instruction system, a data flow exists between two extra instructions, a copy (data transfer) instruction mov and a subsequent add instruction add. That is, the value resulting from the preceding instruction is used by the subsequent instruction. Therefore, it is necessary to wait for the result of the preceding instruction mov to execute the succeeding instruction add, which takes two clocks. If the following instruction sequence mov Rb, Ra add Rc, Rd, there is no data flow between two instructions, so 2  Although it can be executed in one clock using one pipeline, the instruction string (B2) corresponding to the expression (B) requires extra processing time because of the data flow. When the superscalar system is adopted, it can be said that the 2-byte / 2-operand instruction system tends to take more execution time than the 4-byte / 3-operand instruction system because of the large number of execution instructions.The problem of the 2-byte / 2-operand instruction system has been explained by comparing it with the 4-byte / 3-operand instruction system.  When executing a 4-operand operation, the instruction sequence (A  There is a data flow as in 1), and there are similar problems to the 2-byte / 2-operand instruction system.The existing microprocessors are:  Due to the accumulation of software assets and the inheritance of software assets that have been built up to date, it is difficult to change the instruction format and instruction system. Therefore, it is necessary to improve the processing speed while maintaining the conventional instruction format and instruction system.An object of the present invention is to reduce the pipeline stall due to data hazard in the superscalar system and to realize the improvement of the processing speed.Another object of the present invention is to reduce the number of execution instructions and realize an improvement in processing speed.Further, another object of the present invention is 2 bytes.  It is to realize an improvement in the processing speed of a data processing device that executes a two-operand instruction system.The above and other objects and novel characteristics of the present invention will be apparent from the description of this specification and the accompanying drawings.[0031]The following is a brief description of an outline of a typical invention among the inventions disclosed in the present application.The pipeline type data processing device has a dependency on the stage for reading a fixed length instruction stored in the instruction memory and the data executed by the plurality of read instructions, and the plurality of instructions have a predetermined value. If there is a relationship,  It has a stage for changing the plurality of instructions so that the plurality of instructions can be executed in parallel in a plurality of pipelines, and a stage for executing the changed plurality of instructions in parallel.The instruction system is a 2-byte 2-operand instruction system, but is internally processed as a 3-operand instruction system. That is, the instruction fetch stage fetches two instructions. The instruction decode stage decodes two adjacent instructions. Two sets of computing units for the computing stage are prepared. Then, two adjacent two-operand instructions are  The instruction decoder is provided with means for detecting equality with three three-operand instructions and, if so, means for integrating two instructions into one three-operand instruction and sending it to the subsequent execution stage. As a result, one 3-operand instruction is sent to the execution stage and executed in one clock. Further, when it is detected that two adjacent instructions have a data flow relationship but cannot be integrated into one three-operand instruction, means for sending the source data of the preceding instruction to the arithmetic unit for the subsequent instruction is provided.This allows two instructions to be executed simultaneously. Due to the above two, it is possible to execute two instruction processing in one clock, which conventionally took two clocks due to the data flow between the adjacent instructions. Therefore, the number of execution clocks as a whole can be reduced.[0035]DESCRIPTION OF THE PREFERRED EMBODIMENTS A microprocessor according to an embodiment of the present invention will be described in order of items.&lt;&lt; Microprocessor Pipeline Data Path &gt;&gt; FIG. 6 shows a pipeline data path of the microprocessor according to the embodiment of the present invention. It will be described below that the microprocessor fetches and executes an instruction of a 2-byte / 2-operand instruction system as shown in FIG.The first stage 700 is an instruction fetch stage. The second stage 800 is an instruction decode stage. The third stage 900 is a calculation stage. The fourth stage 1000 is a stage for writing to a register and forwarding. A first latch group 750, a second latch group 850, and a third latch group 850 are provided between each stage.  There is a latch group 950. It should be noted that each stage in the embodiments of FIG. 6 and subsequent figures shows the flow of data, and does not show the physical arrangement of the circuits and the like described in each stage.&lt;&lt; Instruction Fetch Stage &gt;&gt; FIG. 7 is a detailed block diagram of the first stage 700 and the first latch group 750. The first stage 700 includes a program counter (PC) 701, a fetch controller 702, and an instruction memory 703. The role of the instruction fetch stage of the first stage 700 is to pass the instructions in the instruction memory to the next instruction decode stage of the second stage 800.The address indicated by the program counter 701 is sent to the signal line 704, and the instruction 4 bytes (2 instructions) in the instruction memory 703 are fetched to the fetch control unit 702 via the signal line 705. The two instructions fetched by the fetch control unit 702 are sent to the signal line 7 according to the signal line 803.  It is sent to 06 and 707. Then the first latch group 750  The content of the signal line 706 is stored in the latch 751 therein, and the content of the signal line 707 is stored in the latch 752. The latch 751 stores the first instruction and the latch 752 stores the second instruction. Here, the first instruction is the second instruction in the instruction sequence.  It precedes the order. In the present application, the first instruction is also referred to as a preceding instruction and the second instruction is also referred to as a subsequent instruction.The value of the program counter 701 is set to 4  The value added with is reset to the program counter 701. The value of the program counter 701 (the value of the address that accesses the instruction memory) is set to be a multiple of 2 so that a 4-byte instruction (2 instructions) is fetched from the instruction memory and latched in the first latch group 750. The first stage 700 operates. However, the 4-byte instruction fetched from the instruction memory is not always latched in the first latch group 750 as it is. That is, the second stage 80  When viewed from the instruction decoder stage which is 0, information about how many bytes ahead of the current instruction the next desired instruction is sent to the fetch control unit 702 of the first stage 700 via the signal line 803.  In response to this, the fetch control unit 702 of the first stage 700 utilizes the buffer existing in the fetch control unit 702 to send out the desired 4 bytes (2 instructions) of the instruction decoding stage to the signal lines 706 and 707. 1 latch group 7  It stores in the latches 751 and 752 in 50.&lt;&lt; Instruction Decode Stage &gt;&gt; FIG. 8 shows a detailed block diagram of the second stage 800 and the second latch group 850. The second stage 800 includes a decode controller 8  01 and register file 802. The role of the instruction decode stage of the second stage 800 is as follows. (1) Prepare input data used by two instructions and pass it to the next operation stage (third stage 900).(2) The data flow between two instructions is inspected, and the execution result of the preceding instruction (first instruction) is compared with the subsequent instruction (second instruction).  If two instructions are not used, the processing stage is requested to process two instructions.(3) The data flow between two instructions is checked, and if the execution result of the preceding instruction is used by the succeeding instruction,  Modify the two instructions according to the given rules.(4) The number of instructions requested to be processed in the operation stage is sent to the instruction fetch stage to prepare for the next pipeline processing.Instruction decode stage (second stage 80  The operation of 0) will be described below. FIG. 12 shows a detailed block diagram of a part of the decoding control unit 801. The decode control unit 801 has a data flow detection circuit DFDC, an instruction conversion circuit INCC, and the like. Instruction conversion circuit INCC  Has selectors SEL1 to SEL4, processes the contents of the latches 751 and 752 under the control of the data flow detection circuit DFDC, and converts them into the contents of the latches 851 and 852.OP of the first instruction which is the content of the latch 751  The field is OP-1, the D field is D-1, and the S1 field is S1-1. The OP field of the second instruction, which is the contents of the latch 752, is OP-2, the D field is D-2, and the S1 field is S1-2. Latch 85  The OP field of the first instruction, which is the content of 1, is OPN-  1, D field is DN-1, S1 field is S1N-  Let it be 1. The OP field of the second instruction, which is the contents of the latch 852, is OPN-2, the D field is DN-2, and S1.  Let the field be S1N-2. The second instruction, which is the content of the latch 852, further has an S2 field, which is S2.  2N-2.The decode control unit 801 fetches two instructions, a preceding instruction and a succeeding instruction, from the latches 751 and 752 in the latch group 750 via signal lines 753 and 754. Then, the data flow detection circuit DFDC checks whether or not the register number of the D field (D-1) of the preceding instruction is equal to the register number of the S1 field (S1-2) or the D field (D-2) of the subsequent instruction. .If the register numbers are not equal, it can be determined that there is no data flow. If the register numbers are the same, it can be determined that there is a data flow. Then, the data flow detection circuit DFDC receives the control signal 821.  To 824, and switches the selectors SEL1 to SEL4 respectively to switch the latch 8 via the signal lines 813 and 804.  The first and second instructions converted into 51 and 852 are stored. The invalid command NOP820 generated by INCC is always input to one input of the selectors SEL1 and SEL2.Further, a new command generated by the data flow detection circuit DFDC is input to the selector SEL2 via the signal line 840. The new instruction input to the selector SEL2 via the signal line 840 is generated by the data flow detection circuit DFDC based on 0P-1 of the latch 751 and 0P-2 of the latch 752, and is input to 0P-2 of the latch 852. Is stored. As an example of the new instruction generated, 0P-1 is a 1-bit shift instruction asl1  There is a 1-bit shift addition instruction asl1add generated when 0P-2 is the addition instruction add.The selector SEL3 is S1-1 or D-.  This is for selecting one of the two values and storing it in S1N-2.The selector SEL4 is S1-1 or S1.  -2 is selected and stored in S2N-2.FIG. 11 shows rules for converting two instructions in the instruction decode stage into two instructions in the operation stage (conditions and instructions across the operation stage). The first instruction is either translated or not translated into an invalid instruction nop. The second instruction is converted from the 2-byte / 2-operand format shown in FIG. 5 to the 4-byte / 3-operand format shown in FIG. 4 or converted into an invalid instruction nop. The ALU in FIG. 11 is a general name for two-input operation instructions such as arithmetic operations (addition, subtraction, etc.) and logical operations (logical product, logical sum, etc.). As described above, zextALU is an instruction that zero-extends the first input to the arithmetic unit and performs ALU operation. asl1ALU is an instruction for shifting the first input to the arithmetic unit to the left by 1 bit and performing the ALU operation.FIG. 11A shows a 2-operand type operation instruction which requires two instructions, a copy instruction mov and an operation instruction ALU, in order to execute a three-operand operation instruction.  It is converted into a three-operand operation instruction ALU. This is the case where the register number of the D field of the copy instruction mov matches the register number of the D field of the arithmetic instruction ALU. In this case, the first instruction is converted into an invalid instruction nop, and the second instruction is converted into a three-operand arithmetic instruction and passed to the arithmetic stage.The values stored in the fields of the latches 851 and 852 are summarized as follows. In addition,  “←” means that the value on the right side of “←” is stored on the left side of “←”.[0055]  Specifically, it is as follows. OP-1 of the latch 751  It is assumed that \"mov\" is stored in \"\", \"RN\" is stored in \"D-1\", and \"Rm\" is stored in \"S1-1\". Also, the latch 752  OP-2 has \"ALU\", D-2 has \"RN\", S  It is assumed that “Rl” is stored in 1-2. Where D  The data flow detection circuit DFDC detects that both -1 and D-2 are \"RN\" and the register numbers match. Then, the data flow detection circuit DFDC causes the selector SEL1 via 821 so that SEL1 selects the nop instruction 820.  And stores the nop instruction 820 in OPN-1 of the latch 851. The data flow detection circuit DFDC includes a latch 7  51 D-1 and S1-1 are directly connected to the signal lines 753 and 8  The data is stored in DN-1 and S1N-1 of the latch 851 via 13.Further, the data flow detection circuit DFDC controls the selector SEL2 via the control signal 822 so that the selector SEL2 selects OP-2 of the latch 752, and OP-2 of the latch 752 is OPN- of the latch 852.  2 is stored. Further data flow detection circuit DFDC  Controls the selector SEL3 via the control signal 823 so that the selector SEL3 selects S1-1 of the latch 751, and the S1-1 of the latch 751 is changed to the S1N of the latch 852.  -2. Further, the data flow detection circuit DFDC stores D-2 of the latch 752 in DN-2 of the latch 852 as it is via the signal line 754. Further, in the data flow detection circuit DFDC, the selector SEL4 has a latch 75.  The selector SEL4 is controlled via 834 so as to select S1-1 of 2 and S1-1 of latch 752 is changed to S2N−.  2 is stored.FIG. 11B shows the case where the register number of the D field of the copy instruction mov matches the register number of the S1 field of the arithmetic instruction ALU. In this case, the second instruction is converted into a three-operand operation instruction and passed to the operation stage without changing the first instruction.The values stored in the fields of the latches 851 and 852 are summarized as follows.  Specifically, it is as follows. OP-1 of the latch 751  It is assumed that \"mov\" is stored in \"\", \"RN\" is stored in \"D-1\", and \"Rm\" is stored in \"S1-1\". Also, the latch 752  OP-2 has \"ALU\", D-2 has \"Rx\", S  It is assumed that “RN” is stored in 1-2. Where D  The data flow detection circuit DFDC detects that both -1 and S1-2 are \"RN\" and the register numbers match. The data flow detection circuit DFDC then selects the selector SEL.  1 controls the selector SEL1 via 821 so that OP-1 of the latch 751 (mov instruction in this case) is selected.  The v instruction is stored in OPN-1 of the latch 851.In the data flow detection circuit DFDC, the D-1 and S1-1 of the latch 751 are directly connected to the signal line 753,  The data is stored in DN-1 and S1N-1 of the latch 851 via 813. Further, the data flow detection circuit DFDC controls the selector SEL2 via the control signal 822 so that the selector SEL2 selects OP-2 of the latch 752, and stores OP-2 of the latch 752 in OPN-2 of the latch 852. . The data flow detection circuit DFDC stores D-2 of the latch 752 as it is in DN-2 of the latch 852 via the signal lines 754 and 804. Further, the data flow detection circuit DFDC controls the selector SEL3 via the control signal 823 so that the selector SEL3 selects S1-1 of the latch 751, and the S1N-2 of the latch 852 is controlled by the selector SEL3 via the signal line 804. Store S1-1. The data flow detection circuit DFDC connects S1-2 of the latch 752 via the signal lines 754 and 804.  It is stored in S2N-2 of the latch 852 as it is.It should be noted that the values specifically stored in the latches 851 and 852 are made as described above.  (2) It will be omitted after this. This is because the values to be stored in the latches 851 and 852 can be created in the same manner as (1) and (2) in FIG.FIG. 11 (3) is for converting a 1-operand type 1-bit left shift instruction into a 2-operand type 1-bit left shift instruction. Register field number of copy instruction mov and D of 1-bit left shift instruction asl1  This is the case when the field register numbers match. In this case, the first instruction becomes an invalid instruction nop in the operation stage,  The second instruction is converted into a 2-operand 1-bit left shift instruction asl1 and passed.That is, each field is converted as follows.[0063]  In FIG. 11, (4) is a case where the first instruction is the copy instruction mov and the second instruction or condition does not correspond to (1), (2) and (3) in FIG. In this case, the first instruction remains unchanged and the second instruction is converted into the invalid instruction nop and passed to the operation stage. The \"other\" instructions are executed in the next pipeline, which is one clock offset.That is, each field is converted as follows.OPN-1 ← OP-1, DN-1 ← D-1, S1N-1 ← S1-1, OPN-2 ← nop In FIG. 11 (5), 0 extension instruction zext and operation instruction ALU are set to 0.  It is combined with the extended operation instruction zextALU. This is the case where the register number of the D field of the 0 extension instruction zext matches the register number of the D field of the arithmetic instruction ALU.  In this case, the first instruction is an invalid instruction nop in the operation stage.  The second instruction is a 3-operand 0-extended operation instruction zextALU  Is converted to and passed.That is, each field is converted as follows.[0067]  FIG. 11 (6) shows a case where the register number in the D field of the 0 extension instruction zext and the register number in the S1 field of the add instruction add match. In this case, the first instruction remains in the operation stage, and the second instruction has a 3-operand value of 0.  Converted to the extended addition instruction zextadd and passed.That is, each field is converted as follows.[0069]  In addition to the addition instruction add, a commutative logical product instruction and, a logical sum instruction or, or the like may be converted in the same manner.In (7) of FIG. 11, the first instruction is the 0 extension instruction ze.  This is the case where the second instruction or condition does not correspond to (5) or (6) in FIG. 11 at xt. In this case, the first instruction remains unchanged and the second instruction is converted into the invalid instruction nop and passed to the operation stage. The \"other\" instructions are executed in the next pipeline, which is one clock offset.That is, each field is converted as follows.OPN-1 ← OP-1, DN-1 ← D-1, S1N-1 ← S1-1, OPN-2 ← nop (8) in FIG. 11 is a 1-bit left shift instruction asl1 and an operation instruction  ALU and 1-bit left shift operation instruction asl1ALU are combined. This is the case where the register number of the D field of the 1-bit left shift instruction asl1 and the register number of the D field of the arithmetic instruction ALU match. In this case, the first instruction is converted into the invalid instruction nop, and the second instruction is converted into the 3-operand 1-bit left shift operation instruction asl1ALU and passed to the operation stage.That is, each field is converted as follows.[0074]  FIG. 11 (9) shows a case where the register number of the D field of the 1-bit left shift instruction asl1 and the register number of the S1 field of the add instruction add match. In this case, the second instruction is converted to the 3-operand 1-bit left shift addition instruction asl1add and passed to the operation stage without changing the first instruction.That is, each field is converted as follows.[0076]  In (10) of FIG. 11, the first instruction is a 1-bit left shift instruction as.  This is the case where the second instruction or condition does not correspond to (8) or (9) in FIG. 11 at l1. In this case, the first instruction remains unchanged and the second instruction is converted into the invalid instruction nop and passed to the operation stage. The \"other\" instructions are executed in the next pipeline, which is one clock offset.That is, each field is converted as follows.OPN-1 ← OP-1, DN-1 ← D-1, S1N-1 ← S1-1, OPN-2 ← nop (11) in FIG. 11 shows a case where there is no data flow between two instructions. No instruction conversion is performed.The two new instructions converted by the decode controller 801 are sent to the signal lines 813 and 804 and stored in the latches 851 and 852 in the second latch group 850, respectively. In addition, the inspection result of the relationship between the preceding instruction and the succeeding instruction in the data flow detection circuit DFDC is shown in the PC of FIG.  The instruction fetch stage (first stage 700) is communicated via the signal line 803 based on the updated value. That is,  The instruction fetch stage is informed of the information specifying the two instructions to be decoded in the next pipeline.Further, the decode controller 801  S1 field (S1-1), D field (D-  1), and the S1 field 503 (S1-  2), the four register numbers of the D field 502 (D-2) are sent to the register file 802 via the signal lines 805, 806, 807 and 808. Register file 80  The contents of the four registers in 2 are the signal lines 809 and 81.  0, 811, and 812, and latches 853 (1-1st input) and latches 854 (first latch) in the second latch group 74.  -2 input), latch 855 (2-1 input), latch 8  56 (2nd-2nd input).A block diagram of the register file 802 is shown in FIG. The register file 802 includes a register RGSTR, a register control circuit RCC, and the like. Register RGSTR has 4 read ports and 2  There is a light port of a book and signal lines 809 and 8 respectively.  10, 811, 812 and signal lines 955, 956 are connected. Therefore, the register file 802 can read the contents of four registers at the same time. Also, it is possible to write to two registers at the same time.In the case of (1), (5), and (8) of FIG. 11, the contents of the two registers designated by (S1-1) and (S1-2) are read onto the signal lines 811, 812. The latch 855 (the 2nd-1st input) and the latch 856 (the 2nd-2nd)  Input).In the case of (2), (6), and (9) of FIG. 11, the contents of the register designated in (S1-1) are read out on the signal lines 809 and 811, and the latch 853 (first-first) is read. 1  Input) and the latch 855 (2-1st input). The content of the register designated by (D-2) is the signal line 81.  2 is read out and stored in the latch 856 (2-2nd input).In the case of (3) in FIG. 11, the contents of the register designated in (S1-1) are read out to the signal line 811, and stored in the latch 855 (second 2-1 input).In the case of (4), (7), and (10) of FIG. 11, the contents of the register designated by (S1-1) are read out to the signal line 809, and the latch 853 (first-1 input) is read. ).In the case of (11) in FIG. 11, (S1-  1), (D-1), (S1-2), and the contents of the four registers designated by (D-2) are signal lines 809, 810, and 8  11 and 812, the latch 853 (first-1 input), the latch 854 (first-2 input), the latch 855.  It is stored in the latch 856 (the 2-2nd input).&lt;&lt; Execution Stage &gt;&gt; FIG. 9 shows the third stage 9  00 and the third latch group 950 are shown in detail. The third stage 900 includes an arithmetic control unit 901 and an ALU.  Operation units 902, 90 including (Alithmetic Logic Unit)  3, the first input adjustment circuits 904 and 905, the selector 906,  And 907. The role of the execution stage, which is the third stage 900, is to execute the operation of two instructions.The computing unit 902 and the first input adjusting circuit 904 are circuits for computing the preceding instruction, and are the second latch group 850.  From the two latches 853 and 854 in the first input to the first input and the second input from the second input via the signal lines 859 and 860 to the selector 90.  Sent to 6. In addition, the first and second outputs from the two latches 953 and 954 in the third latch group 950 are the signal line 9  55, 956 to the selector 906.The selector 906 selects one of the signal lines 859, 955 and 956 according to the signal line 1001, and selects the arithmetic unit 90 via the first input circuit 904 and the signal line 912.  Send the data to 2. Also, the selector 906 is the signal line 86.  One of 0, 955 and 956 is selected according to the signal line 1001 and data is sent to the arithmetic unit 902 via the signal line 913.The arithmetic control unit 901 takes in the instruction of the latch 851 in the second latch group 850, and connects the arithmetic unit 902 and the first input adjusting circuit 904 to the signal line 911 according to the instruction function.  And 908 to perform the operation for the preceding instruction. The resulting value (first output) is stored in the latch 953 in the third latch group 950 via the signal line 918.On the other hand, the arithmetic unit 903 and the first input adjusting circuit 9  Reference numeral 05 denotes a circuit for calculating a subsequent instruction. The two latches 855 and 856 in the second latch group 850 connect the 2-1 input and the 2-2 input to the selector 907 via the signal lines 861 and 862. Sent. In addition, 2 in the third latch group 950  The first output and the second output from one of the latches 953 and 954 are sent to the selector 907 via the signal lines 955 and 956.The selector 907 selects one of the signal lines 861, 955 and 956 according to the signal line 1002, and selects the arithmetic unit 90 via the first input circuit 905 and the signal line 914.  Send data to 3. Also, the selector 907 is the signal line 86.  One of 2, 955 and 956 is selected according to the signal line 1002 and data is sent to the arithmetic unit 903 via the signal line 915. The arithmetic control unit 901 takes in the instruction of the latch 852 in the second latch group 850, controls the arithmetic unit 903 and the first input adjustment circuit 905 with the signal lines 910 and 909 according to the instruction function, and performs the arithmetic operation for the subsequent instruction. I do. The resulting value (second output) is stored in the latch 954 in the third latch group 950 via the signal line 919.The above is the execution stage (third stage 90).  0), but the s1add instruction and zextadd instruction will be supplementarily described. The asl1add instruction and zextadd instruction can be realized by finely adjusting the first input to the arithmetic unit 902 or 903 capable of realizing addition. That is, the first input is not directly input to the arithmetic unit, but is input to the first input adjustment circuit 904 or 905, and the arithmetic control unit 901 controls it.  This can be realized by performing 1-bit left shift or 0-extension adjustment, inputting it to the arithmetic unit 902 or 903, and controlling it to perform normal addition.&lt;&lt; Write Stage &gt;&gt; FIG. 10 is a block diagram for explaining the operation of the fourth stage 1000. The fourth stage 1000 is composed of a register number decoding circuit 1010 and a forwarding control circuit 1020. The role of the fourth stage 1000, which is a stage that performs writing to a register and forwarding, is as follows.(1) Write the operation results of two instructions to the register of the specified number.(2) If the operation results of two instructions are used in the operation stage (next pipeline) at the current clock, it is not the value latched in the second latch group 850,  The value latched in the third latch group 950 is adjusted so as to be input to the arithmetic unit (forwarding).First, the process (1) will be described. The fourth stage 1000 includes latches 95 in the third latch group 950.  The two instructions calculated immediately before from 1, 952 are sent to the signal line 9  It is taken into the register number decoding circuit 1010 via 57 and 958. Further, the latch 953 in the third latch group 950,  The value of the immediately preceding calculation result from 954 is output to signal lines 955 and 956  To send to. Then, the register number decoding circuit 1010 sends the register numbers in the two D fields of the instruction executed immediately before to the signal lines 1003 and 1004 to specify the write register number of the register file 802 of the second stage 800. Thus, the values of the two calculation results are written in the register file 802.Next, the process (2) will be described. The fourth stage 1000 includes latches 851 in the second latch group 850,  The two instructions to be calculated this time from 852 are signal line 857,  It is taken into the forwarding control circuit 1020 via 858. In addition, the latches 951 in the third latch group 950,  The two instructions calculated immediately before from 952 are sent to the signal line 95.  Forwarding control circuit 1020 via 7, 958  Take in. Then, the forwarding control circuit 102  For 0, it is checked whether the register numbers in the two D fields of the instruction executed immediately before and the numbers of the S1 field and S2 field of the two instructions to be calculated this time have the same value. If there is the same one as a result of the inspection, the latches 853, 854, 8 in the second latch group 850 are checked for that portion.  The forwarding control circuit 1020 is configured so that the values (signal lines 955 and 956) in the latches 953 and 954 in the third latch group 950 are input to the arithmetic units 902 and 903 instead of the values in 55 and 856. , 1002 to control the two selectors 906 and 907.&lt;&lt; Processing of Instruction Sequence &gt;&gt; FIG. 13 shows how the instruction sequence is processed by individual clocks in the superscalar processing of the present invention. For comparison, it is also shown how the instruction sequence is processed with individual clocks only when the invalid instruction nop is inserted when the two instructions cannot be executed in parallel. In the present invention, it is possible to process two instructions per clock. Also,  In the present invention, the number of execution instructions is 6 less and the execution time is shorter than that in the case where the invalid instruction nop is inserted when two instructions cannot be executed in parallel (about 40% in this instruction sequence).  There are less execution instructions).If the preceding instruction is a transfer type instruction such as mov, zext, asl1 and the following instruction is an addition instruction such as add, two instructions are converted into one instruction and executed in one clock. The number of clocks can be reduced and the speed can be increased. Further, even if the preceding instruction is a transfer instruction and the subsequent instruction is an operation instruction, and there is a data flow between the two, it is executed with one clock, so that the number of clocks as a whole can be reduced and the speed can be increased. .&lt;&lt; Application Example to Microcomputer &gt;&gt; FIG. 1  4 shows a microcomputer system using the superscalar system of the present invention. The microcomputer MCU includes a central processing unit CPU, a floating point processing unit FPU, and a multiplier MULT having a product-sum operation function.  A memory management unit MMU for converting a logical address into a physical address, an instruction and data cache memory CACHE, a cache controller CCNT, an external bus interface EBIF, a 32-bit logical address bus LABUS, and a 32-bit physical address data bus. PABUS and 32-bit data bus DBUS, D  BS and BS are formed on a semiconductor substrate such as single crystal silicon and resin-sealed (sealed in a plastic package).The microcomputer MCU is connected via an external address bus EAB and a data bus EDB to a main memory unit MM composed of a semiconductor memory using dynamic memory elements such as DRAM as memory cells.The central processing unit CPU is composed of the pipeline data path shown in FIG. However, a memory access stage is provided between the third stage and the fourth stage to form a so-called 5-stage pipeline. In addition,  The data memory and the instruction memory 703 correspond to the cache memory CACHE or the main memory MM and do not exist in the central processing unit CPU. The central processing unit CPU executes the instruction of the instruction system of the 2-byte fixed length instruction, and the arithmetic unit 90  Reference numerals 2 and 903 each have a 32-bit ALU or the like. The register file 802 has 16 general-purpose registers having a 32-bit length. That is, the central processing unit CPU executes the instructions of the 2-byte / 2-operand instruction system (instruction set) described in Japanese Patent Laid-Open No. 5-197546. The CPU described in JP-A-5-197546 is not a superscalar system. On the other hand, the central processing unit CPU is a superscalar system, and the central processing unit CPU can execute the same command system as the command system described in the application number 1992/897457. Therefore,  High-speed performance can be achieved while maintaining compatibility with existing software (object code compatibility). Also,  The high code efficiency, which is a characteristic of 2-byte fixed length instructions, can be maintained.Although the invention made by the present inventor has been specifically described based on the embodiments, the present invention is not limited to the embodiments and various modifications can be made without departing from the scope of the invention. There is no end. For example,  In the embodiment shown in FIG. 6 and the following, the case of the 2-byte / 2-operand instruction system has been described, but it is also applicable to the case of the 4-byte / 3-operand instruction system. Although the 0 extension instruction and the 0 extension operation instruction have been described, the same can be applied to the sign extension instruction and the sign extension operation instruction. Further, although the case where the register is specified in the S1 field of the transfer instruction of the first instruction has been described, the case where the S1 field is immediate data can be applied.[0105]The effects obtained by typical ones of the inventions disclosed in the present application will be briefly described as follows.The instructions can be executed in parallel by detecting the data flow between adjacent instructions and converting the instructions. Therefore, it is possible to execute a plurality of instruction processes in one clock, which conventionally takes a plurality of clocks. Thereby,  The number of execution clocks as a whole can be reduced.[Brief description of drawings]FIG. 1 illustrates a pipelined implementation of a microprocessor.FIG. 2 shows a concept of pipeline processing.FIG. 3 shows the concept of superscalar processing.FIG. 4 shows an example of an instruction format and an instruction repertoire of a 4-byte instruction system.FIG. 5 shows an example of a command format and a command repertoire of a 2-byte command system.FIG. 6 is a diagram showing a data path of a pipeline of a microprocessor according to an embodiment of the present invention.FIG. 7 is a detailed block diagram of a first stage and a first latch group.FIG. 8 is a detailed block diagram of a second stage and a second latch group.FIG. 9 is a detailed block diagram of a third stage and a third latch group.FIG. 10 is a block diagram illustrating the operation of the fourth stage.FIG. 11 shows rules for converting two instructions in the instruction decode stage into two instructions in the operation stage.FIG. 12 shows a detailed block diagram of a part of a decoding control unit.FIG. 13 shows how an instruction sequence is processed with individual clocks.FIG. 14 is a diagram of a microcomputer system using the superscalar system of the present invention.FIG. 15 is a block diagram of a register file.[Explanation of symbols]101 ... 1st stage, 103 ... 2nd stage, 1  05 ... 3rd stage, 107 ... 4th stage, 10  8, 109, 110 ... Signal line, 401 ... OP field, 402 ... D field, 403 ... S1 field, 404 ... S2 field, 501 ... OP field, 502 ... D field, 503 ... S1 Field: 700 ... First stage, 800 ... Second stage, 900 ... Third stage, 1000 ... Fourth stage, 701 ... Program counter, 702 ... Fetch controller, 703 ... Instruction memory, 704 , 705,  706, 707 ... Signal line, 751, 752 ... Latch, 801, Decode control unit, 802 ... Register file, 803, 804, 805, 806, 807, 8  08, 809, 810, 811, 812, 813 ... Signal lines, 851, 852, 853, 854, 855, 85  6 ... Latch, 857, 858, 859, 860, 86  1, 862 ... Signal line, 901 ... Arithmetic control unit, 902  ... calculator, 903 ... calculator, 904 ... first input adjusting circuit, 905 ... first input adjusting circuit, 906 ... selector, 907 ... selector, 908, 909, 910, 91  1, 912, 913, 914, 915, 916, 91  7, 918, 919 ... Signal line, 951, 952, 95  3, 954 ... Latch, 955, 956, 957, 95  8 ... Signal line, 1001, 1002, 1003, 100  4 ... Signal line, 1010 ... Register number control circuit, 1  020 ... Forwarding control circuit, INCC ... Command conversion circuit, DFDC ... Data flow detection circuit, MC  U ... Microcomputer, CPU ... Central processing unit, FPU ... Floating point processing unit, MULT ...  ... Multiplier, MMU ... Memory management unit, CACHE  ... Instruction and data cache memory, CCNT ...  ... cache controller, EBIF ... external bus interface, LABUS ... 32-bit logical address bus, PABUS ... 32-bit physical address data bus, DBUS, DBS ... 32-bit data bus,  EAB ... External address bus, EDB ... External data bus, MM ... Main memory, RCC ... Register control circuit, RGSTR ... Register.'}},\n",
       " {'_index': 'all_patents',\n",
       "  '_id': 'US-5465342-A',\n",
       "  '_score': 0.014405555,\n",
       "  '_source': {'patent_number': 'US-5465342-A',\n",
       "   'titles': 'data processing system dynamically adaptive set associativity for cache memories',\n",
       "   'description': 'Detailed Description of the Invention[0001]BACKGROUND OF THE INVENTION 1. Field of the Invention The present invention relates to a data processing device such as a microprocessor or a microcomputer, and more particularly to a technique effective when applied to a data processing device such as superscalar for parallel processing.[0002]2. Description of the Related Art A microprocessor (CPU (Central P  rocessing unit), microcomputer, etc. ) Sequentially fetches a sequence of instructions,  Decrypt and execute. The instructions executed by the microprocessor are now of fixed length with the aim of simplifying the decoding circuit. A microprocessor that executes fixed-length instructions in a pipeline (Pipelining)  It is called an ISC (Red used Instruction Set Computer) type processor.FIG. 1 shows a pipelined implementation method of a microprocessor. Here, for simplification, the normally existing memory access stage (M  EM) is omitted. Individual stages (101, 10)  3, 105, 107) is a unit of time (clock)  The individual instruction processing is completed by sequentially stacking the processing from the first stage to the last stage through the latch group (102, 104, 106). The first stage 101 fetches an instruction (IF). Second  The stage 103 interprets an instruction and reads a register (ID). The third stage 105 executes the operation designated by the instruction function (EX). The fourth stage 107 writes the calculation result to the register arranged in the second stage 103 via the signal line 108 (WB).FIG. 2 shows a conceptual diagram when processing four instructions in a pipeline. If a subsequent instruction uses the contents of the register of the preceding instruction, there is room in the pipeline for the subsequent instruction (called pipeline stall due to data hazard). This state is shown in FIG. The two arrows pointing to the lower left in (a) of FIG. 2 indicate the register read of the subsequent instruction after the register write of the preceding instruction.Therefore, as a means for solving this problem, when the subsequent instruction uses the result of the previous operation, that value is also sent to the operator in the third stage 105 via the signal line 108. The control line for the above is the signal line 109,  110. This adjustment is  This is known as g), which allows execution every clock. It should be noted that 2 facing downward left in FIG.  The two arrows indicate forwarding. Therefore, the number of clocks required for individual instruction processing is four, for example.  However, since each stage processes a new instruction every clock, the instruction processing becomes one instruction per clock. Therefore, since one instruction can be executed in one clock, the smaller the number of execution instructions for performing a certain process (program), the shorter the execution time.Regarding pipeline and forwarding, 1994 Morgan Kaufman Publishers, I  Hennessy et al., `` Computer Organization a  nd Design ”Chapter 6 Enhancing Performance with Pipeli  ning (pages 362 to 450).Next, as an example of a method for improving the processing speed of a microprocessor, a superscalar method (Superscalar method)  ar). In the superscalar system, the number of arithmetic units that can be executed at the same time is plural, for example, two, and accordingly, two instruction fetches and two instruction decodes can be performed at one time. In this case, as shown in FIG. 3A without data dependence, ideally, two instructions can be executed every clock, so that the execution time becomes half as compared with the normal pipeline method. . For the superscalar method, see Nikkei Electronics, November 2, 1989.  7th issue (No.487), pages 191 to 200, \"Next Generation RI  SC, aiming for 100 MIPS in CMOS by introducing parallel processing ”.R adopting the conventional superscalar system  The instruction length of an ISC type microprocessor is fixed at 4 bytes, and the number of operands of arithmetic instructions such as arithmetic operations is generally three. This example is disclosed in Japanese Patent Laid-Open No. 2-1  No. 30634. On the other hand, there is a RISC-type microprocessor with a 2-byte fixed length instruction in order to improve code efficiency (reduce the amount of memory used for storing instructions). However, the RI of the 2-byte fixed length instruction  The SC type microprocessor does not employ the superscalar system. This example is described in JP-A-5-197546.[0009]In order to clarify the problems caused by the superscalar method, description will be made with reference to FIG. The operation of the instructions shown in FIG. 3 is shown below.(1) mov R3, R2 \"copy contents of register R3 to register R2\" (2) mov # 32, R5 \"copy data * 32 * to register R5\" (3) add R4, R2 \"register R4 Add the contents of R2 and the contents of R2 and store the result in R2. ”(4) and R3, R5“ AND the contents of registers R3 and R5 and store the result in R5. ”Instruction (1) above The instruction (2) and the instruction (3) and the instruction (4) have no data dependency (data flow). However, the instruction (1) and the instruction (3), and the instruction (2) and the instruction (4) have data dependency (data flow). That is, instruction (1) and instruction (3)  Both use register R2. Further, the register R5 is used by both the instruction (2) and the instruction (4). Therefore, the instruction (3) must be executed after the execution of the instruction (1). Also, the instruction (4) must be executed after the execution of the instruction (2).That is, when there is no data dependency between the instructions to be executed at the same time, there is no space in the pipeline as shown in FIG. A processing speed twice as fast as when executing only instructions is obtained. However, if there is a data dependency between the instructions that are executed at the same time, the pipeline will be disturbed as shown in FIG.  The processing speed will be the same as when executing only instructions.Therefore, as shown in FIG. 3C, when there is a data dependency between the instructions executed simultaneously,  A method is conceivable in which the subsequent instruction is sent to the next pipeline and the unprocessed instruction nop is executed at the same time as the preceding instruction in place of the subsequent instruction to avoid the disturbance of the pipeline. However, the number of useless instructions increases, the total number of execution instructions increases, and the execution time increases.Next, in order to clarify the problems caused by the instruction format and instruction system, description will be given below with reference to FIGS. 4 and 5.FIG. 4 shows an example of an instruction format (instruction format) and an instruction repertoire in the case of a 4-byte / 3-operand instruction (4-byte fixed length instruction) system. In this figure, the OP field 401 specifies the instruction function. The S1 field 403 is a register number specifying the first input (first operand), the S2 field 404 is a register number specifying the second input (second operand), and the D field 402 is a register number specifying the output (third operand). ) Is placed. That is, this instruction format can specify three operands. Command functions include copying (data transfer), addition, subtraction, and the like. In addition, 4  Compound instructions such as a 1-bit left shift addition instruction asl1add and a 0 extension addition instruction zextadd are also provided due to the margin of the instruction length of the byte instruction system. The asl1add instruction shifts the bit pattern of the first operand one bit to the left and then performs the normal addition, and the zextadd instruction zeros the left half of the bit pattern of the first operand and then performs the normal addition. is there. Note that, for simplification, memory access instructions, branch instructions, etc. that would normally exist are omitted. In the case of a copy command (data transfer command), the S2 field 404 is ignored, and the contents of the register (transfer source register) specified in the S1 field 403 remain unchanged in the D field 402.  It is copied (transferred) to the register (transfer destination register) specified by.FIG. 5 shows an example of the instruction format and instruction repertoire in the case of a 2-byte / 2-operand instruction (2-byte fixed length instruction) system. In FIG. 5, the OP field 501  Specifies the command function. The S1 field 503 has a register number (first operand) that specifies the first input, and the D field 502 has a register number (the same as the register number that specifies the output, the second operand) that specifies the second input. That is, this instruction format can specify two operands. As compared with FIG. 4, the point that the S2 field does not exist is the part that is clearly different from the instruction format of FIG. That is, the number of operands is one less. Further, the remaining field length is shorter than that of FIG.The instruction function includes a copy instruction (data transfer instruction), a 0 extension instruction, a sign extension instruction, and a 1 input transfer instruction as 1 input transfer instruction.  Bit shift left instruction, addition instruction as 2 input operation instruction,  There is a subtraction instruction, etc. Of these, the 1-bit left shift instruction is  Due to the instruction length, the numbers of the input register (transfer source register) and the output register (transfer destination register) are the same. Therefore, in this case, the S1 field stores not the register number but the extended instruction code for specifying the asl1 instruction.In order to clarify the advantages and disadvantages of the 4-byte / 3-operand instruction system and the 2-byte / 2-operand instruction system, consider the following formula, for example.A = b + c + d; (A) This is converted into an instruction sequence (instruction sequence (A1)) of a 4-byte / 3-operand instruction system as follows.Add Rb, Rc, Ra add Ra, Rd, Ra On the other hand, when this is converted into an instruction sequence (instruction sequence (A2)) of a 2-byte / 2-operand instruction system, it becomes as follows.Mov Rb, Ra add Rc, Ra add Rd, Ra If the instruction system has 4 bytes and 3 operands, the number of execution instructions is 2, but storage in the instruction memory (and instruction fetch for execution) The number of bytes is 8 bytes. On the other hand 2  In the case of an instruction system of bytes and 2 operands, the number of executed instructions increases to 3, but the number of bytes stored (and instruction fetch for execution) in the instruction memory decreases to 6 bytes. This tendency generally holds. It is generally accepted that the 4-byte / 3-operand instruction system has a 10 to 20% smaller number of executed instructions than the 2-byte / 2-operand instruction system, but the stored byte number is increased by 60%.However, there is one problem with the 2-byte / 2-operand instruction system. It involves the extra data transfer instructions needed in the two-operand instruction set. Although the above equation (A) can be similarly explained, the following equation (B) will be explained here.A = b + c; This is converted into an instruction sequence (instruction sequence (B1)) of a 4-byte / 3-operand instruction system as follows.On the other hand, when this is converted into a 2-byte / 2-operand instruction sequence (instruction sequence (B2)), it becomes as follows.Mov Rb, Ra add Rc, Ra 4 bytes / 3 operands instruction system can be executed in one clock by using only one of the pipelines. On the other hand, in the case of a 2-byte / 2-operand instruction system, a data flow exists between two extra instructions, a copy (data transfer) instruction mov and a subsequent add instruction add. That is, the value resulting from the preceding instruction is used by the subsequent instruction. Therefore, it is necessary to wait for the result of the preceding instruction mov to execute the succeeding instruction add, which takes two clocks. If the following instruction sequence mov Rb, Ra add Rc, Rd, there is no data flow between two instructions, so 2  Although it can be executed in one clock using one pipeline, the instruction string (B2) corresponding to the expression (B) requires extra processing time because of the data flow. When the superscalar system is adopted, it can be said that the 2-byte / 2-operand instruction system tends to take more execution time than the 4-byte / 3-operand instruction system because of the large number of execution instructions.The problem of the 2-byte / 2-operand instruction system has been explained by comparing it with the 4-byte / 3-operand instruction system.  When executing a 4-operand operation, the instruction sequence (A  There is a data flow as in 1), and there are similar problems to the 2-byte / 2-operand instruction system.The existing microprocessors are:  Due to the accumulation of software assets and the inheritance of software assets that have been built up to date, it is difficult to change the instruction format and instruction system. Therefore, it is necessary to improve the processing speed while maintaining the conventional instruction format and instruction system.An object of the present invention is to reduce the pipeline stall due to data hazard in the superscalar system and to realize the improvement of the processing speed.Another object of the present invention is to reduce the number of execution instructions and realize an improvement in processing speed.Further, another object of the present invention is 2 bytes.  It is to realize an improvement in the processing speed of a data processing device that executes a two-operand instruction system.The above and other objects and novel characteristics of the present invention will be apparent from the description of this specification and the accompanying drawings.[0031]The following is a brief description of an outline of a typical invention among the inventions disclosed in the present application.The pipeline type data processing device has a dependency on the stage for reading a fixed length instruction stored in the instruction memory and the data executed by the plurality of read instructions, and the plurality of instructions have a predetermined value. If there is a relationship,  It has a stage for changing the plurality of instructions so that the plurality of instructions can be executed in parallel in a plurality of pipelines, and a stage for executing the changed plurality of instructions in parallel.The instruction system is a 2-byte 2-operand instruction system, but is internally processed as a 3-operand instruction system. That is, the instruction fetch stage fetches two instructions. The instruction decode stage decodes two adjacent instructions. Two sets of computing units for the computing stage are prepared. Then, two adjacent two-operand instructions are  The instruction decoder is provided with means for detecting equality with three three-operand instructions and, if so, means for integrating two instructions into one three-operand instruction and sending it to the subsequent execution stage. As a result, one 3-operand instruction is sent to the execution stage and executed in one clock. Further, when it is detected that two adjacent instructions have a data flow relationship but cannot be integrated into one three-operand instruction, means for sending the source data of the preceding instruction to the arithmetic unit for the subsequent instruction is provided.This allows two instructions to be executed simultaneously. Due to the above two, it is possible to execute two instruction processing in one clock, which conventionally took two clocks due to the data flow between the adjacent instructions. Therefore, the number of execution clocks as a whole can be reduced.[0035]DESCRIPTION OF THE PREFERRED EMBODIMENTS A microprocessor according to an embodiment of the present invention will be described in order of items.&lt;&lt; Microprocessor Pipeline Data Path &gt;&gt; FIG. 6 shows a pipeline data path of the microprocessor according to the embodiment of the present invention. It will be described below that the microprocessor fetches and executes an instruction of a 2-byte / 2-operand instruction system as shown in FIG.The first stage 700 is an instruction fetch stage. The second stage 800 is an instruction decode stage. The third stage 900 is a calculation stage. The fourth stage 1000 is a stage for writing to a register and forwarding. A first latch group 750, a second latch group 850, and a third latch group 850 are provided between each stage.  There is a latch group 950. It should be noted that each stage in the embodiments of FIG. 6 and subsequent figures shows the flow of data, and does not show the physical arrangement of the circuits and the like described in each stage.&lt;&lt; Instruction Fetch Stage &gt;&gt; FIG. 7 is a detailed block diagram of the first stage 700 and the first latch group 750. The first stage 700 includes a program counter (PC) 701, a fetch controller 702, and an instruction memory 703. The role of the instruction fetch stage of the first stage 700 is to pass the instructions in the instruction memory to the next instruction decode stage of the second stage 800.The address indicated by the program counter 701 is sent to the signal line 704, and the instruction 4 bytes (2 instructions) in the instruction memory 703 are fetched to the fetch control unit 702 via the signal line 705. The two instructions fetched by the fetch control unit 702 are sent to the signal line 7 according to the signal line 803.  It is sent to 06 and 707. Then the first latch group 750  The content of the signal line 706 is stored in the latch 751 therein, and the content of the signal line 707 is stored in the latch 752. The latch 751 stores the first instruction and the latch 752 stores the second instruction. Here, the first instruction is the second instruction in the instruction sequence.  It precedes the order. In the present application, the first instruction is also referred to as a preceding instruction and the second instruction is also referred to as a subsequent instruction.The value of the program counter 701 is set to 4  The value added with is reset to the program counter 701. The value of the program counter 701 (the value of the address that accesses the instruction memory) is set to be a multiple of 2 so that a 4-byte instruction (2 instructions) is fetched from the instruction memory and latched in the first latch group 750. The first stage 700 operates. However, the 4-byte instruction fetched from the instruction memory is not always latched in the first latch group 750 as it is. That is, the second stage 80  When viewed from the instruction decoder stage which is 0, information about how many bytes ahead of the current instruction the next desired instruction is sent to the fetch control unit 702 of the first stage 700 via the signal line 803.  In response to this, the fetch control unit 702 of the first stage 700 utilizes the buffer existing in the fetch control unit 702 to send out the desired 4 bytes (2 instructions) of the instruction decoding stage to the signal lines 706 and 707. 1 latch group 7  It stores in the latches 751 and 752 in 50.&lt;&lt; Instruction Decode Stage &gt;&gt; FIG. 8 shows a detailed block diagram of the second stage 800 and the second latch group 850. The second stage 800 includes a decode controller 8  01 and register file 802. The role of the instruction decode stage of the second stage 800 is as follows. (1) Prepare input data used by two instructions and pass it to the next operation stage (third stage 900).(2) The data flow between two instructions is inspected, and the execution result of the preceding instruction (first instruction) is compared with the subsequent instruction (second instruction).  If two instructions are not used, the processing stage is requested to process two instructions.(3) The data flow between two instructions is checked, and if the execution result of the preceding instruction is used by the succeeding instruction,  Modify the two instructions according to the given rules.(4) The number of instructions requested to be processed in the operation stage is sent to the instruction fetch stage to prepare for the next pipeline processing.Instruction decode stage (second stage 80  The operation of 0) will be described below. FIG. 12 shows a detailed block diagram of a part of the decoding control unit 801. The decode control unit 801 has a data flow detection circuit DFDC, an instruction conversion circuit INCC, and the like. Instruction conversion circuit INCC  Has selectors SEL1 to SEL4, processes the contents of the latches 751 and 752 under the control of the data flow detection circuit DFDC, and converts them into the contents of the latches 851 and 852.OP of the first instruction which is the content of the latch 751  The field is OP-1, the D field is D-1, and the S1 field is S1-1. The OP field of the second instruction, which is the contents of the latch 752, is OP-2, the D field is D-2, and the S1 field is S1-2. Latch 85  The OP field of the first instruction, which is the content of 1, is OPN-  1, D field is DN-1, S1 field is S1N-  Let it be 1. The OP field of the second instruction, which is the contents of the latch 852, is OPN-2, the D field is DN-2, and S1.  Let the field be S1N-2. The second instruction, which is the content of the latch 852, further has an S2 field, which is S2.  2N-2.The decode control unit 801 fetches two instructions, a preceding instruction and a succeeding instruction, from the latches 751 and 752 in the latch group 750 via signal lines 753 and 754. Then, the data flow detection circuit DFDC checks whether or not the register number of the D field (D-1) of the preceding instruction is equal to the register number of the S1 field (S1-2) or the D field (D-2) of the subsequent instruction. .If the register numbers are not equal, it can be determined that there is no data flow. If the register numbers are the same, it can be determined that there is a data flow. Then, the data flow detection circuit DFDC receives the control signal 821.  To 824, and switches the selectors SEL1 to SEL4 respectively to switch the latch 8 via the signal lines 813 and 804.  The first and second instructions converted into 51 and 852 are stored. The invalid command NOP820 generated by INCC is always input to one input of the selectors SEL1 and SEL2.Further, a new command generated by the data flow detection circuit DFDC is input to the selector SEL2 via the signal line 840. The new instruction input to the selector SEL2 via the signal line 840 is generated by the data flow detection circuit DFDC based on 0P-1 of the latch 751 and 0P-2 of the latch 752, and is input to 0P-2 of the latch 852. Is stored. As an example of the new instruction generated, 0P-1 is a 1-bit shift instruction asl1  There is a 1-bit shift addition instruction asl1add generated when 0P-2 is the addition instruction add.The selector SEL3 is S1-1 or D-.  This is for selecting one of the two values and storing it in S1N-2.The selector SEL4 is S1-1 or S1.  -2 is selected and stored in S2N-2.FIG. 11 shows rules for converting two instructions in the instruction decode stage into two instructions in the operation stage (conditions and instructions across the operation stage). The first instruction is either translated or not translated into an invalid instruction nop. The second instruction is converted from the 2-byte / 2-operand format shown in FIG. 5 to the 4-byte / 3-operand format shown in FIG. 4 or converted into an invalid instruction nop. The ALU in FIG. 11 is a general name for two-input operation instructions such as arithmetic operations (addition, subtraction, etc.) and logical operations (logical product, logical sum, etc.). As described above, zextALU is an instruction that zero-extends the first input to the arithmetic unit and performs ALU operation. asl1ALU is an instruction for shifting the first input to the arithmetic unit to the left by 1 bit and performing the ALU operation.FIG. 11A shows a 2-operand type operation instruction which requires two instructions, a copy instruction mov and an operation instruction ALU, in order to execute a three-operand operation instruction.  It is converted into a three-operand operation instruction ALU. This is the case where the register number of the D field of the copy instruction mov matches the register number of the D field of the arithmetic instruction ALU. In this case, the first instruction is converted into an invalid instruction nop, and the second instruction is converted into a three-operand arithmetic instruction and passed to the arithmetic stage.The values stored in the fields of the latches 851 and 852 are summarized as follows. In addition,  “←” means that the value on the right side of “←” is stored on the left side of “←”.[0055]  Specifically, it is as follows. OP-1 of the latch 751  It is assumed that \"mov\" is stored in \"\", \"RN\" is stored in \"D-1\", and \"Rm\" is stored in \"S1-1\". Also, the latch 752  OP-2 has \"ALU\", D-2 has \"RN\", S  It is assumed that “Rl” is stored in 1-2. Where D  The data flow detection circuit DFDC detects that both -1 and D-2 are \"RN\" and the register numbers match. Then, the data flow detection circuit DFDC causes the selector SEL1 via 821 so that SEL1 selects the nop instruction 820.  And stores the nop instruction 820 in OPN-1 of the latch 851. The data flow detection circuit DFDC includes a latch 7  51 D-1 and S1-1 are directly connected to the signal lines 753 and 8  The data is stored in DN-1 and S1N-1 of the latch 851 via 13.Further, the data flow detection circuit DFDC controls the selector SEL2 via the control signal 822 so that the selector SEL2 selects OP-2 of the latch 752, and OP-2 of the latch 752 is OPN- of the latch 852.  2 is stored. Further data flow detection circuit DFDC  Controls the selector SEL3 via the control signal 823 so that the selector SEL3 selects S1-1 of the latch 751, and the S1-1 of the latch 751 is changed to the S1N of the latch 852.  -2. Further, the data flow detection circuit DFDC stores D-2 of the latch 752 in DN-2 of the latch 852 as it is via the signal line 754. Further, in the data flow detection circuit DFDC, the selector SEL4 has a latch 75.  The selector SEL4 is controlled via 834 so as to select S1-1 of 2 and S1-1 of latch 752 is changed to S2N−.  2 is stored.FIG. 11B shows the case where the register number of the D field of the copy instruction mov matches the register number of the S1 field of the arithmetic instruction ALU. In this case, the second instruction is converted into a three-operand operation instruction and passed to the operation stage without changing the first instruction.The values stored in the fields of the latches 851 and 852 are summarized as follows.  Specifically, it is as follows. OP-1 of the latch 751  It is assumed that \"mov\" is stored in \"\", \"RN\" is stored in \"D-1\", and \"Rm\" is stored in \"S1-1\". Also, the latch 752  OP-2 has \"ALU\", D-2 has \"Rx\", S  It is assumed that “RN” is stored in 1-2. Where D  The data flow detection circuit DFDC detects that both -1 and S1-2 are \"RN\" and the register numbers match. The data flow detection circuit DFDC then selects the selector SEL.  1 controls the selector SEL1 via 821 so that OP-1 of the latch 751 (mov instruction in this case) is selected.  The v instruction is stored in OPN-1 of the latch 851.In the data flow detection circuit DFDC, the D-1 and S1-1 of the latch 751 are directly connected to the signal line 753,  The data is stored in DN-1 and S1N-1 of the latch 851 via 813. Further, the data flow detection circuit DFDC controls the selector SEL2 via the control signal 822 so that the selector SEL2 selects OP-2 of the latch 752, and stores OP-2 of the latch 752 in OPN-2 of the latch 852. . The data flow detection circuit DFDC stores D-2 of the latch 752 as it is in DN-2 of the latch 852 via the signal lines 754 and 804. Further, the data flow detection circuit DFDC controls the selector SEL3 via the control signal 823 so that the selector SEL3 selects S1-1 of the latch 751, and the S1N-2 of the latch 852 is controlled by the selector SEL3 via the signal line 804. Store S1-1. The data flow detection circuit DFDC connects S1-2 of the latch 752 via the signal lines 754 and 804.  It is stored in S2N-2 of the latch 852 as it is.It should be noted that the values specifically stored in the latches 851 and 852 are made as described above.  (2) It will be omitted after this. This is because the values to be stored in the latches 851 and 852 can be created in the same manner as (1) and (2) in FIG.FIG. 11 (3) is for converting a 1-operand type 1-bit left shift instruction into a 2-operand type 1-bit left shift instruction. Register field number of copy instruction mov and D of 1-bit left shift instruction asl1  This is the case when the field register numbers match. In this case, the first instruction becomes an invalid instruction nop in the operation stage,  The second instruction is converted into a 2-operand 1-bit left shift instruction asl1 and passed.That is, each field is converted as follows.[0063]  In FIG. 11, (4) is a case where the first instruction is the copy instruction mov and the second instruction or condition does not correspond to (1), (2) and (3) in FIG. In this case, the first instruction remains unchanged and the second instruction is converted into the invalid instruction nop and passed to the operation stage. The \"other\" instructions are executed in the next pipeline, which is one clock offset.That is, each field is converted as follows.OPN-1 ← OP-1, DN-1 ← D-1, S1N-1 ← S1-1, OPN-2 ← nop In FIG. 11 (5), 0 extension instruction zext and operation instruction ALU are set to 0.  It is combined with the extended operation instruction zextALU. This is the case where the register number of the D field of the 0 extension instruction zext matches the register number of the D field of the arithmetic instruction ALU.  In this case, the first instruction is an invalid instruction nop in the operation stage.  The second instruction is a 3-operand 0-extended operation instruction zextALU  Is converted to and passed.That is, each field is converted as follows.[0067]  FIG. 11 (6) shows a case where the register number in the D field of the 0 extension instruction zext and the register number in the S1 field of the add instruction add match. In this case, the first instruction remains in the operation stage, and the second instruction has a 3-operand value of 0.  Converted to the extended addition instruction zextadd and passed.That is, each field is converted as follows.[0069]  In addition to the addition instruction add, a commutative logical product instruction and, a logical sum instruction or, or the like may be converted in the same manner.In (7) of FIG. 11, the first instruction is the 0 extension instruction ze.  This is the case where the second instruction or condition does not correspond to (5) or (6) in FIG. 11 at xt. In this case, the first instruction remains unchanged and the second instruction is converted into the invalid instruction nop and passed to the operation stage. The \"other\" instructions are executed in the next pipeline, which is one clock offset.That is, each field is converted as follows.OPN-1 ← OP-1, DN-1 ← D-1, S1N-1 ← S1-1, OPN-2 ← nop (8) in FIG. 11 is a 1-bit left shift instruction asl1 and an operation instruction  ALU and 1-bit left shift operation instruction asl1ALU are combined. This is the case where the register number of the D field of the 1-bit left shift instruction asl1 and the register number of the D field of the arithmetic instruction ALU match. In this case, the first instruction is converted into the invalid instruction nop, and the second instruction is converted into the 3-operand 1-bit left shift operation instruction asl1ALU and passed to the operation stage.That is, each field is converted as follows.[0074]  FIG. 11 (9) shows a case where the register number of the D field of the 1-bit left shift instruction asl1 and the register number of the S1 field of the add instruction add match. In this case, the second instruction is converted to the 3-operand 1-bit left shift addition instruction asl1add and passed to the operation stage without changing the first instruction.That is, each field is converted as follows.[0076]  In (10) of FIG. 11, the first instruction is a 1-bit left shift instruction as.  This is the case where the second instruction or condition does not correspond to (8) or (9) in FIG. 11 at l1. In this case, the first instruction remains unchanged and the second instruction is converted into the invalid instruction nop and passed to the operation stage. The \"other\" instructions are executed in the next pipeline, which is one clock offset.That is, each field is converted as follows.OPN-1 ← OP-1, DN-1 ← D-1, S1N-1 ← S1-1, OPN-2 ← nop (11) in FIG. 11 shows a case where there is no data flow between two instructions. No instruction conversion is performed.The two new instructions converted by the decode controller 801 are sent to the signal lines 813 and 804 and stored in the latches 851 and 852 in the second latch group 850, respectively. In addition, the inspection result of the relationship between the preceding instruction and the succeeding instruction in the data flow detection circuit DFDC is shown in the PC of FIG.  The instruction fetch stage (first stage 700) is communicated via the signal line 803 based on the updated value. That is,  The instruction fetch stage is informed of the information specifying the two instructions to be decoded in the next pipeline.Further, the decode controller 801  S1 field (S1-1), D field (D-  1), and the S1 field 503 (S1-  2), the four register numbers of the D field 502 (D-2) are sent to the register file 802 via the signal lines 805, 806, 807 and 808. Register file 80  The contents of the four registers in 2 are the signal lines 809 and 81.  0, 811, and 812, and latches 853 (1-1st input) and latches 854 (first latch) in the second latch group 74.  -2 input), latch 855 (2-1 input), latch 8  56 (2nd-2nd input).A block diagram of the register file 802 is shown in FIG. The register file 802 includes a register RGSTR, a register control circuit RCC, and the like. Register RGSTR has 4 read ports and 2  There is a light port of a book and signal lines 809 and 8 respectively.  10, 811, 812 and signal lines 955, 956 are connected. Therefore, the register file 802 can read the contents of four registers at the same time. Also, it is possible to write to two registers at the same time.In the case of (1), (5), and (8) of FIG. 11, the contents of the two registers designated by (S1-1) and (S1-2) are read onto the signal lines 811, 812. The latch 855 (the 2nd-1st input) and the latch 856 (the 2nd-2nd)  Input).In the case of (2), (6), and (9) of FIG. 11, the contents of the register designated in (S1-1) are read out on the signal lines 809 and 811, and the latch 853 (first-first) is read. 1  Input) and the latch 855 (2-1st input). The content of the register designated by (D-2) is the signal line 81.  2 is read out and stored in the latch 856 (2-2nd input).In the case of (3) in FIG. 11, the contents of the register designated in (S1-1) are read out to the signal line 811, and stored in the latch 855 (second 2-1 input).In the case of (4), (7), and (10) of FIG. 11, the contents of the register designated by (S1-1) are read out to the signal line 809, and the latch 853 (first-1 input) is read. ).In the case of (11) in FIG. 11, (S1-  1), (D-1), (S1-2), and the contents of the four registers designated by (D-2) are signal lines 809, 810, and 8  11 and 812, the latch 853 (first-1 input), the latch 854 (first-2 input), the latch 855.  It is stored in the latch 856 (the 2-2nd input).&lt;&lt; Execution Stage &gt;&gt; FIG. 9 shows the third stage 9  00 and the third latch group 950 are shown in detail. The third stage 900 includes an arithmetic control unit 901 and an ALU.  Operation units 902, 90 including (Alithmetic Logic Unit)  3, the first input adjustment circuits 904 and 905, the selector 906,  And 907. The role of the execution stage, which is the third stage 900, is to execute the operation of two instructions.The computing unit 902 and the first input adjusting circuit 904 are circuits for computing the preceding instruction, and are the second latch group 850.  From the two latches 853 and 854 in the first input to the first input and the second input from the second input via the signal lines 859 and 860 to the selector 90.  Sent to 6. In addition, the first and second outputs from the two latches 953 and 954 in the third latch group 950 are the signal line 9  55, 956 to the selector 906.The selector 906 selects one of the signal lines 859, 955 and 956 according to the signal line 1001, and selects the arithmetic unit 90 via the first input circuit 904 and the signal line 912.  Send the data to 2. Also, the selector 906 is the signal line 86.  One of 0, 955 and 956 is selected according to the signal line 1001 and data is sent to the arithmetic unit 902 via the signal line 913.The arithmetic control unit 901 takes in the instruction of the latch 851 in the second latch group 850, and connects the arithmetic unit 902 and the first input adjusting circuit 904 to the signal line 911 according to the instruction function.  And 908 to perform the operation for the preceding instruction. The resulting value (first output) is stored in the latch 953 in the third latch group 950 via the signal line 918.On the other hand, the arithmetic unit 903 and the first input adjusting circuit 9  Reference numeral 05 denotes a circuit for calculating a subsequent instruction. The two latches 855 and 856 in the second latch group 850 connect the 2-1 input and the 2-2 input to the selector 907 via the signal lines 861 and 862. Sent. In addition, 2 in the third latch group 950  The first output and the second output from one of the latches 953 and 954 are sent to the selector 907 via the signal lines 955 and 956.The selector 907 selects one of the signal lines 861, 955 and 956 according to the signal line 1002, and selects the arithmetic unit 90 via the first input circuit 905 and the signal line 914.  Send data to 3. Also, the selector 907 is the signal line 86.  One of 2, 955 and 956 is selected according to the signal line 1002 and data is sent to the arithmetic unit 903 via the signal line 915. The arithmetic control unit 901 takes in the instruction of the latch 852 in the second latch group 850, controls the arithmetic unit 903 and the first input adjustment circuit 905 with the signal lines 910 and 909 according to the instruction function, and performs the arithmetic operation for the subsequent instruction. I do. The resulting value (second output) is stored in the latch 954 in the third latch group 950 via the signal line 919.The above is the execution stage (third stage 90).  0), but the s1add instruction and zextadd instruction will be supplementarily described. The asl1add instruction and zextadd instruction can be realized by finely adjusting the first input to the arithmetic unit 902 or 903 capable of realizing addition. That is, the first input is not directly input to the arithmetic unit, but is input to the first input adjustment circuit 904 or 905, and the arithmetic control unit 901 controls it.  This can be realized by performing 1-bit left shift or 0-extension adjustment, inputting it to the arithmetic unit 902 or 903, and controlling it to perform normal addition.&lt;&lt; Write Stage &gt;&gt; FIG. 10 is a block diagram for explaining the operation of the fourth stage 1000. The fourth stage 1000 is composed of a register number decoding circuit 1010 and a forwarding control circuit 1020. The role of the fourth stage 1000, which is a stage that performs writing to a register and forwarding, is as follows.(1) Write the operation results of two instructions to the register of the specified number.(2) If the operation results of two instructions are used in the operation stage (next pipeline) at the current clock, it is not the value latched in the second latch group 850,  The value latched in the third latch group 950 is adjusted so as to be input to the arithmetic unit (forwarding).First, the process (1) will be described. The fourth stage 1000 includes latches 95 in the third latch group 950.  The two instructions calculated immediately before from 1, 952 are sent to the signal line 9  It is taken into the register number decoding circuit 1010 via 57 and 958. Further, the latch 953 in the third latch group 950,  The value of the immediately preceding calculation result from 954 is output to signal lines 955 and 956  To send to. Then, the register number decoding circuit 1010 sends the register numbers in the two D fields of the instruction executed immediately before to the signal lines 1003 and 1004 to specify the write register number of the register file 802 of the second stage 800. Thus, the values of the two calculation results are written in the register file 802.Next, the process (2) will be described. The fourth stage 1000 includes latches 851 in the second latch group 850,  The two instructions to be calculated this time from 852 are signal line 857,  It is taken into the forwarding control circuit 1020 via 858. In addition, the latches 951 in the third latch group 950,  The two instructions calculated immediately before from 952 are sent to the signal line 95.  Forwarding control circuit 1020 via 7, 958  Take in. Then, the forwarding control circuit 102  For 0, it is checked whether the register numbers in the two D fields of the instruction executed immediately before and the numbers of the S1 field and S2 field of the two instructions to be calculated this time have the same value. If there is the same one as a result of the inspection, the latches 853, 854, 8 in the second latch group 850 are checked for that portion.  The forwarding control circuit 1020 is configured so that the values (signal lines 955 and 956) in the latches 953 and 954 in the third latch group 950 are input to the arithmetic units 902 and 903 instead of the values in 55 and 856. , 1002 to control the two selectors 906 and 907.&lt;&lt; Processing of Instruction Sequence &gt;&gt; FIG. 13 shows how the instruction sequence is processed by individual clocks in the superscalar processing of the present invention. For comparison, it is also shown how the instruction sequence is processed with individual clocks only when the invalid instruction nop is inserted when the two instructions cannot be executed in parallel. In the present invention, it is possible to process two instructions per clock. Also,  In the present invention, the number of execution instructions is 6 less and the execution time is shorter than that in the case where the invalid instruction nop is inserted when two instructions cannot be executed in parallel (about 40% in this instruction sequence).  There are less execution instructions).If the preceding instruction is a transfer type instruction such as mov, zext, asl1 and the following instruction is an addition instruction such as add, two instructions are converted into one instruction and executed in one clock. The number of clocks can be reduced and the speed can be increased. Further, even if the preceding instruction is a transfer instruction and the subsequent instruction is an operation instruction, and there is a data flow between the two, it is executed with one clock, so that the number of clocks as a whole can be reduced and the speed can be increased. .&lt;&lt; Application Example to Microcomputer &gt;&gt; FIG. 1  4 shows a microcomputer system using the superscalar system of the present invention. The microcomputer MCU includes a central processing unit CPU, a floating point processing unit FPU, and a multiplier MULT having a product-sum operation function.  A memory management unit MMU for converting a logical address into a physical address, an instruction and data cache memory CACHE, a cache controller CCNT, an external bus interface EBIF, a 32-bit logical address bus LABUS, and a 32-bit physical address data bus. PABUS and 32-bit data bus DBUS, D  BS and BS are formed on a semiconductor substrate such as single crystal silicon and resin-sealed (sealed in a plastic package).The microcomputer MCU is connected via an external address bus EAB and a data bus EDB to a main memory unit MM composed of a semiconductor memory using dynamic memory elements such as DRAM as memory cells.The central processing unit CPU is composed of the pipeline data path shown in FIG. However, a memory access stage is provided between the third stage and the fourth stage to form a so-called 5-stage pipeline. In addition,  The data memory and the instruction memory 703 correspond to the cache memory CACHE or the main memory MM and do not exist in the central processing unit CPU. The central processing unit CPU executes the instruction of the instruction system of the 2-byte fixed length instruction, and the arithmetic unit 90  Reference numerals 2 and 903 each have a 32-bit ALU or the like. The register file 802 has 16 general-purpose registers having a 32-bit length. That is, the central processing unit CPU executes the instructions of the 2-byte / 2-operand instruction system (instruction set) described in Japanese Patent Laid-Open No. 5-197546. The CPU described in JP-A-5-197546 is not a superscalar system. On the other hand, the central processing unit CPU is a superscalar system, and the central processing unit CPU can execute the same command system as the command system described in the application number 1992/897457. Therefore,  High-speed performance can be achieved while maintaining compatibility with existing software (object code compatibility). Also,  The high code efficiency, which is a characteristic of 2-byte fixed length instructions, can be maintained.Although the invention made by the present inventor has been specifically described based on the embodiments, the present invention is not limited to the embodiments and various modifications can be made without departing from the scope of the invention. There is no end. For example,  In the embodiment shown in FIG. 6 and the following, the case of the 2-byte / 2-operand instruction system has been described, but it is also applicable to the case of the 4-byte / 3-operand instruction system. Although the 0 extension instruction and the 0 extension operation instruction have been described, the same can be applied to the sign extension instruction and the sign extension operation instruction. Further, although the case where the register is specified in the S1 field of the transfer instruction of the first instruction has been described, the case where the S1 field is immediate data can be applied.[0105]The effects obtained by typical ones of the inventions disclosed in the present application will be briefly described as follows.The instructions can be executed in parallel by detecting the data flow between adjacent instructions and converting the instructions. Therefore, it is possible to execute a plurality of instruction processes in one clock, which conventionally takes a plurality of clocks. Thereby,  The number of execution clocks as a whole can be reduced.[Brief description of drawings]FIG. 1 illustrates a pipelined implementation of a microprocessor.FIG. 2 shows a concept of pipeline processing.FIG. 3 shows the concept of superscalar processing.FIG. 4 shows an example of an instruction format and an instruction repertoire of a 4-byte instruction system.FIG. 5 shows an example of a command format and a command repertoire of a 2-byte command system.FIG. 6 is a diagram showing a data path of a pipeline of a microprocessor according to an embodiment of the present invention.FIG. 7 is a detailed block diagram of a first stage and a first latch group.FIG. 8 is a detailed block diagram of a second stage and a second latch group.FIG. 9 is a detailed block diagram of a third stage and a third latch group.FIG. 10 is a block diagram illustrating the operation of the fourth stage.FIG. 11 shows rules for converting two instructions in the instruction decode stage into two instructions in the operation stage.FIG. 12 shows a detailed block diagram of a part of a decoding control unit.FIG. 13 shows how an instruction sequence is processed with individual clocks.FIG. 14 is a diagram of a microcomputer system using the superscalar system of the present invention.FIG. 15 is a block diagram of a register file.[Explanation of symbols]101 ... 1st stage, 103 ... 2nd stage, 1  05 ... 3rd stage, 107 ... 4th stage, 10  8, 109, 110 ... Signal line, 401 ... OP field, 402 ... D field, 403 ... S1 field, 404 ... S2 field, 501 ... OP field, 502 ... D field, 503 ... S1 Field: 700 ... First stage, 800 ... Second stage, 900 ... Third stage, 1000 ... Fourth stage, 701 ... Program counter, 702 ... Fetch controller, 703 ... Instruction memory, 704 , 705,  706, 707 ... Signal line, 751, 752 ... Latch, 801, Decode control unit, 802 ... Register file, 803, 804, 805, 806, 807, 8  08, 809, 810, 811, 812, 813 ... Signal lines, 851, 852, 853, 854, 855, 85  6 ... Latch, 857, 858, 859, 860, 86  1, 862 ... Signal line, 901 ... Arithmetic control unit, 902  ... calculator, 903 ... calculator, 904 ... first input adjusting circuit, 905 ... first input adjusting circuit, 906 ... selector, 907 ... selector, 908, 909, 910, 91  1, 912, 913, 914, 915, 916, 91  7, 918, 919 ... Signal line, 951, 952, 95  3, 954 ... Latch, 955, 956, 957, 95  8 ... Signal line, 1001, 1002, 1003, 100  4 ... Signal line, 1010 ... Register number control circuit, 1  020 ... Forwarding control circuit, INCC ... Command conversion circuit, DFDC ... Data flow detection circuit, MC  U ... Microcomputer, CPU ... Central processing unit, FPU ... Floating point processing unit, MULT ...  ... Multiplier, MMU ... Memory management unit, CACHE  ... Instruction and data cache memory, CCNT ...  ... cache controller, EBIF ... external bus interface, LABUS ... 32-bit logical address bus, PABUS ... 32-bit physical address data bus, DBUS, DBS ... 32-bit data bus,  EAB ... External address bus, EDB ... External data bus, MM ... Main memory, RCC ... Register control circuit, RGSTR ... Register.'}},\n",
       " {'_index': 'all_patents',\n",
       "  '_id': 'US-5978888-A',\n",
       "  '_score': 0.014318641,\n",
       "  '_source': {'patent_number': 'US-5978888-A',\n",
       "   'titles': 'hardware-managed programmable associativity caching mechanism monitoring cache misses to selectively implement multiple associativity levels',\n",
       "   'description': 'Detailed Description of the Invention[0001]BACKGROUND OF THE INVENTION 1. Field of the Invention The present invention relates to a data processing device such as a microprocessor or a microcomputer, and more particularly to a technique effective when applied to a data processing device such as superscalar for parallel processing.[0002]2. Description of the Related Art A microprocessor (CPU (Central P  rocessing unit), microcomputer, etc. ) Sequentially fetches a sequence of instructions,  Decrypt and execute. The instructions executed by the microprocessor are now of fixed length with the aim of simplifying the decoding circuit. A microprocessor that executes fixed-length instructions in a pipeline (Pipelining)  It is called an ISC (Red used Instruction Set Computer) type processor.FIG. 1 shows a pipelined implementation method of a microprocessor. Here, for simplification, the normally existing memory access stage (M  EM) is omitted. Individual stages (101, 10)  3, 105, 107) is a unit of time (clock)  The individual instruction processing is completed by sequentially stacking the processing from the first stage to the last stage through the latch group (102, 104, 106). The first stage 101 fetches an instruction (IF). Second  The stage 103 interprets an instruction and reads a register (ID). The third stage 105 executes the operation designated by the instruction function (EX). The fourth stage 107 writes the calculation result to the register arranged in the second stage 103 via the signal line 108 (WB).FIG. 2 shows a conceptual diagram when processing four instructions in a pipeline. If a subsequent instruction uses the contents of the register of the preceding instruction, there is room in the pipeline for the subsequent instruction (called pipeline stall due to data hazard). This state is shown in FIG. The two arrows pointing to the lower left in (a) of FIG. 2 indicate the register read of the subsequent instruction after the register write of the preceding instruction.Therefore, as a means for solving this problem, when the subsequent instruction uses the result of the previous operation, that value is also sent to the operator in the third stage 105 via the signal line 108. The control line for the above is the signal line 109,  110. This adjustment is  This is known as g), which allows execution every clock. It should be noted that 2 facing downward left in FIG.  The two arrows indicate forwarding. Therefore, the number of clocks required for individual instruction processing is four, for example.  However, since each stage processes a new instruction every clock, the instruction processing becomes one instruction per clock. Therefore, since one instruction can be executed in one clock, the smaller the number of execution instructions for performing a certain process (program), the shorter the execution time.Regarding pipeline and forwarding, 1994 Morgan Kaufman Publishers, I  Hennessy et al., `` Computer Organization a  nd Design ”Chapter 6 Enhancing Performance with Pipeli  ning (pages 362 to 450).Next, as an example of a method for improving the processing speed of a microprocessor, a superscalar method (Superscalar method)  ar). In the superscalar system, the number of arithmetic units that can be executed at the same time is plural, for example, two, and accordingly, two instruction fetches and two instruction decodes can be performed at one time. In this case, as shown in FIG. 3A without data dependence, ideally, two instructions can be executed every clock, so that the execution time becomes half as compared with the normal pipeline method. . For the superscalar method, see Nikkei Electronics, November 2, 1989.  7th issue (No.487), pages 191 to 200, \"Next Generation RI  SC, aiming for 100 MIPS in CMOS by introducing parallel processing ”.R adopting the conventional superscalar system  The instruction length of an ISC type microprocessor is fixed at 4 bytes, and the number of operands of arithmetic instructions such as arithmetic operations is generally three. This example is disclosed in Japanese Patent Laid-Open No. 2-1  No. 30634. On the other hand, there is a RISC-type microprocessor with a 2-byte fixed length instruction in order to improve code efficiency (reduce the amount of memory used for storing instructions). However, the RI of the 2-byte fixed length instruction  The SC type microprocessor does not employ the superscalar system. This example is described in JP-A-5-197546.[0009]In order to clarify the problems caused by the superscalar method, description will be made with reference to FIG. The operation of the instructions shown in FIG. 3 is shown below.(1) mov R3, R2 \"copy contents of register R3 to register R2\" (2) mov # 32, R5 \"copy data * 32 * to register R5\" (3) add R4, R2 \"register R4 Add the contents of R2 and the contents of R2 and store the result in R2. ”(4) and R3, R5“ AND the contents of registers R3 and R5 and store the result in R5. ”Instruction (1) above The instruction (2) and the instruction (3) and the instruction (4) have no data dependency (data flow). However, the instruction (1) and the instruction (3), and the instruction (2) and the instruction (4) have data dependency (data flow). That is, instruction (1) and instruction (3)  Both use register R2. Further, the register R5 is used by both the instruction (2) and the instruction (4). Therefore, the instruction (3) must be executed after the execution of the instruction (1). Also, the instruction (4) must be executed after the execution of the instruction (2).That is, when there is no data dependency between the instructions to be executed at the same time, there is no space in the pipeline as shown in FIG. A processing speed twice as fast as when executing only instructions is obtained. However, if there is a data dependency between the instructions that are executed at the same time, the pipeline will be disturbed as shown in FIG.  The processing speed will be the same as when executing only instructions.Therefore, as shown in FIG. 3C, when there is a data dependency between the instructions executed simultaneously,  A method is conceivable in which the subsequent instruction is sent to the next pipeline and the unprocessed instruction nop is executed at the same time as the preceding instruction in place of the subsequent instruction to avoid the disturbance of the pipeline. However, the number of useless instructions increases, the total number of execution instructions increases, and the execution time increases.Next, in order to clarify the problems caused by the instruction format and instruction system, description will be given below with reference to FIGS. 4 and 5.FIG. 4 shows an example of an instruction format (instruction format) and an instruction repertoire in the case of a 4-byte / 3-operand instruction (4-byte fixed length instruction) system. In this figure, the OP field 401 specifies the instruction function. The S1 field 403 is a register number specifying the first input (first operand), the S2 field 404 is a register number specifying the second input (second operand), and the D field 402 is a register number specifying the output (third operand). ) Is placed. That is, this instruction format can specify three operands. Command functions include copying (data transfer), addition, subtraction, and the like. In addition, 4  Compound instructions such as a 1-bit left shift addition instruction asl1add and a 0 extension addition instruction zextadd are also provided due to the margin of the instruction length of the byte instruction system. The asl1add instruction shifts the bit pattern of the first operand one bit to the left and then performs the normal addition, and the zextadd instruction zeros the left half of the bit pattern of the first operand and then performs the normal addition. is there. Note that, for simplification, memory access instructions, branch instructions, etc. that would normally exist are omitted. In the case of a copy command (data transfer command), the S2 field 404 is ignored, and the contents of the register (transfer source register) specified in the S1 field 403 remain unchanged in the D field 402.  It is copied (transferred) to the register (transfer destination register) specified by.FIG. 5 shows an example of the instruction format and instruction repertoire in the case of a 2-byte / 2-operand instruction (2-byte fixed length instruction) system. In FIG. 5, the OP field 501  Specifies the command function. The S1 field 503 has a register number (first operand) that specifies the first input, and the D field 502 has a register number (the same as the register number that specifies the output, the second operand) that specifies the second input. That is, this instruction format can specify two operands. As compared with FIG. 4, the point that the S2 field does not exist is the part that is clearly different from the instruction format of FIG. That is, the number of operands is one less. Further, the remaining field length is shorter than that of FIG.The instruction function includes a copy instruction (data transfer instruction), a 0 extension instruction, a sign extension instruction, and a 1 input transfer instruction as 1 input transfer instruction.  Bit shift left instruction, addition instruction as 2 input operation instruction,  There is a subtraction instruction, etc. Of these, the 1-bit left shift instruction is  Due to the instruction length, the numbers of the input register (transfer source register) and the output register (transfer destination register) are the same. Therefore, in this case, the S1 field stores not the register number but the extended instruction code for specifying the asl1 instruction.In order to clarify the advantages and disadvantages of the 4-byte / 3-operand instruction system and the 2-byte / 2-operand instruction system, consider the following formula, for example.A = b + c + d; (A) This is converted into an instruction sequence (instruction sequence (A1)) of a 4-byte / 3-operand instruction system as follows.Add Rb, Rc, Ra add Ra, Rd, Ra On the other hand, when this is converted into an instruction sequence (instruction sequence (A2)) of a 2-byte / 2-operand instruction system, it becomes as follows.Mov Rb, Ra add Rc, Ra add Rd, Ra If the instruction system has 4 bytes and 3 operands, the number of execution instructions is 2, but storage in the instruction memory (and instruction fetch for execution) The number of bytes is 8 bytes. On the other hand 2  In the case of an instruction system of bytes and 2 operands, the number of executed instructions increases to 3, but the number of bytes stored (and instruction fetch for execution) in the instruction memory decreases to 6 bytes. This tendency generally holds. It is generally accepted that the 4-byte / 3-operand instruction system has a 10 to 20% smaller number of executed instructions than the 2-byte / 2-operand instruction system, but the stored byte number is increased by 60%.However, there is one problem with the 2-byte / 2-operand instruction system. It involves the extra data transfer instructions needed in the two-operand instruction set. Although the above equation (A) can be similarly explained, the following equation (B) will be explained here.A = b + c; This is converted into an instruction sequence (instruction sequence (B1)) of a 4-byte / 3-operand instruction system as follows.On the other hand, when this is converted into a 2-byte / 2-operand instruction sequence (instruction sequence (B2)), it becomes as follows.Mov Rb, Ra add Rc, Ra 4 bytes / 3 operands instruction system can be executed in one clock by using only one of the pipelines. On the other hand, in the case of a 2-byte / 2-operand instruction system, a data flow exists between two extra instructions, a copy (data transfer) instruction mov and a subsequent add instruction add. That is, the value resulting from the preceding instruction is used by the subsequent instruction. Therefore, it is necessary to wait for the result of the preceding instruction mov to execute the succeeding instruction add, which takes two clocks. If the following instruction sequence mov Rb, Ra add Rc, Rd, there is no data flow between two instructions, so 2  Although it can be executed in one clock using one pipeline, the instruction string (B2) corresponding to the expression (B) requires extra processing time because of the data flow. When the superscalar system is adopted, it can be said that the 2-byte / 2-operand instruction system tends to take more execution time than the 4-byte / 3-operand instruction system because of the large number of execution instructions.The problem of the 2-byte / 2-operand instruction system has been explained by comparing it with the 4-byte / 3-operand instruction system.  When executing a 4-operand operation, the instruction sequence (A  There is a data flow as in 1), and there are similar problems to the 2-byte / 2-operand instruction system.The existing microprocessors are:  Due to the accumulation of software assets and the inheritance of software assets that have been built up to date, it is difficult to change the instruction format and instruction system. Therefore, it is necessary to improve the processing speed while maintaining the conventional instruction format and instruction system.An object of the present invention is to reduce the pipeline stall due to data hazard in the superscalar system and to realize the improvement of the processing speed.Another object of the present invention is to reduce the number of execution instructions and realize an improvement in processing speed.Further, another object of the present invention is 2 bytes.  It is to realize an improvement in the processing speed of a data processing device that executes a two-operand instruction system.The above and other objects and novel characteristics of the present invention will be apparent from the description of this specification and the accompanying drawings.[0031]The following is a brief description of an outline of a typical invention among the inventions disclosed in the present application.The pipeline type data processing device has a dependency on the stage for reading a fixed length instruction stored in the instruction memory and the data executed by the plurality of read instructions, and the plurality of instructions have a predetermined value. If there is a relationship,  It has a stage for changing the plurality of instructions so that the plurality of instructions can be executed in parallel in a plurality of pipelines, and a stage for executing the changed plurality of instructions in parallel.The instruction system is a 2-byte 2-operand instruction system, but is internally processed as a 3-operand instruction system. That is, the instruction fetch stage fetches two instructions. The instruction decode stage decodes two adjacent instructions. Two sets of computing units for the computing stage are prepared. Then, two adjacent two-operand instructions are  The instruction decoder is provided with means for detecting equality with three three-operand instructions and, if so, means for integrating two instructions into one three-operand instruction and sending it to the subsequent execution stage. As a result, one 3-operand instruction is sent to the execution stage and executed in one clock. Further, when it is detected that two adjacent instructions have a data flow relationship but cannot be integrated into one three-operand instruction, means for sending the source data of the preceding instruction to the arithmetic unit for the subsequent instruction is provided.This allows two instructions to be executed simultaneously. Due to the above two, it is possible to execute two instruction processing in one clock, which conventionally took two clocks due to the data flow between the adjacent instructions. Therefore, the number of execution clocks as a whole can be reduced.[0035]DESCRIPTION OF THE PREFERRED EMBODIMENTS A microprocessor according to an embodiment of the present invention will be described in order of items.&lt;&lt; Microprocessor Pipeline Data Path &gt;&gt; FIG. 6 shows a pipeline data path of the microprocessor according to the embodiment of the present invention. It will be described below that the microprocessor fetches and executes an instruction of a 2-byte / 2-operand instruction system as shown in FIG.The first stage 700 is an instruction fetch stage. The second stage 800 is an instruction decode stage. The third stage 900 is a calculation stage. The fourth stage 1000 is a stage for writing to a register and forwarding. A first latch group 750, a second latch group 850, and a third latch group 850 are provided between each stage.  There is a latch group 950. It should be noted that each stage in the embodiments of FIG. 6 and subsequent figures shows the flow of data, and does not show the physical arrangement of the circuits and the like described in each stage.&lt;&lt; Instruction Fetch Stage &gt;&gt; FIG. 7 is a detailed block diagram of the first stage 700 and the first latch group 750. The first stage 700 includes a program counter (PC) 701, a fetch controller 702, and an instruction memory 703. The role of the instruction fetch stage of the first stage 700 is to pass the instructions in the instruction memory to the next instruction decode stage of the second stage 800.The address indicated by the program counter 701 is sent to the signal line 704, and the instruction 4 bytes (2 instructions) in the instruction memory 703 are fetched to the fetch control unit 702 via the signal line 705. The two instructions fetched by the fetch control unit 702 are sent to the signal line 7 according to the signal line 803.  It is sent to 06 and 707. Then the first latch group 750  The content of the signal line 706 is stored in the latch 751 therein, and the content of the signal line 707 is stored in the latch 752. The latch 751 stores the first instruction and the latch 752 stores the second instruction. Here, the first instruction is the second instruction in the instruction sequence.  It precedes the order. In the present application, the first instruction is also referred to as a preceding instruction and the second instruction is also referred to as a subsequent instruction.The value of the program counter 701 is set to 4  The value added with is reset to the program counter 701. The value of the program counter 701 (the value of the address that accesses the instruction memory) is set to be a multiple of 2 so that a 4-byte instruction (2 instructions) is fetched from the instruction memory and latched in the first latch group 750. The first stage 700 operates. However, the 4-byte instruction fetched from the instruction memory is not always latched in the first latch group 750 as it is. That is, the second stage 80  When viewed from the instruction decoder stage which is 0, information about how many bytes ahead of the current instruction the next desired instruction is sent to the fetch control unit 702 of the first stage 700 via the signal line 803.  In response to this, the fetch control unit 702 of the first stage 700 utilizes the buffer existing in the fetch control unit 702 to send out the desired 4 bytes (2 instructions) of the instruction decoding stage to the signal lines 706 and 707. 1 latch group 7  It stores in the latches 751 and 752 in 50.&lt;&lt; Instruction Decode Stage &gt;&gt; FIG. 8 shows a detailed block diagram of the second stage 800 and the second latch group 850. The second stage 800 includes a decode controller 8  01 and register file 802. The role of the instruction decode stage of the second stage 800 is as follows. (1) Prepare input data used by two instructions and pass it to the next operation stage (third stage 900).(2) The data flow between two instructions is inspected, and the execution result of the preceding instruction (first instruction) is compared with the subsequent instruction (second instruction).  If two instructions are not used, the processing stage is requested to process two instructions.(3) The data flow between two instructions is checked, and if the execution result of the preceding instruction is used by the succeeding instruction,  Modify the two instructions according to the given rules.(4) The number of instructions requested to be processed in the operation stage is sent to the instruction fetch stage to prepare for the next pipeline processing.Instruction decode stage (second stage 80  The operation of 0) will be described below. FIG. 12 shows a detailed block diagram of a part of the decoding control unit 801. The decode control unit 801 has a data flow detection circuit DFDC, an instruction conversion circuit INCC, and the like. Instruction conversion circuit INCC  Has selectors SEL1 to SEL4, processes the contents of the latches 751 and 752 under the control of the data flow detection circuit DFDC, and converts them into the contents of the latches 851 and 852.OP of the first instruction which is the content of the latch 751  The field is OP-1, the D field is D-1, and the S1 field is S1-1. The OP field of the second instruction, which is the contents of the latch 752, is OP-2, the D field is D-2, and the S1 field is S1-2. Latch 85  The OP field of the first instruction, which is the content of 1, is OPN-  1, D field is DN-1, S1 field is S1N-  Let it be 1. The OP field of the second instruction, which is the contents of the latch 852, is OPN-2, the D field is DN-2, and S1.  Let the field be S1N-2. The second instruction, which is the content of the latch 852, further has an S2 field, which is S2.  2N-2.The decode control unit 801 fetches two instructions, a preceding instruction and a succeeding instruction, from the latches 751 and 752 in the latch group 750 via signal lines 753 and 754. Then, the data flow detection circuit DFDC checks whether or not the register number of the D field (D-1) of the preceding instruction is equal to the register number of the S1 field (S1-2) or the D field (D-2) of the subsequent instruction. .If the register numbers are not equal, it can be determined that there is no data flow. If the register numbers are the same, it can be determined that there is a data flow. Then, the data flow detection circuit DFDC receives the control signal 821.  To 824, and switches the selectors SEL1 to SEL4 respectively to switch the latch 8 via the signal lines 813 and 804.  The first and second instructions converted into 51 and 852 are stored. The invalid command NOP820 generated by INCC is always input to one input of the selectors SEL1 and SEL2.Further, a new command generated by the data flow detection circuit DFDC is input to the selector SEL2 via the signal line 840. The new instruction input to the selector SEL2 via the signal line 840 is generated by the data flow detection circuit DFDC based on 0P-1 of the latch 751 and 0P-2 of the latch 752, and is input to 0P-2 of the latch 852. Is stored. As an example of the new instruction generated, 0P-1 is a 1-bit shift instruction asl1  There is a 1-bit shift addition instruction asl1add generated when 0P-2 is the addition instruction add.The selector SEL3 is S1-1 or D-.  This is for selecting one of the two values and storing it in S1N-2.The selector SEL4 is S1-1 or S1.  -2 is selected and stored in S2N-2.FIG. 11 shows rules for converting two instructions in the instruction decode stage into two instructions in the operation stage (conditions and instructions across the operation stage). The first instruction is either translated or not translated into an invalid instruction nop. The second instruction is converted from the 2-byte / 2-operand format shown in FIG. 5 to the 4-byte / 3-operand format shown in FIG. 4 or converted into an invalid instruction nop. The ALU in FIG. 11 is a general name for two-input operation instructions such as arithmetic operations (addition, subtraction, etc.) and logical operations (logical product, logical sum, etc.). As described above, zextALU is an instruction that zero-extends the first input to the arithmetic unit and performs ALU operation. asl1ALU is an instruction for shifting the first input to the arithmetic unit to the left by 1 bit and performing the ALU operation.FIG. 11A shows a 2-operand type operation instruction which requires two instructions, a copy instruction mov and an operation instruction ALU, in order to execute a three-operand operation instruction.  It is converted into a three-operand operation instruction ALU. This is the case where the register number of the D field of the copy instruction mov matches the register number of the D field of the arithmetic instruction ALU. In this case, the first instruction is converted into an invalid instruction nop, and the second instruction is converted into a three-operand arithmetic instruction and passed to the arithmetic stage.The values stored in the fields of the latches 851 and 852 are summarized as follows. In addition,  “←” means that the value on the right side of “←” is stored on the left side of “←”.[0055]  Specifically, it is as follows. OP-1 of the latch 751  It is assumed that \"mov\" is stored in \"\", \"RN\" is stored in \"D-1\", and \"Rm\" is stored in \"S1-1\". Also, the latch 752  OP-2 has \"ALU\", D-2 has \"RN\", S  It is assumed that “Rl” is stored in 1-2. Where D  The data flow detection circuit DFDC detects that both -1 and D-2 are \"RN\" and the register numbers match. Then, the data flow detection circuit DFDC causes the selector SEL1 via 821 so that SEL1 selects the nop instruction 820.  And stores the nop instruction 820 in OPN-1 of the latch 851. The data flow detection circuit DFDC includes a latch 7  51 D-1 and S1-1 are directly connected to the signal lines 753 and 8  The data is stored in DN-1 and S1N-1 of the latch 851 via 13.Further, the data flow detection circuit DFDC controls the selector SEL2 via the control signal 822 so that the selector SEL2 selects OP-2 of the latch 752, and OP-2 of the latch 752 is OPN- of the latch 852.  2 is stored. Further data flow detection circuit DFDC  Controls the selector SEL3 via the control signal 823 so that the selector SEL3 selects S1-1 of the latch 751, and the S1-1 of the latch 751 is changed to the S1N of the latch 852.  -2. Further, the data flow detection circuit DFDC stores D-2 of the latch 752 in DN-2 of the latch 852 as it is via the signal line 754. Further, in the data flow detection circuit DFDC, the selector SEL4 has a latch 75.  The selector SEL4 is controlled via 834 so as to select S1-1 of 2 and S1-1 of latch 752 is changed to S2N−.  2 is stored.FIG. 11B shows the case where the register number of the D field of the copy instruction mov matches the register number of the S1 field of the arithmetic instruction ALU. In this case, the second instruction is converted into a three-operand operation instruction and passed to the operation stage without changing the first instruction.The values stored in the fields of the latches 851 and 852 are summarized as follows.  Specifically, it is as follows. OP-1 of the latch 751  It is assumed that \"mov\" is stored in \"\", \"RN\" is stored in \"D-1\", and \"Rm\" is stored in \"S1-1\". Also, the latch 752  OP-2 has \"ALU\", D-2 has \"Rx\", S  It is assumed that “RN” is stored in 1-2. Where D  The data flow detection circuit DFDC detects that both -1 and S1-2 are \"RN\" and the register numbers match. The data flow detection circuit DFDC then selects the selector SEL.  1 controls the selector SEL1 via 821 so that OP-1 of the latch 751 (mov instruction in this case) is selected.  The v instruction is stored in OPN-1 of the latch 851.In the data flow detection circuit DFDC, the D-1 and S1-1 of the latch 751 are directly connected to the signal line 753,  The data is stored in DN-1 and S1N-1 of the latch 851 via 813. Further, the data flow detection circuit DFDC controls the selector SEL2 via the control signal 822 so that the selector SEL2 selects OP-2 of the latch 752, and stores OP-2 of the latch 752 in OPN-2 of the latch 852. . The data flow detection circuit DFDC stores D-2 of the latch 752 as it is in DN-2 of the latch 852 via the signal lines 754 and 804. Further, the data flow detection circuit DFDC controls the selector SEL3 via the control signal 823 so that the selector SEL3 selects S1-1 of the latch 751, and the S1N-2 of the latch 852 is controlled by the selector SEL3 via the signal line 804. Store S1-1. The data flow detection circuit DFDC connects S1-2 of the latch 752 via the signal lines 754 and 804.  It is stored in S2N-2 of the latch 852 as it is.It should be noted that the values specifically stored in the latches 851 and 852 are made as described above.  (2) It will be omitted after this. This is because the values to be stored in the latches 851 and 852 can be created in the same manner as (1) and (2) in FIG.FIG. 11 (3) is for converting a 1-operand type 1-bit left shift instruction into a 2-operand type 1-bit left shift instruction. Register field number of copy instruction mov and D of 1-bit left shift instruction asl1  This is the case when the field register numbers match. In this case, the first instruction becomes an invalid instruction nop in the operation stage,  The second instruction is converted into a 2-operand 1-bit left shift instruction asl1 and passed.That is, each field is converted as follows.[0063]  In FIG. 11, (4) is a case where the first instruction is the copy instruction mov and the second instruction or condition does not correspond to (1), (2) and (3) in FIG. In this case, the first instruction remains unchanged and the second instruction is converted into the invalid instruction nop and passed to the operation stage. The \"other\" instructions are executed in the next pipeline, which is one clock offset.That is, each field is converted as follows.OPN-1 ← OP-1, DN-1 ← D-1, S1N-1 ← S1-1, OPN-2 ← nop In FIG. 11 (5), 0 extension instruction zext and operation instruction ALU are set to 0.  It is combined with the extended operation instruction zextALU. This is the case where the register number of the D field of the 0 extension instruction zext matches the register number of the D field of the arithmetic instruction ALU.  In this case, the first instruction is an invalid instruction nop in the operation stage.  The second instruction is a 3-operand 0-extended operation instruction zextALU  Is converted to and passed.That is, each field is converted as follows.[0067]  FIG. 11 (6) shows a case where the register number in the D field of the 0 extension instruction zext and the register number in the S1 field of the add instruction add match. In this case, the first instruction remains in the operation stage, and the second instruction has a 3-operand value of 0.  Converted to the extended addition instruction zextadd and passed.That is, each field is converted as follows.[0069]  In addition to the addition instruction add, a commutative logical product instruction and, a logical sum instruction or, or the like may be converted in the same manner.In (7) of FIG. 11, the first instruction is the 0 extension instruction ze.  This is the case where the second instruction or condition does not correspond to (5) or (6) in FIG. 11 at xt. In this case, the first instruction remains unchanged and the second instruction is converted into the invalid instruction nop and passed to the operation stage. The \"other\" instructions are executed in the next pipeline, which is one clock offset.That is, each field is converted as follows.OPN-1 ← OP-1, DN-1 ← D-1, S1N-1 ← S1-1, OPN-2 ← nop (8) in FIG. 11 is a 1-bit left shift instruction asl1 and an operation instruction  ALU and 1-bit left shift operation instruction asl1ALU are combined. This is the case where the register number of the D field of the 1-bit left shift instruction asl1 and the register number of the D field of the arithmetic instruction ALU match. In this case, the first instruction is converted into the invalid instruction nop, and the second instruction is converted into the 3-operand 1-bit left shift operation instruction asl1ALU and passed to the operation stage.That is, each field is converted as follows.[0074]  FIG. 11 (9) shows a case where the register number of the D field of the 1-bit left shift instruction asl1 and the register number of the S1 field of the add instruction add match. In this case, the second instruction is converted to the 3-operand 1-bit left shift addition instruction asl1add and passed to the operation stage without changing the first instruction.That is, each field is converted as follows.[0076]  In (10) of FIG. 11, the first instruction is a 1-bit left shift instruction as.  This is the case where the second instruction or condition does not correspond to (8) or (9) in FIG. 11 at l1. In this case, the first instruction remains unchanged and the second instruction is converted into the invalid instruction nop and passed to the operation stage. The \"other\" instructions are executed in the next pipeline, which is one clock offset.That is, each field is converted as follows.OPN-1 ← OP-1, DN-1 ← D-1, S1N-1 ← S1-1, OPN-2 ← nop (11) in FIG. 11 shows a case where there is no data flow between two instructions. No instruction conversion is performed.The two new instructions converted by the decode controller 801 are sent to the signal lines 813 and 804 and stored in the latches 851 and 852 in the second latch group 850, respectively. In addition, the inspection result of the relationship between the preceding instruction and the succeeding instruction in the data flow detection circuit DFDC is shown in the PC of FIG.  The instruction fetch stage (first stage 700) is communicated via the signal line 803 based on the updated value. That is,  The instruction fetch stage is informed of the information specifying the two instructions to be decoded in the next pipeline.Further, the decode controller 801  S1 field (S1-1), D field (D-  1), and the S1 field 503 (S1-  2), the four register numbers of the D field 502 (D-2) are sent to the register file 802 via the signal lines 805, 806, 807 and 808. Register file 80  The contents of the four registers in 2 are the signal lines 809 and 81.  0, 811, and 812, and latches 853 (1-1st input) and latches 854 (first latch) in the second latch group 74.  -2 input), latch 855 (2-1 input), latch 8  56 (2nd-2nd input).A block diagram of the register file 802 is shown in FIG. The register file 802 includes a register RGSTR, a register control circuit RCC, and the like. Register RGSTR has 4 read ports and 2  There is a light port of a book and signal lines 809 and 8 respectively.  10, 811, 812 and signal lines 955, 956 are connected. Therefore, the register file 802 can read the contents of four registers at the same time. Also, it is possible to write to two registers at the same time.In the case of (1), (5), and (8) of FIG. 11, the contents of the two registers designated by (S1-1) and (S1-2) are read onto the signal lines 811, 812. The latch 855 (the 2nd-1st input) and the latch 856 (the 2nd-2nd)  Input).In the case of (2), (6), and (9) of FIG. 11, the contents of the register designated in (S1-1) are read out on the signal lines 809 and 811, and the latch 853 (first-first) is read. 1  Input) and the latch 855 (2-1st input). The content of the register designated by (D-2) is the signal line 81.  2 is read out and stored in the latch 856 (2-2nd input).In the case of (3) in FIG. 11, the contents of the register designated in (S1-1) are read out to the signal line 811, and stored in the latch 855 (second 2-1 input).In the case of (4), (7), and (10) of FIG. 11, the contents of the register designated by (S1-1) are read out to the signal line 809, and the latch 853 (first-1 input) is read. ).In the case of (11) in FIG. 11, (S1-  1), (D-1), (S1-2), and the contents of the four registers designated by (D-2) are signal lines 809, 810, and 8  11 and 812, the latch 853 (first-1 input), the latch 854 (first-2 input), the latch 855.  It is stored in the latch 856 (the 2-2nd input).&lt;&lt; Execution Stage &gt;&gt; FIG. 9 shows the third stage 9  00 and the third latch group 950 are shown in detail. The third stage 900 includes an arithmetic control unit 901 and an ALU.  Operation units 902, 90 including (Alithmetic Logic Unit)  3, the first input adjustment circuits 904 and 905, the selector 906,  And 907. The role of the execution stage, which is the third stage 900, is to execute the operation of two instructions.The computing unit 902 and the first input adjusting circuit 904 are circuits for computing the preceding instruction, and are the second latch group 850.  From the two latches 853 and 854 in the first input to the first input and the second input from the second input via the signal lines 859 and 860 to the selector 90.  Sent to 6. In addition, the first and second outputs from the two latches 953 and 954 in the third latch group 950 are the signal line 9  55, 956 to the selector 906.The selector 906 selects one of the signal lines 859, 955 and 956 according to the signal line 1001, and selects the arithmetic unit 90 via the first input circuit 904 and the signal line 912.  Send the data to 2. Also, the selector 906 is the signal line 86.  One of 0, 955 and 956 is selected according to the signal line 1001 and data is sent to the arithmetic unit 902 via the signal line 913.The arithmetic control unit 901 takes in the instruction of the latch 851 in the second latch group 850, and connects the arithmetic unit 902 and the first input adjusting circuit 904 to the signal line 911 according to the instruction function.  And 908 to perform the operation for the preceding instruction. The resulting value (first output) is stored in the latch 953 in the third latch group 950 via the signal line 918.On the other hand, the arithmetic unit 903 and the first input adjusting circuit 9  Reference numeral 05 denotes a circuit for calculating a subsequent instruction. The two latches 855 and 856 in the second latch group 850 connect the 2-1 input and the 2-2 input to the selector 907 via the signal lines 861 and 862. Sent. In addition, 2 in the third latch group 950  The first output and the second output from one of the latches 953 and 954 are sent to the selector 907 via the signal lines 955 and 956.The selector 907 selects one of the signal lines 861, 955 and 956 according to the signal line 1002, and selects the arithmetic unit 90 via the first input circuit 905 and the signal line 914.  Send data to 3. Also, the selector 907 is the signal line 86.  One of 2, 955 and 956 is selected according to the signal line 1002 and data is sent to the arithmetic unit 903 via the signal line 915. The arithmetic control unit 901 takes in the instruction of the latch 852 in the second latch group 850, controls the arithmetic unit 903 and the first input adjustment circuit 905 with the signal lines 910 and 909 according to the instruction function, and performs the arithmetic operation for the subsequent instruction. I do. The resulting value (second output) is stored in the latch 954 in the third latch group 950 via the signal line 919.The above is the execution stage (third stage 90).  0), but the s1add instruction and zextadd instruction will be supplementarily described. The asl1add instruction and zextadd instruction can be realized by finely adjusting the first input to the arithmetic unit 902 or 903 capable of realizing addition. That is, the first input is not directly input to the arithmetic unit, but is input to the first input adjustment circuit 904 or 905, and the arithmetic control unit 901 controls it.  This can be realized by performing 1-bit left shift or 0-extension adjustment, inputting it to the arithmetic unit 902 or 903, and controlling it to perform normal addition.&lt;&lt; Write Stage &gt;&gt; FIG. 10 is a block diagram for explaining the operation of the fourth stage 1000. The fourth stage 1000 is composed of a register number decoding circuit 1010 and a forwarding control circuit 1020. The role of the fourth stage 1000, which is a stage that performs writing to a register and forwarding, is as follows.(1) Write the operation results of two instructions to the register of the specified number.(2) If the operation results of two instructions are used in the operation stage (next pipeline) at the current clock, it is not the value latched in the second latch group 850,  The value latched in the third latch group 950 is adjusted so as to be input to the arithmetic unit (forwarding).First, the process (1) will be described. The fourth stage 1000 includes latches 95 in the third latch group 950.  The two instructions calculated immediately before from 1, 952 are sent to the signal line 9  It is taken into the register number decoding circuit 1010 via 57 and 958. Further, the latch 953 in the third latch group 950,  The value of the immediately preceding calculation result from 954 is output to signal lines 955 and 956  To send to. Then, the register number decoding circuit 1010 sends the register numbers in the two D fields of the instruction executed immediately before to the signal lines 1003 and 1004 to specify the write register number of the register file 802 of the second stage 800. Thus, the values of the two calculation results are written in the register file 802.Next, the process (2) will be described. The fourth stage 1000 includes latches 851 in the second latch group 850,  The two instructions to be calculated this time from 852 are signal line 857,  It is taken into the forwarding control circuit 1020 via 858. In addition, the latches 951 in the third latch group 950,  The two instructions calculated immediately before from 952 are sent to the signal line 95.  Forwarding control circuit 1020 via 7, 958  Take in. Then, the forwarding control circuit 102  For 0, it is checked whether the register numbers in the two D fields of the instruction executed immediately before and the numbers of the S1 field and S2 field of the two instructions to be calculated this time have the same value. If there is the same one as a result of the inspection, the latches 853, 854, 8 in the second latch group 850 are checked for that portion.  The forwarding control circuit 1020 is configured so that the values (signal lines 955 and 956) in the latches 953 and 954 in the third latch group 950 are input to the arithmetic units 902 and 903 instead of the values in 55 and 856. , 1002 to control the two selectors 906 and 907.&lt;&lt; Processing of Instruction Sequence &gt;&gt; FIG. 13 shows how the instruction sequence is processed by individual clocks in the superscalar processing of the present invention. For comparison, it is also shown how the instruction sequence is processed with individual clocks only when the invalid instruction nop is inserted when the two instructions cannot be executed in parallel. In the present invention, it is possible to process two instructions per clock. Also,  In the present invention, the number of execution instructions is 6 less and the execution time is shorter than that in the case where the invalid instruction nop is inserted when two instructions cannot be executed in parallel (about 40% in this instruction sequence).  There are less execution instructions).If the preceding instruction is a transfer type instruction such as mov, zext, asl1 and the following instruction is an addition instruction such as add, two instructions are converted into one instruction and executed in one clock. The number of clocks can be reduced and the speed can be increased. Further, even if the preceding instruction is a transfer instruction and the subsequent instruction is an operation instruction, and there is a data flow between the two, it is executed with one clock, so that the number of clocks as a whole can be reduced and the speed can be increased. .&lt;&lt; Application Example to Microcomputer &gt;&gt; FIG. 1  4 shows a microcomputer system using the superscalar system of the present invention. The microcomputer MCU includes a central processing unit CPU, a floating point processing unit FPU, and a multiplier MULT having a product-sum operation function.  A memory management unit MMU for converting a logical address into a physical address, an instruction and data cache memory CACHE, a cache controller CCNT, an external bus interface EBIF, a 32-bit logical address bus LABUS, and a 32-bit physical address data bus. PABUS and 32-bit data bus DBUS, D  BS and BS are formed on a semiconductor substrate such as single crystal silicon and resin-sealed (sealed in a plastic package).The microcomputer MCU is connected via an external address bus EAB and a data bus EDB to a main memory unit MM composed of a semiconductor memory using dynamic memory elements such as DRAM as memory cells.The central processing unit CPU is composed of the pipeline data path shown in FIG. However, a memory access stage is provided between the third stage and the fourth stage to form a so-called 5-stage pipeline. In addition,  The data memory and the instruction memory 703 correspond to the cache memory CACHE or the main memory MM and do not exist in the central processing unit CPU. The central processing unit CPU executes the instruction of the instruction system of the 2-byte fixed length instruction, and the arithmetic unit 90  Reference numerals 2 and 903 each have a 32-bit ALU or the like. The register file 802 has 16 general-purpose registers having a 32-bit length. That is, the central processing unit CPU executes the instructions of the 2-byte / 2-operand instruction system (instruction set) described in Japanese Patent Laid-Open No. 5-197546. The CPU described in JP-A-5-197546 is not a superscalar system. On the other hand, the central processing unit CPU is a superscalar system, and the central processing unit CPU can execute the same command system as the command system described in the application number 1992/897457. Therefore,  High-speed performance can be achieved while maintaining compatibility with existing software (object code compatibility). Also,  The high code efficiency, which is a characteristic of 2-byte fixed length instructions, can be maintained.Although the invention made by the present inventor has been specifically described based on the embodiments, the present invention is not limited to the embodiments and various modifications can be made without departing from the scope of the invention. There is no end. For example,  In the embodiment shown in FIG. 6 and the following, the case of the 2-byte / 2-operand instruction system has been described, but it is also applicable to the case of the 4-byte / 3-operand instruction system. Although the 0 extension instruction and the 0 extension operation instruction have been described, the same can be applied to the sign extension instruction and the sign extension operation instruction. Further, although the case where the register is specified in the S1 field of the transfer instruction of the first instruction has been described, the case where the S1 field is immediate data can be applied.[0105]The effects obtained by typical ones of the inventions disclosed in the present application will be briefly described as follows.The instructions can be executed in parallel by detecting the data flow between adjacent instructions and converting the instructions. Therefore, it is possible to execute a plurality of instruction processes in one clock, which conventionally takes a plurality of clocks. Thereby,  The number of execution clocks as a whole can be reduced.[Brief description of drawings]FIG. 1 illustrates a pipelined implementation of a microprocessor.FIG. 2 shows a concept of pipeline processing.FIG. 3 shows the concept of superscalar processing.FIG. 4 shows an example of an instruction format and an instruction repertoire of a 4-byte instruction system.FIG. 5 shows an example of a command format and a command repertoire of a 2-byte command system.FIG. 6 is a diagram showing a data path of a pipeline of a microprocessor according to an embodiment of the present invention.FIG. 7 is a detailed block diagram of a first stage and a first latch group.FIG. 8 is a detailed block diagram of a second stage and a second latch group.FIG. 9 is a detailed block diagram of a third stage and a third latch group.FIG. 10 is a block diagram illustrating the operation of the fourth stage.FIG. 11 shows rules for converting two instructions in the instruction decode stage into two instructions in the operation stage.FIG. 12 shows a detailed block diagram of a part of a decoding control unit.FIG. 13 shows how an instruction sequence is processed with individual clocks.FIG. 14 is a diagram of a microcomputer system using the superscalar system of the present invention.FIG. 15 is a block diagram of a register file.[Explanation of symbols]101 ... 1st stage, 103 ... 2nd stage, 1  05 ... 3rd stage, 107 ... 4th stage, 10  8, 109, 110 ... Signal line, 401 ... OP field, 402 ... D field, 403 ... S1 field, 404 ... S2 field, 501 ... OP field, 502 ... D field, 503 ... S1 Field: 700 ... First stage, 800 ... Second stage, 900 ... Third stage, 1000 ... Fourth stage, 701 ... Program counter, 702 ... Fetch controller, 703 ... Instruction memory, 704 , 705,  706, 707 ... Signal line, 751, 752 ... Latch, 801, Decode control unit, 802 ... Register file, 803, 804, 805, 806, 807, 8  08, 809, 810, 811, 812, 813 ... Signal lines, 851, 852, 853, 854, 855, 85  6 ... Latch, 857, 858, 859, 860, 86  1, 862 ... Signal line, 901 ... Arithmetic control unit, 902  ... calculator, 903 ... calculator, 904 ... first input adjusting circuit, 905 ... first input adjusting circuit, 906 ... selector, 907 ... selector, 908, 909, 910, 91  1, 912, 913, 914, 915, 916, 91  7, 918, 919 ... Signal line, 951, 952, 95  3, 954 ... Latch, 955, 956, 957, 95  8 ... Signal line, 1001, 1002, 1003, 100  4 ... Signal line, 1010 ... Register number control circuit, 1  020 ... Forwarding control circuit, INCC ... Command conversion circuit, DFDC ... Data flow detection circuit, MC  U ... Microcomputer, CPU ... Central processing unit, FPU ... Floating point processing unit, MULT ...  ... Multiplier, MMU ... Memory management unit, CACHE  ... Instruction and data cache memory, CCNT ...  ... cache controller, EBIF ... external bus interface, LABUS ... 32-bit logical address bus, PABUS ... 32-bit physical address data bus, DBUS, DBS ... 32-bit data bus,  EAB ... External address bus, EDB ... External data bus, MM ... Main memory, RCC ... Register control circuit, RGSTR ... Register.'}}]"
      ]
     },
     "execution_count": 541,
     "metadata": {},
     "output_type": "execute_result"
    }
   ],
   "source": [
    "input_keyword = \"artifical\"\n",
    "vector_of_input_keyword = model.encode(input_keyword)\n",
    "\n",
    "query = {\n",
    "    \"field\" : \"embeddings\",\n",
    "    \"query_vector\" : vector_of_input_keyword,\n",
    "    \"k\" : 5,\n",
    "    \"num_candidates\" : 500\n",
    "}\n",
    "\n",
    "res = es.knn_search(index = \"all_patents\",knn=query,source=[\"patent_number\",\"titles\",\"description\"])\n",
    "res[\"hits\"][\"hits\"]\n"
   ]
  }
 ],
 "metadata": {
  "kernelspec": {
   "display_name": "Python 3",
   "language": "python",
   "name": "python3"
  },
  "language_info": {
   "codemirror_mode": {
    "name": "ipython",
    "version": 3
   },
   "file_extension": ".py",
   "mimetype": "text/x-python",
   "name": "python",
   "nbconvert_exporter": "python",
   "pygments_lexer": "ipython3",
   "version": "3.11.2"
  }
 },
 "nbformat": 4,
 "nbformat_minor": 2
}
